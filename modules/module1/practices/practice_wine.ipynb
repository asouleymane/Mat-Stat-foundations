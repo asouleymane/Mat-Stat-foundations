{
 "cells": [
  {
   "cell_type": "markdown",
   "metadata": {},
   "source": [
    "# Introduction to statistics with `R`\n",
    "\n",
    "This is your first practice notebook in this course. The purpose of this notebook is to apply the commands and knowledge aquired through the lab and videos. Some exercises might introduce new commands and packages to you. The notebook will be incomplete for you start writing the code to modify/produce output.\n",
    "\n",
    "We will be working with wine dataset. It has 6 independent variables and one dependent variable, price.\n",
    "\n",
    "Look in the code samples for\n",
    "```R\n",
    "<what goes in here>\n",
    "    or\n",
    "<replace ... >\n",
    "```\n",
    "This is where you should be modifying the code before running it."
   ]
  },
  {
   "cell_type": "markdown",
   "metadata": {},
   "source": [
    "## Read in the Data"
   ]
  },
  {
   "cell_type": "code",
   "execution_count": 3,
   "metadata": {
    "collapsed": false
   },
   "outputs": [
    {
     "data": {
      "text/html": [
       "<table>\n",
       "<thead><tr><th scope=col>Year</th><th scope=col>Price</th><th scope=col>WinterRain</th><th scope=col>AGST</th><th scope=col>HarvestRain</th><th scope=col>Age</th><th scope=col>FrancePop</th></tr></thead>\n",
       "<tbody>\n",
       "\t<tr><td>1952    </td><td>7.4950  </td><td>600     </td><td>17.1167 </td><td>160     </td><td>31      </td><td>43183.57</td></tr>\n",
       "\t<tr><td>1953    </td><td>8.0393  </td><td>690     </td><td>16.7333 </td><td> 80     </td><td>30      </td><td>43495.03</td></tr>\n",
       "\t<tr><td>1955    </td><td>7.6858  </td><td>502     </td><td>17.1500 </td><td>130     </td><td>28      </td><td>44217.86</td></tr>\n",
       "\t<tr><td>1957    </td><td>6.9845  </td><td>420     </td><td>16.1333 </td><td>110     </td><td>26      </td><td>45152.25</td></tr>\n",
       "\t<tr><td>1958    </td><td>6.7772  </td><td>582     </td><td>16.4167 </td><td>187     </td><td>25      </td><td>45653.81</td></tr>\n",
       "\t<tr><td>1959    </td><td>8.0757  </td><td>485     </td><td>17.4833 </td><td>187     </td><td>24      </td><td>46128.64</td></tr>\n",
       "</tbody>\n",
       "</table>\n"
      ],
      "text/latex": [
       "\\begin{tabular}{r|lllllll}\n",
       " Year & Price & WinterRain & AGST & HarvestRain & Age & FrancePop\\\\\n",
       "\\hline\n",
       "\t 1952     & 7.4950   & 600      & 17.1167  & 160      & 31       & 43183.57\\\\\n",
       "\t 1953     & 8.0393   & 690      & 16.7333  &  80      & 30       & 43495.03\\\\\n",
       "\t 1955     & 7.6858   & 502      & 17.1500  & 130      & 28       & 44217.86\\\\\n",
       "\t 1957     & 6.9845   & 420      & 16.1333  & 110      & 26       & 45152.25\\\\\n",
       "\t 1958     & 6.7772   & 582      & 16.4167  & 187      & 25       & 45653.81\\\\\n",
       "\t 1959     & 8.0757   & 485      & 17.4833  & 187      & 24       & 46128.64\\\\\n",
       "\\end{tabular}\n"
      ],
      "text/plain": [
       "  Year Price  WinterRain AGST    HarvestRain Age FrancePop\n",
       "1 1952 7.4950 600        17.1167 160         31  43183.57 \n",
       "2 1953 8.0393 690        16.7333  80         30  43495.03 \n",
       "3 1955 7.6858 502        17.1500 130         28  44217.86 \n",
       "4 1957 6.9845 420        16.1333 110         26  45152.25 \n",
       "5 1958 6.7772 582        16.4167 187         25  45653.81 \n",
       "6 1959 8.0757 485        17.4833 187         24  46128.64 "
      ]
     },
     "execution_count": 3,
     "metadata": {},
     "output_type": "execute_result"
    }
   ],
   "source": [
    "wine_data <- read.csv('../../../datasets/wine price/wine.csv')\n",
    "head(wine_data)"
   ]
  },
  {
   "cell_type": "markdown",
   "metadata": {},
   "source": [
    "Now that the data is read in, how would you remove the `Id` column from the dataframe in `R`. Remember, `R` is very flexible so there are several ways to remove columns. Do the following:\n",
    "\n",
    "**Activity 1**: Find the dimensions (the number of rows and columns) of the data frame. *Hint: You will have to look up the function to do this as it was not mentioned in the lab*. "
   ]
  },
  {
   "cell_type": "code",
   "execution_count": 5,
   "metadata": {
    "collapsed": false
   },
   "outputs": [
    {
     "data": {
      "text/html": [
       "<ol class=list-inline>\n",
       "\t<li>25</li>\n",
       "\t<li>7</li>\n",
       "</ol>\n"
      ],
      "text/latex": [
       "\\begin{enumerate*}\n",
       "\\item 25\n",
       "\\item 7\n",
       "\\end{enumerate*}\n"
      ],
      "text/markdown": [
       "1. 25\n",
       "2. 7\n",
       "\n",
       "\n"
      ],
      "text/plain": [
       "[1] 25  7"
      ]
     },
     "execution_count": 5,
     "metadata": {},
     "output_type": "execute_result"
    }
   ],
   "source": [
    "# Code for Activity 1 goes here -----------------------\n",
    "dim(wine_data)"
   ]
  },
  {
   "cell_type": "markdown",
   "metadata": {},
   "source": [
    "Below is one of the ways that you can subset a data frame based on a condition. Run the code below to see what it returns."
   ]
  },
  {
   "cell_type": "code",
   "execution_count": 6,
   "metadata": {
    "collapsed": false
   },
   "outputs": [
    {
     "data": {
      "text/html": [
       "<table>\n",
       "<thead><tr><th></th><th scope=col>Year</th><th scope=col>Price</th><th scope=col>WinterRain</th><th scope=col>AGST</th><th scope=col>HarvestRain</th><th scope=col>Age</th><th scope=col>FrancePop</th></tr></thead>\n",
       "<tbody>\n",
       "\t<tr><th scope=row>18</th><td>1971    </td><td>7.1934  </td><td>551     </td><td>16.7667 </td><td>112     </td><td>12      </td><td>52431.65</td></tr>\n",
       "\t<tr><th scope=row>19</th><td>1972    </td><td>6.2049  </td><td>536     </td><td>14.9833 </td><td>158     </td><td>11      </td><td>52894.18</td></tr>\n",
       "\t<tr><th scope=row>20</th><td>1973    </td><td>6.6367  </td><td>376     </td><td>17.0667 </td><td>123     </td><td>10      </td><td>53332.81</td></tr>\n",
       "\t<tr><th scope=row>21</th><td>1974    </td><td>6.2941  </td><td>574     </td><td>16.3000 </td><td>184     </td><td> 9      </td><td>53689.61</td></tr>\n",
       "\t<tr><th scope=row>22</th><td>1975    </td><td>7.2920  </td><td>572     </td><td>16.9500 </td><td>171     </td><td> 8      </td><td>53955.04</td></tr>\n",
       "\t<tr><th scope=row>23</th><td>1976    </td><td>7.1211  </td><td>418     </td><td>17.6500 </td><td>247     </td><td> 7      </td><td>54159.05</td></tr>\n",
       "</tbody>\n",
       "</table>\n"
      ],
      "text/latex": [
       "\\begin{tabular}{r|lllllll}\n",
       "  & Year & Price & WinterRain & AGST & HarvestRain & Age & FrancePop\\\\\n",
       "\\hline\n",
       "\t18 & 1971     & 7.1934   & 551      & 16.7667  & 112      & 12       & 52431.65\\\\\n",
       "\t19 & 1972     & 6.2049   & 536      & 14.9833  & 158      & 11       & 52894.18\\\\\n",
       "\t20 & 1973     & 6.6367   & 376      & 17.0667  & 123      & 10       & 53332.81\\\\\n",
       "\t21 & 1974     & 6.2941   & 574      & 16.3000  & 184      &  9       & 53689.61\\\\\n",
       "\t22 & 1975     & 7.2920   & 572      & 16.9500  & 171      &  8       & 53955.04\\\\\n",
       "\t23 & 1976     & 7.1211   & 418      & 17.6500  & 247      &  7       & 54159.05\\\\\n",
       "\\end{tabular}\n"
      ],
      "text/plain": [
       "   Year Price  WinterRain AGST    HarvestRain Age FrancePop\n",
       "18 1971 7.1934 551        16.7667 112         12  52431.65 \n",
       "19 1972 6.2049 536        14.9833 158         11  52894.18 \n",
       "20 1973 6.6367 376        17.0667 123         10  53332.81 \n",
       "21 1974 6.2941 574        16.3000 184          9  53689.61 \n",
       "22 1975 7.2920 572        16.9500 171          8  53955.04 \n",
       "23 1976 7.1211 418        17.6500 247          7  54159.05 "
      ]
     },
     "execution_count": 6,
     "metadata": {},
     "output_type": "execute_result"
    }
   ],
   "source": [
    "head(wine_data[wine_data$Year > 1970,])"
   ]
  },
  {
   "cell_type": "code",
   "execution_count": 11,
   "metadata": {
    "collapsed": false
   },
   "outputs": [
    {
     "data": {
      "text/html": [
       "<ol class=list-inline>\n",
       "\t<li>1952</li>\n",
       "\t<li>1953</li>\n",
       "\t<li>1955</li>\n",
       "\t<li>1957</li>\n",
       "\t<li>1958</li>\n",
       "\t<li>1959</li>\n",
       "\t<li>1960</li>\n",
       "\t<li>1961</li>\n",
       "\t<li>1962</li>\n",
       "\t<li>1963</li>\n",
       "\t<li>1964</li>\n",
       "\t<li>1965</li>\n",
       "\t<li>1966</li>\n",
       "\t<li>1967</li>\n",
       "\t<li>1968</li>\n",
       "\t<li>1969</li>\n",
       "\t<li>1970</li>\n",
       "\t<li>1971</li>\n",
       "\t<li>1972</li>\n",
       "\t<li>1973</li>\n",
       "\t<li>1974</li>\n",
       "\t<li>1975</li>\n",
       "\t<li>1976</li>\n",
       "\t<li>1977</li>\n",
       "\t<li>1978</li>\n",
       "</ol>\n"
      ],
      "text/latex": [
       "\\begin{enumerate*}\n",
       "\\item 1952\n",
       "\\item 1953\n",
       "\\item 1955\n",
       "\\item 1957\n",
       "\\item 1958\n",
       "\\item 1959\n",
       "\\item 1960\n",
       "\\item 1961\n",
       "\\item 1962\n",
       "\\item 1963\n",
       "\\item 1964\n",
       "\\item 1965\n",
       "\\item 1966\n",
       "\\item 1967\n",
       "\\item 1968\n",
       "\\item 1969\n",
       "\\item 1970\n",
       "\\item 1971\n",
       "\\item 1972\n",
       "\\item 1973\n",
       "\\item 1974\n",
       "\\item 1975\n",
       "\\item 1976\n",
       "\\item 1977\n",
       "\\item 1978\n",
       "\\end{enumerate*}\n"
      ],
      "text/markdown": [
       "1. 1952\n",
       "2. 1953\n",
       "3. 1955\n",
       "4. 1957\n",
       "5. 1958\n",
       "6. 1959\n",
       "7. 1960\n",
       "8. 1961\n",
       "9. 1962\n",
       "10. 1963\n",
       "11. 1964\n",
       "12. 1965\n",
       "13. 1966\n",
       "14. 1967\n",
       "15. 1968\n",
       "16. 1969\n",
       "17. 1970\n",
       "18. 1971\n",
       "19. 1972\n",
       "20. 1973\n",
       "21. 1974\n",
       "22. 1975\n",
       "23. 1976\n",
       "24. 1977\n",
       "25. 1978\n",
       "\n",
       "\n"
      ],
      "text/plain": [
       " [1] 1952 1953 1955 1957 1958 1959 1960 1961 1962 1963 1964 1965 1966 1967 1968\n",
       "[16] 1969 1970 1971 1972 1973 1974 1975 1976 1977 1978"
      ]
     },
     "execution_count": 11,
     "metadata": {},
     "output_type": "execute_result"
    }
   ],
   "source": [
    "unique(wine_data$Year)"
   ]
  },
  {
   "cell_type": "markdown",
   "metadata": {},
   "source": [
    "**Activity 2**: Subset the wine_data into two dataframes based on the year. Named these dataframes group1 and group2 where group 1 contains data for years less than or equal to 1960 and group2 contains data with year greater than 1960."
   ]
  },
  {
   "cell_type": "code",
   "execution_count": 13,
   "metadata": {
    "collapsed": false
   },
   "outputs": [
    {
     "data": {
      "text/html": [
       "<table>\n",
       "<thead><tr><th scope=col>Year</th><th scope=col>Price</th><th scope=col>WinterRain</th><th scope=col>AGST</th><th scope=col>HarvestRain</th><th scope=col>Age</th><th scope=col>FrancePop</th></tr></thead>\n",
       "<tbody>\n",
       "\t<tr><td>1952    </td><td>7.4950  </td><td>600     </td><td>17.1167 </td><td>160     </td><td>31      </td><td>43183.57</td></tr>\n",
       "\t<tr><td>1953    </td><td>8.0393  </td><td>690     </td><td>16.7333 </td><td> 80     </td><td>30      </td><td>43495.03</td></tr>\n",
       "\t<tr><td>1955    </td><td>7.6858  </td><td>502     </td><td>17.1500 </td><td>130     </td><td>28      </td><td>44217.86</td></tr>\n",
       "\t<tr><td>1957    </td><td>6.9845  </td><td>420     </td><td>16.1333 </td><td>110     </td><td>26      </td><td>45152.25</td></tr>\n",
       "\t<tr><td>1958    </td><td>6.7772  </td><td>582     </td><td>16.4167 </td><td>187     </td><td>25      </td><td>45653.81</td></tr>\n",
       "\t<tr><td>1959    </td><td>8.0757  </td><td>485     </td><td>17.4833 </td><td>187     </td><td>24      </td><td>46128.64</td></tr>\n",
       "</tbody>\n",
       "</table>\n"
      ],
      "text/latex": [
       "\\begin{tabular}{r|lllllll}\n",
       " Year & Price & WinterRain & AGST & HarvestRain & Age & FrancePop\\\\\n",
       "\\hline\n",
       "\t 1952     & 7.4950   & 600      & 17.1167  & 160      & 31       & 43183.57\\\\\n",
       "\t 1953     & 8.0393   & 690      & 16.7333  &  80      & 30       & 43495.03\\\\\n",
       "\t 1955     & 7.6858   & 502      & 17.1500  & 130      & 28       & 44217.86\\\\\n",
       "\t 1957     & 6.9845   & 420      & 16.1333  & 110      & 26       & 45152.25\\\\\n",
       "\t 1958     & 6.7772   & 582      & 16.4167  & 187      & 25       & 45653.81\\\\\n",
       "\t 1959     & 8.0757   & 485      & 17.4833  & 187      & 24       & 46128.64\\\\\n",
       "\\end{tabular}\n"
      ],
      "text/plain": [
       "  Year Price  WinterRain AGST    HarvestRain Age FrancePop\n",
       "1 1952 7.4950 600        17.1167 160         31  43183.57 \n",
       "2 1953 8.0393 690        16.7333  80         30  43495.03 \n",
       "3 1955 7.6858 502        17.1500 130         28  44217.86 \n",
       "4 1957 6.9845 420        16.1333 110         26  45152.25 \n",
       "5 1958 6.7772 582        16.4167 187         25  45653.81 \n",
       "6 1959 8.0757 485        17.4833 187         24  46128.64 "
      ]
     },
     "execution_count": 13,
     "metadata": {},
     "output_type": "execute_result"
    },
    {
     "data": {
      "text/html": [
       "<table>\n",
       "<thead><tr><th></th><th scope=col>Year</th><th scope=col>Price</th><th scope=col>WinterRain</th><th scope=col>AGST</th><th scope=col>HarvestRain</th><th scope=col>Age</th><th scope=col>FrancePop</th></tr></thead>\n",
       "<tbody>\n",
       "\t<tr><th scope=row>8</th><td>1961    </td><td>8.4937  </td><td>830     </td><td>17.3333 </td><td> 38     </td><td>22      </td><td>47128.00</td></tr>\n",
       "\t<tr><th scope=row>9</th><td>1962    </td><td>7.3880  </td><td>697     </td><td>16.3000 </td><td> 52     </td><td>21      </td><td>48088.67</td></tr>\n",
       "\t<tr><th scope=row>10</th><td>1963    </td><td>6.7127  </td><td>608     </td><td>15.7167 </td><td>155     </td><td>20      </td><td>48798.99</td></tr>\n",
       "\t<tr><th scope=row>11</th><td>1964    </td><td>7.3094  </td><td>402     </td><td>17.2667 </td><td> 96     </td><td>19      </td><td>49356.94</td></tr>\n",
       "\t<tr><th scope=row>12</th><td>1965    </td><td>6.2518  </td><td>602     </td><td>15.3667 </td><td>267     </td><td>18      </td><td>49801.82</td></tr>\n",
       "\t<tr><th scope=row>13</th><td>1966    </td><td>7.7443  </td><td>819     </td><td>16.5333 </td><td> 86     </td><td>17      </td><td>50254.97</td></tr>\n",
       "</tbody>\n",
       "</table>\n"
      ],
      "text/latex": [
       "\\begin{tabular}{r|lllllll}\n",
       "  & Year & Price & WinterRain & AGST & HarvestRain & Age & FrancePop\\\\\n",
       "\\hline\n",
       "\t8 & 1961     & 8.4937   & 830      & 17.3333  &  38      & 22       & 47128.00\\\\\n",
       "\t9 & 1962     & 7.3880   & 697      & 16.3000  &  52      & 21       & 48088.67\\\\\n",
       "\t10 & 1963     & 6.7127   & 608      & 15.7167  & 155      & 20       & 48798.99\\\\\n",
       "\t11 & 1964     & 7.3094   & 402      & 17.2667  &  96      & 19       & 49356.94\\\\\n",
       "\t12 & 1965     & 6.2518   & 602      & 15.3667  & 267      & 18       & 49801.82\\\\\n",
       "\t13 & 1966     & 7.7443   & 819      & 16.5333  &  86      & 17       & 50254.97\\\\\n",
       "\\end{tabular}\n"
      ],
      "text/plain": [
       "   Year Price  WinterRain AGST    HarvestRain Age FrancePop\n",
       "8  1961 8.4937 830        17.3333  38         22  47128.00 \n",
       "9  1962 7.3880 697        16.3000  52         21  48088.67 \n",
       "10 1963 6.7127 608        15.7167 155         20  48798.99 \n",
       "11 1964 7.3094 402        17.2667  96         19  49356.94 \n",
       "12 1965 6.2518 602        15.3667 267         18  49801.82 \n",
       "13 1966 7.7443 819        16.5333  86         17  50254.97 "
      ]
     },
     "execution_count": 13,
     "metadata": {},
     "output_type": "execute_result"
    }
   ],
   "source": [
    "#2 Code for Activity 2 goes here -----------------------\n",
    "group1 = subset(wine_data[wine_data$Year<=1960])\n",
    "group2 = subset(wine_data[wine_data$Year>1960,])\n",
    "head(group1)\n",
    "head(group2)"
   ]
  },
  {
   "cell_type": "markdown",
   "metadata": {},
   "source": [
    "**Activity 3**: Run summary command and identify each variable if its qualitative or quantitative(continous or discrete)."
   ]
  },
  {
   "cell_type": "code",
   "execution_count": 14,
   "metadata": {
    "collapsed": false
   },
   "outputs": [
    {
     "data": {
      "text/plain": [
       "      Year          Price         WinterRain         AGST        HarvestRain   \n",
       " Min.   :1952   Min.   :6.205   Min.   :376.0   Min.   :14.98   Min.   : 38.0  \n",
       " 1st Qu.:1960   1st Qu.:6.519   1st Qu.:536.0   1st Qu.:16.20   1st Qu.: 89.0  \n",
       " Median :1966   Median :7.121   Median :600.0   Median :16.53   Median :130.0  \n",
       " Mean   :1966   Mean   :7.067   Mean   :605.3   Mean   :16.51   Mean   :148.6  \n",
       " 3rd Qu.:1972   3rd Qu.:7.495   3rd Qu.:697.0   3rd Qu.:17.07   3rd Qu.:187.0  \n",
       " Max.   :1978   Max.   :8.494   Max.   :830.0   Max.   :17.65   Max.   :292.0  \n",
       "      Age         FrancePop    \n",
       " Min.   : 5.0   Min.   :43184  \n",
       " 1st Qu.:11.0   1st Qu.:46584  \n",
       " Median :17.0   Median :50255  \n",
       " Mean   :17.2   Mean   :49694  \n",
       " 3rd Qu.:23.0   3rd Qu.:52894  \n",
       " Max.   :31.0   Max.   :54602  "
      ]
     },
     "execution_count": 14,
     "metadata": {},
     "output_type": "execute_result"
    }
   ],
   "source": [
    "# Code for Activity 3 goes here -----------------------\n",
    "summary(wine_data[wine_data$])"
   ]
  },
  {
   "cell_type": "markdown",
   "metadata": {
    "collapsed": false
   },
   "source": [
    "````\n",
    "\n",
    "    **Answer for Activity 3 goes here \n",
    "    \n",
    "The columns are all continuous or quantitative variables.\n",
    "\n",
    "````\n"
   ]
  },
  {
   "cell_type": "markdown",
   "metadata": {},
   "source": [
    "**Activity 4**: *Find out the number of rows where the `Price` is greater than 7."
   ]
  },
  {
   "cell_type": "code",
   "execution_count": 15,
   "metadata": {
    "collapsed": false
   },
   "outputs": [
    {
     "data": {
      "text/html": [
       "25"
      ],
      "text/latex": [
       "25"
      ],
      "text/markdown": [
       "25"
      ],
      "text/plain": [
       "[1] 25"
      ]
     },
     "execution_count": 15,
     "metadata": {},
     "output_type": "execute_result"
    }
   ],
   "source": [
    "# Code for Activity 4 goes here -----------------------\n",
    "nrow(wine_data[wine_data$price>7])"
   ]
  },
  {
   "cell_type": "markdown",
   "metadata": {},
   "source": [
    "Let's say we want to know average Age of the wine. \n",
    "\n",
    "**Activity 5**: Apply mean() function on the Age variable"
   ]
  },
  {
   "cell_type": "code",
   "execution_count": 16,
   "metadata": {
    "collapsed": false
   },
   "outputs": [
    {
     "data": {
      "text/html": [
       "17.2"
      ],
      "text/latex": [
       "17.2"
      ],
      "text/markdown": [
       "17.2"
      ],
      "text/plain": [
       "[1] 17.2"
      ]
     },
     "execution_count": 16,
     "metadata": {},
     "output_type": "execute_result"
    }
   ],
   "source": [
    "# Code for Activity 5 goes here -----------------------\n",
    "mean(wine_data$Age)"
   ]
  },
  {
   "cell_type": "markdown",
   "metadata": {},
   "source": [
    "We want to know the year which has recorded highest price for the wine.\n",
    "\n",
    "**Activity 6**: Find the maximum price that is recorded in wine dataset and year for the corresponding row. You will have to look up the command. Hint: try which(). "
   ]
  },
  {
   "cell_type": "code",
   "execution_count": 23,
   "metadata": {
    "collapsed": false
   },
   "outputs": [
    {
     "data": {
      "text/html": [
       "1961"
      ],
      "text/latex": [
       "1961"
      ],
      "text/markdown": [
       "1961"
      ],
      "text/plain": [
       "[1] 1961"
      ]
     },
     "execution_count": 23,
     "metadata": {},
     "output_type": "execute_result"
    }
   ],
   "source": [
    "#' Code for Activity 6 goes here -----------------------\n",
    "wine_data$Year[which.max(wine_data$Price)]"
   ]
  },
  {
   "cell_type": "markdown",
   "metadata": {},
   "source": [
    "** Activity 7**: Identify the datatype of each variable in dataframe. You were introduced to this command in Intro to Data Science course or you can look up for this command."
   ]
  },
  {
   "cell_type": "code",
   "execution_count": 24,
   "metadata": {
    "collapsed": false
   },
   "outputs": [
    {
     "data": {
      "text/html": [
       "<dl class=dl-horizontal>\n",
       "\t<dt>Year</dt>\n",
       "\t\t<dd>'integer'</dd>\n",
       "\t<dt>Price</dt>\n",
       "\t\t<dd>'numeric'</dd>\n",
       "\t<dt>WinterRain</dt>\n",
       "\t\t<dd>'integer'</dd>\n",
       "\t<dt>AGST</dt>\n",
       "\t\t<dd>'numeric'</dd>\n",
       "\t<dt>HarvestRain</dt>\n",
       "\t\t<dd>'integer'</dd>\n",
       "\t<dt>Age</dt>\n",
       "\t\t<dd>'integer'</dd>\n",
       "\t<dt>FrancePop</dt>\n",
       "\t\t<dd>'numeric'</dd>\n",
       "</dl>\n"
      ],
      "text/latex": [
       "\\begin{description*}\n",
       "\\item[Year] 'integer'\n",
       "\\item[Price] 'numeric'\n",
       "\\item[WinterRain] 'integer'\n",
       "\\item[AGST] 'numeric'\n",
       "\\item[HarvestRain] 'integer'\n",
       "\\item[Age] 'integer'\n",
       "\\item[FrancePop] 'numeric'\n",
       "\\end{description*}\n"
      ],
      "text/markdown": [
       "Year\n",
       ":   'integer'Price\n",
       ":   'numeric'WinterRain\n",
       ":   'integer'AGST\n",
       ":   'numeric'HarvestRain\n",
       ":   'integer'Age\n",
       ":   'integer'FrancePop\n",
       ":   'numeric'\n",
       "\n"
      ],
      "text/plain": [
       "       Year       Price  WinterRain        AGST HarvestRain         Age \n",
       "  \"integer\"   \"numeric\"   \"integer\"   \"numeric\"   \"integer\"   \"integer\" \n",
       "  FrancePop \n",
       "  \"numeric\" "
      ]
     },
     "execution_count": 24,
     "metadata": {},
     "output_type": "execute_result"
    }
   ],
   "source": [
    "# Code for Activity 7 goes here -----------------------\n",
    "sapply(wine_data,class)"
   ]
  },
  {
   "cell_type": "markdown",
   "metadata": {},
   "source": [
    "**Activity 8**: Check the structure of the dataframe. You have to look up for this command. This command will give you the dimensions of dataframe, type of each variable and intial first 10 values of the variable. Its a very useful command to get a quick overview of dataframe. "
   ]
  },
  {
   "cell_type": "code",
   "execution_count": 25,
   "metadata": {
    "collapsed": false
   },
   "outputs": [
    {
     "name": "stdout",
     "output_type": "stream",
     "text": [
      "'data.frame':\t25 obs. of  7 variables:\n",
      " $ Year       : int  1952 1953 1955 1957 1958 1959 1960 1961 1962 1963 ...\n",
      " $ Price      : num  7.5 8.04 7.69 6.98 6.78 ...\n",
      " $ WinterRain : int  600 690 502 420 582 485 763 830 697 608 ...\n",
      " $ AGST       : num  17.1 16.7 17.1 16.1 16.4 ...\n",
      " $ HarvestRain: int  160 80 130 110 187 187 290 38 52 155 ...\n",
      " $ Age        : int  31 30 28 26 25 24 23 22 21 20 ...\n",
      " $ FrancePop  : num  43184 43495 44218 45152 45654 ...\n"
     ]
    }
   ],
   "source": [
    "# Code for Activity 8 goes here -----------------------\n",
    "str(wine_data)\n"
   ]
  },
  {
   "cell_type": "markdown",
   "metadata": {},
   "source": [
    "Lets see how WinterRain variable data is distributed \n",
    "\n",
    "**Activity 9**: Plot the distribution of WinterRain variable using a histogram with bin sise of 20. PLot a density curve on top of the histogram."
   ]
  },
  {
   "cell_type": "code",
   "execution_count": 1,
   "metadata": {
    "collapsed": false
   },
   "outputs": [
    {
     "ename": "ERROR",
     "evalue": "Error in parse(text = x, srcfile = src): <text>:4:30: unexpected '<'\n3: library(ggplot2)\n4: plot = ggplot(data=wine, aes(<\n                                ^\n",
     "output_type": "error",
     "traceback": [
      "Error in parse(text = x, srcfile = src): <text>:4:30: unexpected '<'\n3: library(ggplot2)\n4: plot = ggplot(data=wine, aes(<\n                                ^\nTraceback:\n"
     ]
    }
   ],
   "source": [
    "# Code for Activity 9 goes here -----------------------\n",
    "\n",
    "library(ggplot2)\n",
    "plot = ggplot(data=wine, aes(x=WinterRain)) + \n",
    "  geom_histogram(aes(y =20), \n",
    "                 breaks=seq(360, 850,<what goes in here>), \n",
    "                 col=\"green\", \n",
    "                 fill=\"orange\", \n",
    "                 alpha = .5) + \n",
    "  geom_density(col=2) + \n",
    "  \n",
    "  labs(title=\"Histogram for Winter Rain\") +\n",
    "  labs(x=\"Amount of Rain\", y=\"Count\")\n",
    "plot"
   ]
  },
  {
   "cell_type": "markdown",
   "metadata": {},
   "source": [
    "**Activity 10: ** Draw vertical lines for mean and median of WinterRain in avove plot. You can use the same `plot` object to draw the lines."
   ]
  },
  {
   "cell_type": "code",
   "execution_count": null,
   "metadata": {
    "collapsed": true
   },
   "outputs": [],
   "source": [
    "# Code for Activity 10 goes here -----------------------\n",
    "mean_WinterRain <- mean(wine$WinterRain)\n",
    "median_WinterRain = median(wine$WinterRain)\n",
    "\n",
    "plot + geom_vline(<what goes in here>,<replace with color attribute for line>)+\n",
    "       geom_vline(<what goes in here>,<replace with color attribute for line>)"
   ]
  },
  {
   "cell_type": "markdown",
   "metadata": {},
   "source": [
    "Is the WinterRain data skewed.\n",
    "\n",
    "**Activity 11: ** Find the skewness of WinterRain variable."
   ]
  },
  {
   "cell_type": "code",
   "execution_count": null,
   "metadata": {
    "collapsed": true
   },
   "outputs": [],
   "source": [
    "# Code for Activity 11 goes here -----------------------\n",
    "library(moments)\n",
    "skewness(<what goes in here>)"
   ]
  },
  {
   "cell_type": "markdown",
   "metadata": {},
   "source": [
    "# Save your notebook!"
   ]
  }
 ],
 "metadata": {
  "kernelspec": {
   "display_name": "R",
   "language": "R",
   "name": "ir"
  },
  "language_info": {
   "codemirror_mode": "r",
   "file_extension": ".r",
   "mimetype": "text/x-r-source",
   "name": "R",
   "pygments_lexer": "r",
   "version": "3.3.1"
  }
 },
 "nbformat": 4,
 "nbformat_minor": 0
}
