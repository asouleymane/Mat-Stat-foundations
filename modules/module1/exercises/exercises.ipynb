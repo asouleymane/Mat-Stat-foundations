{
 "cells": [
  {
   "cell_type": "markdown",
   "metadata": {},
   "source": [
    "# Intro to statistics with `R`\n",
    "\n",
    "This is your first exercise notebook. \n",
    "The exercises are similar to what you have seen in lab and practice notebook with a few exercises designed to be a bit challenging. \n",
    "You should explore and find commands to solve the exercises.   \n",
    "\n",
    "Again much of the content will be similar to your lab, [Lab1_Histograms_and_Zscore](../labs/lab1_intro_to_stats.ipynb) and other practice book,[Traditional statistics practice with R](../practices/practice_wine.ipynb). \n",
    "Both notebooks will help you as a guide post in working out the solutions. \n",
    "\n",
    "As an added bonus, within this notebook we provide sample R code that commits your work to version control system (VCS).\n",
    "We will discuss this VCS later.\n",
    "Basically, you will create point-in-time saved versions of your notebook."
   ]
  },
  {
   "cell_type": "markdown",
   "metadata": {},
   "source": [
    "## Read in the Data\n",
    "\n",
    "For this exercise we will use some Bike Share data."
   ]
  },
  {
   "cell_type": "code",
   "execution_count": null,
   "metadata": {
    "collapsed": false
   },
   "outputs": [],
   "source": [
    "bikeshare_hour <- read.csv('../../../datasets/bikeshare/hour.csv')"
   ]
  },
  {
   "cell_type": "markdown",
   "metadata": {},
   "source": [
    "**Activity 1**: Find the dimensions (the number of rows and columns) of the data frame."
   ]
  },
  {
   "cell_type": "code",
   "execution_count": null,
   "metadata": {
    "collapsed": false
   },
   "outputs": [],
   "source": [
    "# Code for Activity 1 goes here -----------------------\n"
   ]
  },
  {
   "cell_type": "markdown",
   "metadata": {},
   "source": [
    "**Activity 2**: Display the ***last*** 10 columns of the data frame."
   ]
  },
  {
   "cell_type": "code",
   "execution_count": null,
   "metadata": {
    "collapsed": false
   },
   "outputs": [],
   "source": [
    "# Code for Activity 2 goes here -----------------------\n"
   ]
  },
  {
   "cell_type": "markdown",
   "metadata": {},
   "source": [
    "**Activity 3**: Run summary command learnt in lab and identify each variable if its categorical or numerical."
   ]
  },
  {
   "cell_type": "code",
   "execution_count": null,
   "metadata": {
    "collapsed": false
   },
   "outputs": [],
   "source": [
    "# Code for Activity 3 goes here -----------------------\n"
   ]
  },
  {
   "cell_type": "markdown",
   "metadata": {},
   "source": [
    "````\n",
    "\n",
    "    Answer for activity 3\n",
    "    \n",
    "----\n",
    "\n",
    "````"
   ]
  },
  {
   "cell_type": "markdown",
   "metadata": {},
   "source": [
    "# Bonus material: Using Version Control to Snapshot our Work\n",
    "\n",
    "The commands below will interface to the underlying version control system (VCS).\n",
    "In the DSA program we use Git.\n",
    "\n",
    "** Save your notebook **"
   ]
  },
  {
   "cell_type": "code",
   "execution_count": null,
   "metadata": {
    "collapsed": false
   },
   "outputs": [],
   "source": [
    "# JUST RUN ME ... and Read\n",
    "# Load the library interfcae\n",
    "library(git2r)\n",
    "\n",
    "# Get the repository as an Object in R.  The '..' elements mean parent directory. \n",
    "# Note '.' represents the current directory \"exercises\"\n",
    "# So, relative to this file: StatMath/modules/module1/exercises/exercises.ipynb\n",
    "#       .. = DSA-8610_<your_id>/modules/module1\n",
    "#    ../.. = DSA-8610_<your_id>/modules\n",
    "# ../../.. = DSA-8610_<your_id>/\n",
    "repo <- repository('../../..')\n",
    "\n",
    "# Add this file to be tracked for changes\n",
    "# The first parameter is the Repository object created in the above command\n",
    "# The second parameter is the file we want to record history of changes for\n",
    "add(repo, 'exercises.ipynb')\n",
    "\n",
    "# Write a snapshot of any files we are currently tracking into the VCS\n",
    "# The first parameter is the Repository object created in the above command\n",
    "# The second parameter is the brief message\n",
    "commit(repo,\"This is my first commit, Activities 1-3\")"
   ]
  },
  {
   "cell_type": "markdown",
   "metadata": {},
   "source": [
    "\n",
    "When ever you see the cells with library(git2r) in your exercises, you can just run them.\n",
    "\n",
    "---\n",
    "** Back to Exercises **\n",
    "\n",
    "So what is the most common type of weather that happens?\n",
    "\n",
    "**Activity 4**: Find out the most common type of weather that occurs in the dataset."
   ]
  },
  {
   "cell_type": "code",
   "execution_count": null,
   "metadata": {
    "collapsed": false
   },
   "outputs": [],
   "source": [
    "# Code for Activity 4 goes here -----------------------\n"
   ]
  },
  {
   "cell_type": "markdown",
   "metadata": {},
   "source": [
    "We have seen how to calculate z-score in the lab and how to use it in testing a hypothesis. Let’s say, we want to check the significance of variable weekday for hypothesis testing. Assume that monday(weekday 1) has more bike shares than average population bike shares on any other day\n",
    "\n",
    "So our null hypothesis H0 is, there is no significant difference in the number of bike shares for any day of the week\n",
    "\n",
    "Our alternate hypothesis H1 is, there is a better chance of monday having more bike shares than average bike shares on other days\n",
    "\n",
    "**Activity 5.a**: Calculate the z-score."
   ]
  },
  {
   "cell_type": "code",
   "execution_count": null,
   "metadata": {
    "collapsed": true
   },
   "outputs": [],
   "source": [
    "# Code for Activity 5 goes here -----------------------\n"
   ]
  },
  {
   "cell_type": "markdown",
   "metadata": {},
   "source": [
    "**Activity 5.b**: Test the null hypothesis H0, if its true or not. Explain why it is true or false."
   ]
  },
  {
   "cell_type": "markdown",
   "metadata": {},
   "source": [
    "````\n",
    "\n",
    "    Answer for activity 5.b\n",
    "    \n",
    "----\n",
    "\n",
    "````"
   ]
  },
  {
   "cell_type": "markdown",
   "metadata": {},
   "source": [
    "Let's say we were interested in analyzing patters on weekdays and weekends. \n",
    "\n",
    "**Activity 6**: subset the data set into two different subsets for rows where the weekday = 1,2,3,4,5 for weekday and 0,6 for weekend."
   ]
  },
  {
   "cell_type": "code",
   "execution_count": null,
   "metadata": {
    "collapsed": false
   },
   "outputs": [],
   "source": [
    "#' Code for Activity 6 goes here -----------------------\n"
   ]
  },
  {
   "cell_type": "code",
   "execution_count": null,
   "metadata": {
    "collapsed": false
   },
   "outputs": [],
   "source": [
    "# SAVE NOTEBOOK BEFORE RUNNING CELL\n",
    "library(git2r)\n",
    "repo <- repository('../../..')\n",
    "add(repo, 'exercises.ipynb')   # Yes we add it again... we have another round of changes to record\n",
    "commit(repo,\"This is my second commit, Activities 4-6\")"
   ]
  },
  {
   "cell_type": "markdown",
   "metadata": {},
   "source": [
    "Let's say we were interested in analyzing distribution of data whether its a workday or not and the weather situation on that day. \n",
    "\n",
    "**Activity 7**: Find the distribution of data based on workday or not and kind of weather for the day. HInt: Look at table() command."
   ]
  },
  {
   "cell_type": "code",
   "execution_count": null,
   "metadata": {
    "collapsed": false
   },
   "outputs": [],
   "source": [
    "# Code for Activity 7 goes here -----------------------\n"
   ]
  },
  {
   "cell_type": "markdown",
   "metadata": {},
   "source": [
    "** Activity 8**: Identify the datatype of each variable in dataframe by applying class function to all variables."
   ]
  },
  {
   "cell_type": "code",
   "execution_count": null,
   "metadata": {
    "collapsed": false
   },
   "outputs": [],
   "source": [
    "#' Code for Activity 8 goes here -----------------------\n"
   ]
  },
  {
   "cell_type": "markdown",
   "metadata": {},
   "source": [
    "````\n",
    "\n",
    "    Answer for activity 8\n",
    "    \n",
    "----\n",
    "\n",
    "````"
   ]
  },
  {
   "cell_type": "markdown",
   "metadata": {},
   "source": [
    "**Activity 9**: Check the structure of the dataframe. You have to look up for this command. This command will give you the dimensions of dataframe, type of each variable and intial first 10 values of the variable."
   ]
  },
  {
   "cell_type": "code",
   "execution_count": null,
   "metadata": {
    "collapsed": false
   },
   "outputs": [],
   "source": [
    "#' Code for Activity 9 goes here -----------------------\n"
   ]
  },
  {
   "cell_type": "markdown",
   "metadata": {},
   "source": [
    "Let's see if people are more interested in riding the bike on weekdays or weekends. \n",
    "\n",
    "**Activity 10: ** Find out if people are more interested in riding the bike on weekdays or weekends. Find the average number of instances for weekdays and weekends."
   ]
  },
  {
   "cell_type": "code",
   "execution_count": null,
   "metadata": {
    "collapsed": false
   },
   "outputs": [],
   "source": [
    "# Code for Activity 10 goes here -----------------------\n",
    "\n"
   ]
  },
  {
   "cell_type": "code",
   "execution_count": null,
   "metadata": {
    "collapsed": false
   },
   "outputs": [],
   "source": [
    "# SAVE NOTEBOOK BEFORE RUNNING CELL\n",
    "library(git2r)\n",
    "repo <- repository('../../..')\n",
    "add(repo, 'exercises.ipynb')   # Yes we add it again... we have another round of changes to record\n",
    "commit(repo,\"Activities 7-10\")"
   ]
  },
  {
   "cell_type": "markdown",
   "metadata": {},
   "source": [
    "**Activity 11: ** Find out the day and hour when the maximum number of bikes were shared"
   ]
  },
  {
   "cell_type": "code",
   "execution_count": null,
   "metadata": {
    "collapsed": false
   },
   "outputs": [],
   "source": [
    "# Code for Activity 11 goes here -----------------------\n",
    "\n"
   ]
  },
  {
   "cell_type": "markdown",
   "metadata": {},
   "source": [
    "Lets do some data cleaning for taking up the next activity"
   ]
  },
  {
   "cell_type": "code",
   "execution_count": null,
   "metadata": {
    "collapsed": false
   },
   "outputs": [],
   "source": [
    "#First get the count of total bike shares based on each hour of the day and weekday. Run the code below\n",
    "hour_sums=t(tapply(bikeshare_hour$cnt, bikeshare_hour$hr,sum))\n",
    "day_sums=t(tapply(bikeshare_hour$cnt, bikeshare_hour$weekday,sum))"
   ]
  },
  {
   "cell_type": "markdown",
   "metadata": {},
   "source": [
    "tapply() definition from R-manual: Apply a function to each cell of a ragged array, that is to each (non-empty) group of values given by a unique combination of the levels of certain factors.\n",
    "\n",
    "Suggested reading: [tapply()](https://www.r-bloggers.com/r-function-of-the-day-tapply-2/)\n",
    "\n",
    "Simply put, in our example of hour_sums variable, the data is partitioned based on the second parameter, `bikeshare_hour$hr.` So 24 subsets are created for each hour(0 to 23). The 3rd argument can be any function(sum,mean,median etc) which is applied on the first parameter of tapply function. Since now we have 24 subsets, we are performing sum(bikeshare_hour$cnt) on this 24 subsets of data for each hour.\n",
    "\n",
    "\n",
    "The t() is used to return transpose input dataframe or matrix. Jupyter has issues rendering tapply() output, so t() is a workaround to display the output correctly.`\n",
    "\n",
    "More information on [t()](https://stat.ethz.ch/R-manual/R-devel/library/base/html/t.html)\n",
    "\n",
    "If you check the dimensions of hour_sums and day_sums variables they are dataframes. But we want the output in the form of a vector. So how can we convert a dataframe to a vector?"
   ]
  },
  {
   "cell_type": "code",
   "execution_count": null,
   "metadata": {
    "collapsed": false
   },
   "outputs": [],
   "source": [
    "#The above piece of code returns dataframes as output. Check the dimensions and class to verify. Run the code below.\n",
    "dim(hour_sums)\n",
    "dim(day_sums)\n",
    "class(hour_sums)\n",
    "class(day_sums)"
   ]
  },
  {
   "cell_type": "markdown",
   "metadata": {},
   "source": [
    "R has builtin function to convert data format between dataframes,matrices and vectors. You can change the data type and also check if certain object is actually a dataframe or matrix or a vector using functions like is.dataframe() etc."
   ]
  },
  {
   "cell_type": "code",
   "execution_count": null,
   "metadata": {
    "collapsed": false
   },
   "outputs": [],
   "source": [
    "#Convert the dataframes hour_sums, day_sums into a matrix and then into arrays. Run the code below.\n",
    "hour_sums=as.vector(as.matrix(hour_sums))\n",
    "day_sums=as.vector(as.matrix(day_sums))\n",
    "hour_sums\n",
    "day_sums"
   ]
  },
  {
   "cell_type": "markdown",
   "metadata": {},
   "source": [
    "## Distributions\n",
    "\n",
    "\n",
    "Lets peek into the distribution of different variables and see how they are distributed.\n",
    "\n",
    "** Activity 12: ** Plot a bar plot for bike shares for each hour of the day and weekday. Use hour_sums and day_sums vectors we created above to plot the graphs. Combine this plots using the par() or layout() command for analyzing them easily."
   ]
  },
  {
   "cell_type": "code",
   "execution_count": null,
   "metadata": {
    "collapsed": false
   },
   "outputs": [],
   "source": [
    "# Code for activity 12 goes gere \n",
    "\n"
   ]
  },
  {
   "cell_type": "markdown",
   "metadata": {},
   "source": [
    "The plots clearly tell, The peak hour of bike shares is 17 and 18 hours every day. While, thurdays and fridays are popular for bike shares in a week. This is contradicting with what we saw in activity 10 where average number of instances of bike shares are more on weekends. Lets see the average number of users who rent the bike on each week of the day."
   ]
  },
  {
   "cell_type": "code",
   "execution_count": null,
   "metadata": {
    "collapsed": false
   },
   "outputs": [],
   "source": [
    "day_sums"
   ]
  },
  {
   "cell_type": "markdown",
   "metadata": {},
   "source": [
    "**Activity 13: ** Plot a boxplot for `cnt` against each weekday"
   ]
  },
  {
   "cell_type": "code",
   "execution_count": null,
   "metadata": {
    "collapsed": true
   },
   "outputs": [],
   "source": [
    "#Code for activity 13 goes here.........\n"
   ]
  },
  {
   "cell_type": "markdown",
   "metadata": {},
   "source": [
    "** Activity 14: ** Plot histograms for variables `casual`, `registered` and `cnt` variables and see how they are distributed.  \n",
    "Plot mean and median on the histograms. "
   ]
  },
  {
   "cell_type": "code",
   "execution_count": null,
   "metadata": {
    "collapsed": false
   },
   "outputs": [],
   "source": [
    "#Code for activity 14 goes here\n"
   ]
  },
  {
   "cell_type": "markdown",
   "metadata": {},
   "source": [
    "# SAVE YOUR NOTEBOOK\n",
    "\n",
    "The next cell is the final commit of work!"
   ]
  },
  {
   "cell_type": "code",
   "execution_count": null,
   "metadata": {
    "collapsed": false
   },
   "outputs": [],
   "source": [
    "# SAVE NOTEBOOK BEFORE RUNNING CELL\n",
    "library(git2r)\n",
    "repo <- repository('../../..')\n",
    "add(repo, 'exercises.ipynb')   # Yes we add it again... we have another round of changes to record\n",
    "commit(repo,\"Activities 11-14\")\n",
    "\n",
    "# Let's look at the history of our work\n",
    "summary(repo)"
   ]
  },
  {
   "cell_type": "code",
   "execution_count": null,
   "metadata": {
    "collapsed": true
   },
   "outputs": [],
   "source": []
  }
 ],
 "metadata": {
  "kernelspec": {
   "display_name": "R",
   "language": "R",
   "name": "ir"
  },
  "language_info": {
   "codemirror_mode": "r",
   "file_extension": ".r",
   "mimetype": "text/x-r-source",
   "name": "R",
   "pygments_lexer": "r",
   "version": "3.3.1"
  }
 },
 "nbformat": 4,
 "nbformat_minor": 0
}
