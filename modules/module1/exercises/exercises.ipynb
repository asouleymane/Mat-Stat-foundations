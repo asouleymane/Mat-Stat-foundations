{
 "cells": [
  {
   "cell_type": "markdown",
   "metadata": {},
   "source": [
    "# Intro to statistics with `R`\n",
    "\n",
    "This is your first exercise notebook. \n",
    "The exercises are similar to what you have seen in lab and practice notebook with a few exercises designed to be a bit challenging. \n",
    "You should explore and find commands to solve the exercises.   \n",
    "\n",
    "Again much of the content will be similar to your lab, [Lab1_Histograms_and_Zscore](../labs/lab1_intro_to_stats.ipynb) and other practice book,[Traditional statistics practice with R](../practices/practice_wine.ipynb). \n",
    "Both notebooks will help you as a guide post in working out the solutions. \n",
    "\n",
    "As an added bonus, within this notebook we provide sample R code that commits your work to version control system (VCS).\n",
    "We will discuss this VCS later.\n",
    "Basically, you will create point-in-time saved versions of your notebook."
   ]
  },
  {
   "cell_type": "markdown",
   "metadata": {},
   "source": [
    "## Read in the Data\n",
    "\n",
    "For this exercise we will use some Bike Share data."
   ]
  },
  {
   "cell_type": "code",
   "execution_count": 184,
   "metadata": {
    "collapsed": false
   },
   "outputs": [],
   "source": [
    "bikeshare_hour <- read.csv('../../../datasets/bikeshare/hour.csv')\n",
    "#head(bikeshare_hour)"
   ]
  },
  {
   "cell_type": "markdown",
   "metadata": {},
   "source": [
    "**Activity 1**: Find the dimensions (the number of rows and columns) of the data frame."
   ]
  },
  {
   "cell_type": "code",
   "execution_count": 2,
   "metadata": {
    "collapsed": false
   },
   "outputs": [
    {
     "data": {
      "text/html": [
       "<ol class=list-inline>\n",
       "\t<li>17379</li>\n",
       "\t<li>17</li>\n",
       "</ol>\n"
      ],
      "text/latex": [
       "\\begin{enumerate*}\n",
       "\\item 17379\n",
       "\\item 17\n",
       "\\end{enumerate*}\n"
      ],
      "text/markdown": [
       "1. 17379\n",
       "2. 17\n",
       "\n",
       "\n"
      ],
      "text/plain": [
       "[1] 17379    17"
      ]
     },
     "execution_count": 2,
     "metadata": {},
     "output_type": "execute_result"
    }
   ],
   "source": [
    "# Code for Activity 1 goes here \n",
    "dim(bikeshare_hour)"
   ]
  },
  {
   "cell_type": "markdown",
   "metadata": {},
   "source": [
    "**Activity 2**: Display the ***last*** 10 columns of the data frame."
   ]
  },
  {
   "cell_type": "code",
   "execution_count": 59,
   "metadata": {
    "collapsed": false
   },
   "outputs": [
    {
     "data": {
      "text/html": [
       "<table>\n",
       "<thead><tr><th scope=col>weekday</th><th scope=col>workingday</th><th scope=col>weathersit</th><th scope=col>temp</th><th scope=col>atemp</th><th scope=col>hum</th><th scope=col>windspeed</th><th scope=col>casual</th><th scope=col>registered</th><th scope=col>cnt</th></tr></thead>\n",
       "<tbody>\n",
       "\t<tr><td>6     </td><td>0     </td><td>1     </td><td>0.24  </td><td>0.2879</td><td>0.81  </td><td>0.0000</td><td>3     </td><td>13    </td><td>16    </td></tr>\n",
       "\t<tr><td>6     </td><td>0     </td><td>1     </td><td>0.22  </td><td>0.2727</td><td>0.80  </td><td>0.0000</td><td>8     </td><td>32    </td><td>40    </td></tr>\n",
       "\t<tr><td>6     </td><td>0     </td><td>1     </td><td>0.22  </td><td>0.2727</td><td>0.80  </td><td>0.0000</td><td>5     </td><td>27    </td><td>32    </td></tr>\n",
       "\t<tr><td>6     </td><td>0     </td><td>1     </td><td>0.24  </td><td>0.2879</td><td>0.75  </td><td>0.0000</td><td>3     </td><td>10    </td><td>13    </td></tr>\n",
       "\t<tr><td>6     </td><td>0     </td><td>1     </td><td>0.24  </td><td>0.2879</td><td>0.75  </td><td>0.0000</td><td>0     </td><td> 1    </td><td> 1    </td></tr>\n",
       "\t<tr><td>6     </td><td>0     </td><td>2     </td><td>0.24  </td><td>0.2576</td><td>0.75  </td><td>0.0896</td><td>0     </td><td> 1    </td><td> 1    </td></tr>\n",
       "</tbody>\n",
       "</table>\n"
      ],
      "text/latex": [
       "\\begin{tabular}{r|llllllllll}\n",
       " weekday & workingday & weathersit & temp & atemp & hum & windspeed & casual & registered & cnt\\\\\n",
       "\\hline\n",
       "\t 6      & 0      & 1      & 0.24   & 0.2879 & 0.81   & 0.0000 & 3      & 13     & 16    \\\\\n",
       "\t 6      & 0      & 1      & 0.22   & 0.2727 & 0.80   & 0.0000 & 8      & 32     & 40    \\\\\n",
       "\t 6      & 0      & 1      & 0.22   & 0.2727 & 0.80   & 0.0000 & 5      & 27     & 32    \\\\\n",
       "\t 6      & 0      & 1      & 0.24   & 0.2879 & 0.75   & 0.0000 & 3      & 10     & 13    \\\\\n",
       "\t 6      & 0      & 1      & 0.24   & 0.2879 & 0.75   & 0.0000 & 0      &  1     &  1    \\\\\n",
       "\t 6      & 0      & 2      & 0.24   & 0.2576 & 0.75   & 0.0896 & 0      &  1     &  1    \\\\\n",
       "\\end{tabular}\n"
      ],
      "text/plain": [
       "  weekday workingday weathersit temp atemp  hum  windspeed casual registered\n",
       "1 6       0          1          0.24 0.2879 0.81 0.0000    3      13        \n",
       "2 6       0          1          0.22 0.2727 0.80 0.0000    8      32        \n",
       "3 6       0          1          0.22 0.2727 0.80 0.0000    5      27        \n",
       "4 6       0          1          0.24 0.2879 0.75 0.0000    3      10        \n",
       "5 6       0          1          0.24 0.2879 0.75 0.0000    0       1        \n",
       "6 6       0          2          0.24 0.2576 0.75 0.0896    0       1        \n",
       "  cnt\n",
       "1 16 \n",
       "2 40 \n",
       "3 32 \n",
       "4 13 \n",
       "5  1 \n",
       "6  1 "
      ]
     },
     "metadata": {},
     "output_type": "display_data"
    }
   ],
   "source": [
    "# Code for Activity 2 goes here\n",
    "last_columns<-bikeshare_hour[c(0,8:17)]\n",
    "head(last_columns)"
   ]
  },
  {
   "cell_type": "markdown",
   "metadata": {},
   "source": [
    "**Activity 3**: Run summary command learnt in lab and identify each variable if its categorical or numerical."
   ]
  },
  {
   "cell_type": "code",
   "execution_count": 23,
   "metadata": {
    "collapsed": false
   },
   "outputs": [
    {
     "data": {
      "text/plain": [
       "    instant             dteday          season            yr        \n",
       " Min.   :    1   2011-01-01:   24   Min.   :1.000   Min.   :0.0000  \n",
       " 1st Qu.: 4346   2011-01-08:   24   1st Qu.:2.000   1st Qu.:0.0000  \n",
       " Median : 8690   2011-01-09:   24   Median :3.000   Median :1.0000  \n",
       " Mean   : 8690   2011-01-10:   24   Mean   :2.502   Mean   :0.5026  \n",
       " 3rd Qu.:13034   2011-01-13:   24   3rd Qu.:3.000   3rd Qu.:1.0000  \n",
       " Max.   :17379   2011-01-15:   24   Max.   :4.000   Max.   :1.0000  \n",
       "                 (Other)   :17235                                   \n",
       "      mnth              hr           holiday           weekday     \n",
       " Min.   : 1.000   Min.   : 0.00   Min.   :0.00000   Min.   :0.000  \n",
       " 1st Qu.: 4.000   1st Qu.: 6.00   1st Qu.:0.00000   1st Qu.:1.000  \n",
       " Median : 7.000   Median :12.00   Median :0.00000   Median :3.000  \n",
       " Mean   : 6.538   Mean   :11.55   Mean   :0.02877   Mean   :3.004  \n",
       " 3rd Qu.:10.000   3rd Qu.:18.00   3rd Qu.:0.00000   3rd Qu.:5.000  \n",
       " Max.   :12.000   Max.   :23.00   Max.   :1.00000   Max.   :6.000  \n",
       "                                                                   \n",
       "   workingday       weathersit         temp           atemp       \n",
       " Min.   :0.0000   Min.   :1.000   Min.   :0.020   Min.   :0.0000  \n",
       " 1st Qu.:0.0000   1st Qu.:1.000   1st Qu.:0.340   1st Qu.:0.3333  \n",
       " Median :1.0000   Median :1.000   Median :0.500   Median :0.4848  \n",
       " Mean   :0.6827   Mean   :1.425   Mean   :0.497   Mean   :0.4758  \n",
       " 3rd Qu.:1.0000   3rd Qu.:2.000   3rd Qu.:0.660   3rd Qu.:0.6212  \n",
       " Max.   :1.0000   Max.   :4.000   Max.   :1.000   Max.   :1.0000  \n",
       "                                                                  \n",
       "      hum           windspeed          casual         registered   \n",
       " Min.   :0.0000   Min.   :0.0000   Min.   :  0.00   Min.   :  0.0  \n",
       " 1st Qu.:0.4800   1st Qu.:0.1045   1st Qu.:  4.00   1st Qu.: 34.0  \n",
       " Median :0.6300   Median :0.1940   Median : 17.00   Median :115.0  \n",
       " Mean   :0.6272   Mean   :0.1901   Mean   : 35.68   Mean   :153.8  \n",
       " 3rd Qu.:0.7800   3rd Qu.:0.2537   3rd Qu.: 48.00   3rd Qu.:220.0  \n",
       " Max.   :1.0000   Max.   :0.8507   Max.   :367.00   Max.   :886.0  \n",
       "                                                                   \n",
       "      cnt       \n",
       " Min.   :  1.0  \n",
       " 1st Qu.: 40.0  \n",
       " Median :142.0  \n",
       " Mean   :189.5  \n",
       " 3rd Qu.:281.0  \n",
       " Max.   :977.0  \n",
       "                "
      ]
     },
     "execution_count": 23,
     "metadata": {},
     "output_type": "execute_result"
    }
   ],
   "source": [
    "# Code for Activity 3 goes here \n",
    "summary(bikeshare_hour)\n"
   ]
  },
  {
   "cell_type": "markdown",
   "metadata": {},
   "source": [
    "\n",
    "\n",
    "    Answer for activity 3\n",
    "    The following columns are numerical:cnt,registered,casual,windspeed,hum,atemp,temp,instant.\n",
    "    The following are categorical:weathersit,workingday,holiday,hr,mnth,year,dteday,season,weekday."
   ]
  },
  {
   "cell_type": "markdown",
   "metadata": {},
   "source": [
    "# Bonus material: Using Version Control to Snapshot our Work\n",
    "\n",
    "The commands below will interface to the underlying version control system (VCS).\n",
    "In the DSA program we use Git.\n",
    "\n",
    "** Save your notebook **"
   ]
  },
  {
   "cell_type": "code",
   "execution_count": 176,
   "metadata": {
    "collapsed": false
   },
   "outputs": [
    {
     "ename": "ERROR",
     "evalue": "Error in parse(text = x, srcfile = src): <text>:8:18: unexpected input\n7: # So, relative to this file: StatMath/modules/module1/exercises/exercises.ipynb\n8:     .. = DSA-8610_\n                    ^\n",
     "output_type": "error",
     "traceback": [
      "Error in parse(text = x, srcfile = src): <text>:8:18: unexpected input\n7: # So, relative to this file: StatMath/modules/module1/exercises/exercises.ipynb\n8:     .. = DSA-8610_\n                    ^\nTraceback:\n"
     ]
    }
   ],
   "source": [
    "# JUST RUN ME ... and Read\n",
    "# Load the library interfcae\n",
    "library(git2r)\n",
    "\n",
    "# Get the repository as an Object in R.  The '..' elements mean parent directory. \n",
    "# Note '.' represents the current directory \"exercises\"\n",
    "# So, relative to this file: StatMath/modules/module1/exercises/exercises.ipynb\n",
    "    .. = DSA-8610_10267106/modules/module1\n",
    "    ../.. = DSA-8610_10267106/modules\n",
    "    ../../.. = DSA-8610_10267106/\n",
    "repo <- repository('../../..')\n",
    "\n",
    "# Add this file to be tracked for changes\n",
    "# The first parameter is the Repository object created in the above command\n",
    "# The second parameter is the file we want to record history of changes for\n",
    "add(repo, 'exercises.ipynb')\n",
    "\n",
    "# Write a snapshot of any files we are currently tracking into the VCS\n",
    "# The first parameter is the Repository object created in the above command\n",
    "# The second parameter is the brief message\n",
    "commit(repo,\"This is my first commit, Activities 1-3\")"
   ]
  },
  {
   "cell_type": "markdown",
   "metadata": {},
   "source": [
    "\n",
    "When ever you see the cells with library(git2r) in your exercises, you can just run them.\n",
    "\n",
    "---\n",
    "** Back to Exercises **\n",
    "\n",
    "So what is the most common type of weather that happens?\n",
    "\n",
    "**Activity 4**: Find out the most common type of weather that occurs in the dataset."
   ]
  },
  {
   "cell_type": "code",
   "execution_count": 37,
   "metadata": {
    "collapsed": false
   },
   "outputs": [
    {
     "data": {
      "text/html": [
       "<ol class=list-inline>\n",
       "\t<li>6</li>\n",
       "\t<li>0</li>\n",
       "\t<li>1</li>\n",
       "\t<li>2</li>\n",
       "\t<li>3</li>\n",
       "\t<li>4</li>\n",
       "\t<li>5</li>\n",
       "</ol>\n"
      ],
      "text/latex": [
       "\\begin{enumerate*}\n",
       "\\item 6\n",
       "\\item 0\n",
       "\\item 1\n",
       "\\item 2\n",
       "\\item 3\n",
       "\\item 4\n",
       "\\item 5\n",
       "\\end{enumerate*}\n"
      ],
      "text/markdown": [
       "1. 6\n",
       "2. 0\n",
       "3. 1\n",
       "4. 2\n",
       "5. 3\n",
       "6. 4\n",
       "7. 5\n",
       "\n",
       "\n"
      ],
      "text/plain": [
       "[1] 6 0 1 2 3 4 5"
      ]
     },
     "metadata": {},
     "output_type": "display_data"
    }
   ],
   "source": [
    "unique(bikeshare_hour$weathersit)"
   ]
  },
  {
   "cell_type": "code",
   "execution_count": 32,
   "metadata": {
    "collapsed": false
   },
   "outputs": [
    {
     "data": {
      "text/html": [
       "<table>\n",
       "<thead><tr><th scope=col>weathersit</th><th scope=col>max(cnt)</th></tr></thead>\n",
       "<tbody>\n",
       "\t<tr><td>1  </td><td>977</td></tr>\n",
       "\t<tr><td>2  </td><td>957</td></tr>\n",
       "\t<tr><td>3  </td><td>891</td></tr>\n",
       "\t<tr><td>4  </td><td>164</td></tr>\n",
       "</tbody>\n",
       "</table>\n"
      ],
      "text/latex": [
       "\\begin{tabular}{r|ll}\n",
       " weathersit & max(cnt)\\\\\n",
       "\\hline\n",
       "\t 1   & 977\\\\\n",
       "\t 2   & 957\\\\\n",
       "\t 3   & 891\\\\\n",
       "\t 4   & 164\\\\\n",
       "\\end{tabular}\n"
      ],
      "text/plain": [
       "  weathersit max(cnt)\n",
       "1 1          977     \n",
       "2 2          957     \n",
       "3 3          891     \n",
       "4 4          164     "
      ]
     },
     "metadata": {},
     "output_type": "display_data"
    }
   ],
   "source": [
    "# Code for Activity 4 goes here -----------------------\n",
    "library(dplyr)\n",
    "\n",
    "bikeshare_hour %>% \n",
    "    group_by(weathersit) %>% \n",
    "    summarise(max(cnt))"
   ]
  },
  {
   "cell_type": "markdown",
   "metadata": {},
   "source": [
    "We have seen how to calculate z-score in the lab and how to use it in testing a hypothesis. Let’s say, we want to check the significance of variable weekday for hypothesis testing. Assume that monday(weekday 1) has more bike shares than average population bike shares on any other day\n",
    "\n",
    "So our null hypothesis H0 is, there is no significant difference in the number of bike shares for any day of the week\n",
    "\n",
    "Our alternate hypothesis H1 is, there is a better chance of monday having more bike shares than average bike shares on other days\n",
    "\n",
    "**Activity 5.a**: Calculate the z-score."
   ]
  },
  {
   "cell_type": "code",
   "execution_count": 183,
   "metadata": {
    "collapsed": false
   },
   "outputs": [
    {
     "data": {
      "text/html": [
       "-1.043734219771"
      ],
      "text/latex": [
       "-1.043734219771"
      ],
      "text/markdown": [
       "-1.043734219771"
      ],
      "text/plain": [
       "[1] -1.043734"
      ]
     },
     "metadata": {},
     "output_type": "display_data"
    },
    {
     "data": {
      "text/html": [
       "0.851695813499435"
      ],
      "text/latex": [
       "0.851695813499435"
      ],
      "text/markdown": [
       "0.851695813499435"
      ],
      "text/plain": [
       "[1] 0.8516958"
      ]
     },
     "metadata": {},
     "output_type": "display_data"
    }
   ],
   "source": [
    "# Code for Activity 5 goes here -----------------------\n",
    "z.score = function(sam, pop){\n",
    " sample_mean = mean(bikeshare_hour$weekday==1)\n",
    " pop_mean = mean(bikeshare_hour$cnt)\n",
    " pop_var = var(bikeshare_hour$cnt)\n",
    " zscore = (sample_mean - pop_mean) / (sqrt(pop_var))\n",
    " return(zscore)\n",
    "}\n",
    "re=z.score(bikeshare_hour$weekday==1, bikeshare_hour$cnt)\n",
    "re\n",
    "p_value=1-pnorm(re)\n",
    "p_value"
   ]
  },
  {
   "cell_type": "markdown",
   "metadata": {},
   "source": [
    "**Activity 5.b**: Test the null hypothesis H0, if its true or not. Explain why it is true or false."
   ]
  },
  {
   "cell_type": "markdown",
   "metadata": {},
   "source": [
    "````\n",
    "\n",
    "    Answer for activity 5.b\n",
    "    \n",
    "p_value=.8517 > 0.05 we fail to reject H0 and conclude that there is no evidence to suggest that there is significant difference in the number of bike shares for any day of the week. \n",
    "\n",
    "````"
   ]
  },
  {
   "cell_type": "markdown",
   "metadata": {},
   "source": [
    "Let's say we were interested in analyzing patters on weekdays and weekends. \n",
    "\n",
    "**Activity 6**: subset the data set into two different subsets for rows where the weekday = 1,2,3,4,5 for weekday and 0,6 for weekend."
   ]
  },
  {
   "cell_type": "code",
   "execution_count": 27,
   "metadata": {
    "collapsed": false
   },
   "outputs": [
    {
     "data": {
      "text/html": [
       "<table>\n",
       "<thead><tr><th scope=col>instant</th><th scope=col>dteday</th><th scope=col>season</th><th scope=col>yr</th><th scope=col>mnth</th><th scope=col>hr</th><th scope=col>holiday</th><th scope=col>weekday</th><th scope=col>workingday</th><th scope=col>weathersit</th><th scope=col>temp</th><th scope=col>atemp</th><th scope=col>hum</th><th scope=col>windspeed</th><th scope=col>casual</th><th scope=col>registered</th><th scope=col>cnt</th></tr></thead>\n",
       "<tbody>\n",
       "\t<tr><td>1         </td><td>2011-01-01</td><td>1         </td><td>0         </td><td>1         </td><td>0         </td><td>0         </td><td>6         </td><td>0         </td><td>1         </td><td>0.24      </td><td>0.2879    </td><td>0.81      </td><td>0.0000    </td><td>3         </td><td>13        </td><td>16        </td></tr>\n",
       "\t<tr><td>2         </td><td>2011-01-01</td><td>1         </td><td>0         </td><td>1         </td><td>1         </td><td>0         </td><td>6         </td><td>0         </td><td>1         </td><td>0.22      </td><td>0.2727    </td><td>0.80      </td><td>0.0000    </td><td>8         </td><td>32        </td><td>40        </td></tr>\n",
       "\t<tr><td>3         </td><td>2011-01-01</td><td>1         </td><td>0         </td><td>1         </td><td>2         </td><td>0         </td><td>6         </td><td>0         </td><td>1         </td><td>0.22      </td><td>0.2727    </td><td>0.80      </td><td>0.0000    </td><td>5         </td><td>27        </td><td>32        </td></tr>\n",
       "\t<tr><td>4         </td><td>2011-01-01</td><td>1         </td><td>0         </td><td>1         </td><td>3         </td><td>0         </td><td>6         </td><td>0         </td><td>1         </td><td>0.24      </td><td>0.2879    </td><td>0.75      </td><td>0.0000    </td><td>3         </td><td>10        </td><td>13        </td></tr>\n",
       "\t<tr><td>5         </td><td>2011-01-01</td><td>1         </td><td>0         </td><td>1         </td><td>4         </td><td>0         </td><td>6         </td><td>0         </td><td>1         </td><td>0.24      </td><td>0.2879    </td><td>0.75      </td><td>0.0000    </td><td>0         </td><td> 1        </td><td> 1        </td></tr>\n",
       "\t<tr><td>6         </td><td>2011-01-01</td><td>1         </td><td>0         </td><td>1         </td><td>5         </td><td>0         </td><td>6         </td><td>0         </td><td>2         </td><td>0.24      </td><td>0.2576    </td><td>0.75      </td><td>0.0896    </td><td>0         </td><td> 1        </td><td> 1        </td></tr>\n",
       "</tbody>\n",
       "</table>\n"
      ],
      "text/latex": [
       "\\begin{tabular}{r|lllllllllllllllll}\n",
       " instant & dteday & season & yr & mnth & hr & holiday & weekday & workingday & weathersit & temp & atemp & hum & windspeed & casual & registered & cnt\\\\\n",
       "\\hline\n",
       "\t 1          & 2011-01-01 & 1          & 0          & 1          & 0          & 0          & 6          & 0          & 1          & 0.24       & 0.2879     & 0.81       & 0.0000     & 3          & 13         & 16        \\\\\n",
       "\t 2          & 2011-01-01 & 1          & 0          & 1          & 1          & 0          & 6          & 0          & 1          & 0.22       & 0.2727     & 0.80       & 0.0000     & 8          & 32         & 40        \\\\\n",
       "\t 3          & 2011-01-01 & 1          & 0          & 1          & 2          & 0          & 6          & 0          & 1          & 0.22       & 0.2727     & 0.80       & 0.0000     & 5          & 27         & 32        \\\\\n",
       "\t 4          & 2011-01-01 & 1          & 0          & 1          & 3          & 0          & 6          & 0          & 1          & 0.24       & 0.2879     & 0.75       & 0.0000     & 3          & 10         & 13        \\\\\n",
       "\t 5          & 2011-01-01 & 1          & 0          & 1          & 4          & 0          & 6          & 0          & 1          & 0.24       & 0.2879     & 0.75       & 0.0000     & 0          &  1         &  1        \\\\\n",
       "\t 6          & 2011-01-01 & 1          & 0          & 1          & 5          & 0          & 6          & 0          & 2          & 0.24       & 0.2576     & 0.75       & 0.0896     & 0          &  1         &  1        \\\\\n",
       "\\end{tabular}\n"
      ],
      "text/plain": [
       "  instant dteday     season yr mnth hr holiday weekday workingday weathersit\n",
       "1 1       2011-01-01 1      0  1    0  0       6       0          1         \n",
       "2 2       2011-01-01 1      0  1    1  0       6       0          1         \n",
       "3 3       2011-01-01 1      0  1    2  0       6       0          1         \n",
       "4 4       2011-01-01 1      0  1    3  0       6       0          1         \n",
       "5 5       2011-01-01 1      0  1    4  0       6       0          1         \n",
       "6 6       2011-01-01 1      0  1    5  0       6       0          2         \n",
       "  temp atemp  hum  windspeed casual registered cnt\n",
       "1 0.24 0.2879 0.81 0.0000    3      13         16 \n",
       "2 0.22 0.2727 0.80 0.0000    8      32         40 \n",
       "3 0.22 0.2727 0.80 0.0000    5      27         32 \n",
       "4 0.24 0.2879 0.75 0.0000    3      10         13 \n",
       "5 0.24 0.2879 0.75 0.0000    0       1          1 \n",
       "6 0.24 0.2576 0.75 0.0896    0       1          1 "
      ]
     },
     "metadata": {},
     "output_type": "display_data"
    },
    {
     "data": {
      "text/html": [
       "<ol class=list-inline>\n",
       "\t<li>6</li>\n",
       "\t<li>0</li>\n",
       "\t<li>1</li>\n",
       "\t<li>2</li>\n",
       "\t<li>3</li>\n",
       "\t<li>4</li>\n",
       "\t<li>5</li>\n",
       "</ol>\n"
      ],
      "text/latex": [
       "\\begin{enumerate*}\n",
       "\\item 6\n",
       "\\item 0\n",
       "\\item 1\n",
       "\\item 2\n",
       "\\item 3\n",
       "\\item 4\n",
       "\\item 5\n",
       "\\end{enumerate*}\n"
      ],
      "text/markdown": [
       "1. 6\n",
       "2. 0\n",
       "3. 1\n",
       "4. 2\n",
       "5. 3\n",
       "6. 4\n",
       "7. 5\n",
       "\n",
       "\n"
      ],
      "text/plain": [
       "[1] 6 0 1 2 3 4 5"
      ]
     },
     "metadata": {},
     "output_type": "display_data"
    },
    {
     "data": {
      "text/html": [
       "<ol class=list-inline>\n",
       "\t<li>1</li>\n",
       "\t<li>2</li>\n",
       "\t<li>3</li>\n",
       "\t<li>4</li>\n",
       "\t<li>5</li>\n",
       "</ol>\n"
      ],
      "text/latex": [
       "\\begin{enumerate*}\n",
       "\\item 1\n",
       "\\item 2\n",
       "\\item 3\n",
       "\\item 4\n",
       "\\item 5\n",
       "\\end{enumerate*}\n"
      ],
      "text/markdown": [
       "1. 1\n",
       "2. 2\n",
       "3. 3\n",
       "4. 4\n",
       "5. 5\n",
       "\n",
       "\n"
      ],
      "text/plain": [
       "[1] 1 2 3 4 5"
      ]
     },
     "metadata": {},
     "output_type": "display_data"
    },
    {
     "data": {
      "text/html": [
       "<ol class=list-inline>\n",
       "\t<li>6</li>\n",
       "\t<li>0</li>\n",
       "</ol>\n"
      ],
      "text/latex": [
       "\\begin{enumerate*}\n",
       "\\item 6\n",
       "\\item 0\n",
       "\\end{enumerate*}\n"
      ],
      "text/markdown": [
       "1. 6\n",
       "2. 0\n",
       "\n",
       "\n"
      ],
      "text/plain": [
       "[1] 6 0"
      ]
     },
     "metadata": {},
     "output_type": "display_data"
    }
   ],
   "source": [
    "#' Code for Activity 6 goes here -----------------------\n",
    "head(bikeshare_hour)\n",
    "unique(bikeshare_hour$weekday)\n",
    "W_bikeshare<-subset(bikeshare_hour, weekday==\"1\" | weekday==\"2\" | weekday==\"3\" | weekday==\"4\" | weekday==\"5\")\n",
    "Wd_bikeshare<-subset(bikeshare_hour, weekday==\"0\" | weekday==\"6\")\n",
    "\n",
    "unique(W_bikeshare$weekday)\n",
    "unique(Wd_bikeshare$weekday)\n",
    "#subset(bikeshare_hour,weekday==6)\n",
    "\n"
   ]
  },
  {
   "cell_type": "code",
   "execution_count": 28,
   "metadata": {
    "collapsed": false
   },
   "outputs": [
    {
     "data": {
      "text/plain": [
       "[937b619] 2016-09-25: This is my second commit, Activities 4-6"
      ]
     },
     "metadata": {},
     "output_type": "display_data"
    }
   ],
   "source": [
    "# SAVE NOTEBOOK BEFORE RUNNING CELL\n",
    "library(git2r)\n",
    "repo <- repository('../../..')\n",
    "add(repo, 'exercises.ipynb')   # Yes we add it again... we have another round of changes to record\n",
    "commit(repo,\"This is my second commit, Activities 4-6\")"
   ]
  },
  {
   "cell_type": "markdown",
   "metadata": {},
   "source": [
    "Let's say we were interested in analyzing distribution of data whether its a workday or not and the weather situation on that day. \n",
    "\n",
    "**Activity 7**: Find the distribution of data based on workday or not and kind of weather for the day. HInt: Look at table() command."
   ]
  },
  {
   "cell_type": "code",
   "execution_count": 61,
   "metadata": {
    "collapsed": false,
    "scrolled": true
   },
   "outputs": [
    {
     "data": {
      "text/plain": [
       "\n",
       "   1    2    3    4 \n",
       "3440 1216  357    1 "
      ]
     },
     "metadata": {},
     "output_type": "display_data"
    },
    {
     "data": {
      "text/plain": [
       "\n",
       "   1    2    3    4 \n",
       "7973 3328 1062    2 "
      ]
     },
     "metadata": {},
     "output_type": "display_data"
    }
   ],
   "source": [
    "# Code for Activity 7 goes here -----------------------\n",
    "# using the subset function \n",
    "table((subset(bikeshare_hour, weekday==\"0\" | weekday==\"6\"))$weather)\n",
    "table((subset(bikeshare_hour, weekday==\"1\" | weekday==\"2\" | weekday==\"3\" | weekday==\"4\" | weekday==\"5\"))$weather)"
   ]
  },
  {
   "cell_type": "code",
   "execution_count": 66,
   "metadata": {
    "collapsed": false
   },
   "outputs": [
    {
     "data": {
      "text/plain": [
       "\n",
       "   1    2    3    4 \n",
       "3440 1216  357    1 "
      ]
     },
     "metadata": {},
     "output_type": "display_data"
    },
    {
     "data": {
      "text/plain": [
       "\n",
       "   1    2    3    4 \n",
       "7973 3328 1062    2 "
      ]
     },
     "metadata": {},
     "output_type": "display_data"
    }
   ],
   "source": [
    "# without using subset function\n",
    "table((bikeshare_hour[bikeshare_hour$weekday==\"0\" | bikeshare_hour$weekday==\"6\",])$weather)\n",
    "table((bikeshare_hour[bikeshare_hour$weekday!=\"0\" & bikeshare_hour$weekday!=\"6\",])$weather)"
   ]
  },
  {
   "cell_type": "markdown",
   "metadata": {},
   "source": [
    "** Activity 8**: Identify the datatype of each variable in dataframe by applying class function to all variables."
   ]
  },
  {
   "cell_type": "code",
   "execution_count": 67,
   "metadata": {
    "collapsed": false
   },
   "outputs": [
    {
     "data": {
      "text/html": [
       "<dl class=dl-horizontal>\n",
       "\t<dt>instant</dt>\n",
       "\t\t<dd>'integer'</dd>\n",
       "\t<dt>dteday</dt>\n",
       "\t\t<dd>'factor'</dd>\n",
       "\t<dt>season</dt>\n",
       "\t\t<dd>'integer'</dd>\n",
       "\t<dt>yr</dt>\n",
       "\t\t<dd>'integer'</dd>\n",
       "\t<dt>mnth</dt>\n",
       "\t\t<dd>'integer'</dd>\n",
       "\t<dt>hr</dt>\n",
       "\t\t<dd>'integer'</dd>\n",
       "\t<dt>holiday</dt>\n",
       "\t\t<dd>'integer'</dd>\n",
       "\t<dt>weekday</dt>\n",
       "\t\t<dd>'integer'</dd>\n",
       "\t<dt>workingday</dt>\n",
       "\t\t<dd>'integer'</dd>\n",
       "\t<dt>weathersit</dt>\n",
       "\t\t<dd>'integer'</dd>\n",
       "\t<dt>temp</dt>\n",
       "\t\t<dd>'numeric'</dd>\n",
       "\t<dt>atemp</dt>\n",
       "\t\t<dd>'numeric'</dd>\n",
       "\t<dt>hum</dt>\n",
       "\t\t<dd>'numeric'</dd>\n",
       "\t<dt>windspeed</dt>\n",
       "\t\t<dd>'numeric'</dd>\n",
       "\t<dt>casual</dt>\n",
       "\t\t<dd>'integer'</dd>\n",
       "\t<dt>registered</dt>\n",
       "\t\t<dd>'integer'</dd>\n",
       "\t<dt>cnt</dt>\n",
       "\t\t<dd>'integer'</dd>\n",
       "</dl>\n"
      ],
      "text/latex": [
       "\\begin{description*}\n",
       "\\item[instant] 'integer'\n",
       "\\item[dteday] 'factor'\n",
       "\\item[season] 'integer'\n",
       "\\item[yr] 'integer'\n",
       "\\item[mnth] 'integer'\n",
       "\\item[hr] 'integer'\n",
       "\\item[holiday] 'integer'\n",
       "\\item[weekday] 'integer'\n",
       "\\item[workingday] 'integer'\n",
       "\\item[weathersit] 'integer'\n",
       "\\item[temp] 'numeric'\n",
       "\\item[atemp] 'numeric'\n",
       "\\item[hum] 'numeric'\n",
       "\\item[windspeed] 'numeric'\n",
       "\\item[casual] 'integer'\n",
       "\\item[registered] 'integer'\n",
       "\\item[cnt] 'integer'\n",
       "\\end{description*}\n"
      ],
      "text/markdown": [
       "instant\n",
       ":   'integer'dteday\n",
       ":   'factor'season\n",
       ":   'integer'yr\n",
       ":   'integer'mnth\n",
       ":   'integer'hr\n",
       ":   'integer'holiday\n",
       ":   'integer'weekday\n",
       ":   'integer'workingday\n",
       ":   'integer'weathersit\n",
       ":   'integer'temp\n",
       ":   'numeric'atemp\n",
       ":   'numeric'hum\n",
       ":   'numeric'windspeed\n",
       ":   'numeric'casual\n",
       ":   'integer'registered\n",
       ":   'integer'cnt\n",
       ":   'integer'\n",
       "\n"
      ],
      "text/plain": [
       "   instant     dteday     season         yr       mnth         hr    holiday \n",
       " \"integer\"   \"factor\"  \"integer\"  \"integer\"  \"integer\"  \"integer\"  \"integer\" \n",
       "   weekday workingday weathersit       temp      atemp        hum  windspeed \n",
       " \"integer\"  \"integer\"  \"integer\"  \"numeric\"  \"numeric\"  \"numeric\"  \"numeric\" \n",
       "    casual registered        cnt \n",
       " \"integer\"  \"integer\"  \"integer\" "
      ]
     },
     "metadata": {},
     "output_type": "display_data"
    }
   ],
   "source": [
    "#' Code for Activity 8 goes here -----------------------\n",
    "sapply(bikeshare_hour,class)"
   ]
  },
  {
   "cell_type": "markdown",
   "metadata": {},
   "source": [
    "````\n",
    "\n",
    "    Answer for activity 8\n",
    "    \n",
    "----\n",
    "\n",
    "````"
   ]
  },
  {
   "cell_type": "markdown",
   "metadata": {},
   "source": [
    "**Activity 9**: Check the structure of the dataframe. You have to look up for this command. This command will give you the dimensions of dataframe, type of each variable and intial first 10 values of the variable."
   ]
  },
  {
   "cell_type": "code",
   "execution_count": 69,
   "metadata": {
    "collapsed": false
   },
   "outputs": [
    {
     "name": "stdout",
     "output_type": "stream",
     "text": [
      "'data.frame':\t17379 obs. of  17 variables:\n",
      " $ instant   : int  1 2 3 4 5 6 7 8 9 10 ...\n",
      " $ dteday    : Factor w/ 731 levels \"2011-01-01\",\"2011-01-02\",..: 1 1 1 1 1 1 1 1 1 1 ...\n",
      " $ season    : int  1 1 1 1 1 1 1 1 1 1 ...\n",
      " $ yr        : int  0 0 0 0 0 0 0 0 0 0 ...\n",
      " $ mnth      : int  1 1 1 1 1 1 1 1 1 1 ...\n",
      " $ hr        : int  0 1 2 3 4 5 6 7 8 9 ...\n",
      " $ holiday   : int  0 0 0 0 0 0 0 0 0 0 ...\n",
      " $ weekday   : int  6 6 6 6 6 6 6 6 6 6 ...\n",
      " $ workingday: int  0 0 0 0 0 0 0 0 0 0 ...\n",
      " $ weathersit: int  1 1 1 1 1 2 1 1 1 1 ...\n",
      " $ temp      : num  0.24 0.22 0.22 0.24 0.24 0.24 0.22 0.2 0.24 0.32 ...\n",
      " $ atemp     : num  0.288 0.273 0.273 0.288 0.288 ...\n",
      " $ hum       : num  0.81 0.8 0.8 0.75 0.75 0.75 0.8 0.86 0.75 0.76 ...\n",
      " $ windspeed : num  0 0 0 0 0 0.0896 0 0 0 0 ...\n",
      " $ casual    : int  3 8 5 3 0 0 2 1 1 8 ...\n",
      " $ registered: int  13 32 27 10 1 1 0 2 7 6 ...\n",
      " $ cnt       : int  16 40 32 13 1 1 2 3 8 14 ...\n"
     ]
    }
   ],
   "source": [
    "#' Code for Activity 9 goes here -----------------------\n",
    "str(bikeshare_hour)"
   ]
  },
  {
   "cell_type": "markdown",
   "metadata": {},
   "source": [
    "Let's see if people are more interested in riding the bike on weekdays or weekends. \n",
    "\n",
    "**Activity 10: ** Find out if people are more interested in riding the bike on weekdays or weekends. Find the average number of instances for weekdays and weekends."
   ]
  },
  {
   "cell_type": "code",
   "execution_count": 186,
   "metadata": {
    "collapsed": false
   },
   "outputs": [
    {
     "data": {
      "text/html": [
       "191.738374443995"
      ],
      "text/latex": [
       "191.738374443995"
      ],
      "text/markdown": [
       "191.738374443995"
      ],
      "text/plain": [
       "[1] 191.7384"
      ]
     },
     "metadata": {},
     "output_type": "display_data"
    },
    {
     "data": {
      "text/html": [
       "183.852014359793"
      ],
      "text/latex": [
       "183.852014359793"
      ],
      "text/markdown": [
       "183.852014359793"
      ],
      "text/plain": [
       "[1] 183.852"
      ]
     },
     "metadata": {},
     "output_type": "display_data"
    }
   ],
   "source": [
    "# Code for Activity 10 goes here -----------------------\n",
    "mean(W_bikeshare$cnt)\n",
    "mean(Wd_bikeshare$cnt)\n",
    "# People are more interested in riding week end by a very small margin.3.006 on average the week-ends compared to 3.003 on average on week days.\n"
   ]
  },
  {
   "cell_type": "code",
   "execution_count": 74,
   "metadata": {
    "collapsed": false
   },
   "outputs": [
    {
     "data": {
      "text/plain": [
       "[ac8471a] 2016-09-25: Activities 7-10"
      ]
     },
     "metadata": {},
     "output_type": "display_data"
    }
   ],
   "source": [
    "# SAVE NOTEBOOK BEFORE RUNNING CELL\n",
    "library(git2r)\n",
    "repo <- repository('../../..')\n",
    "add(repo, 'exercises.ipynb')   # Yes we add it again... we have another round of changes to record\n",
    "commit(repo,\"Activities 7-10\")"
   ]
  },
  {
   "cell_type": "markdown",
   "metadata": {},
   "source": [
    "**Activity 11: ** Find out the day and hour when the maximum number of bikes were shared"
   ]
  },
  {
   "cell_type": "code",
   "execution_count": null,
   "metadata": {
    "collapsed": true
   },
   "outputs": [],
   "source": [
    "  "
   ]
  },
  {
   "cell_type": "code",
   "execution_count": 81,
   "metadata": {
    "collapsed": false
   },
   "outputs": [
    {
     "data": {
      "text/html": [
       "<table>\n",
       "<thead><tr><th></th><th scope=col>hr</th><th scope=col>weekday</th><th scope=col>cnt</th></tr></thead>\n",
       "<tbody>\n",
       "\t<tr><th scope=row>14774</th><td>18 </td><td>3  </td><td>977</td></tr>\n",
       "</tbody>\n",
       "</table>\n"
      ],
      "text/latex": [
       "\\begin{tabular}{r|lll}\n",
       "  & hr & weekday & cnt\\\\\n",
       "\\hline\n",
       "\t14774 & 18  & 3   & 977\\\\\n",
       "\\end{tabular}\n"
      ],
      "text/plain": [
       "      hr weekday cnt\n",
       "14774 18 3       977"
      ]
     },
     "metadata": {},
     "output_type": "display_data"
    }
   ],
   "source": [
    "# Code for Activity 11 goes here -----------------------\n",
    "\n",
    "bikeshare_hour[bikeshare_hour$cnt==max(bikeshare_hour$cnt),c(6,8,17)]\n"
   ]
  },
  {
   "cell_type": "markdown",
   "metadata": {},
   "source": [
    "Lets do some data cleaning for taking up the next activity"
   ]
  },
  {
   "cell_type": "code",
   "execution_count": 93,
   "metadata": {
    "collapsed": false
   },
   "outputs": [
    {
     "name": "stdout",
     "output_type": "stream",
     "text": [
      "         0     1     2    3    4     5     6      7      8      9     10     11\n",
      "[1,] 39130 24164 16352 8174 4428 14261 55132 154171 261001 159438 126257 151320\n",
      "         12     13     14     15     16     17     18     19     20     21\n",
      "[1,] 184414 184919 175652 183149 227748 336860 309772 226789 164550 125445\n",
      "        22    23\n",
      "[1,] 95612 63941\n",
      "          0      1      2      3      4      5      6\n",
      "[1,] 444027 455503 469109 473048 485395 487790 477807\n"
     ]
    }
   ],
   "source": [
    "#First get the count of total bike shares based on each hour of the day and weekday. Run the code below\n",
    "hour_sums=t(tapply(bikeshare_hour$cnt, bikeshare_hour$hr,sum))\n",
    "day_sums=t(tapply(bikeshare_hour$cnt, bikeshare_hour$weekday,sum))\n",
    "print(hour_sums)\n",
    "print(day_sums)"
   ]
  },
  {
   "cell_type": "markdown",
   "metadata": {},
   "source": [
    "tapply() definition from R-manual: Apply a function to each cell of a ragged array, that is to each (non-empty) group of values given by a unique combination of the levels of certain factors.\n",
    "\n",
    "Suggested reading: [tapply()](https://www.r-bloggers.com/r-function-of-the-day-tapply-2/)\n",
    "\n",
    "Simply put, in our example of hour_sums variable, the data is partitioned based on the second parameter, `bikeshare_hour$hr.` So 24 subsets are created for each hour(0 to 23). The 3rd argument can be any function(sum,mean,median etc) which is applied on the first parameter of tapply function. Since now we have 24 subsets, we are performing sum(bikeshare_hour$cnt) on this 24 subsets of data for each hour.\n",
    "\n",
    "\n",
    "The t() is used to return transpose input dataframe or matrix. Jupyter has issues rendering tapply() output, so t() is a workaround to display the output correctly.`\n",
    "\n",
    "More information on [t()](https://stat.ethz.ch/R-manual/R-devel/library/base/html/t.html)\n",
    "\n",
    "If you check the dimensions of hour_sums and day_sums variables they are dataframes. But we want the output in the form of a vector. So how can we convert a dataframe to a vector?"
   ]
  },
  {
   "cell_type": "code",
   "execution_count": 94,
   "metadata": {
    "collapsed": false
   },
   "outputs": [
    {
     "data": {
      "text/html": [
       "<ol class=list-inline>\n",
       "\t<li>1</li>\n",
       "\t<li>24</li>\n",
       "</ol>\n"
      ],
      "text/latex": [
       "\\begin{enumerate*}\n",
       "\\item 1\n",
       "\\item 24\n",
       "\\end{enumerate*}\n"
      ],
      "text/markdown": [
       "1. 1\n",
       "2. 24\n",
       "\n",
       "\n"
      ],
      "text/plain": [
       "[1]  1 24"
      ]
     },
     "metadata": {},
     "output_type": "display_data"
    },
    {
     "data": {
      "text/html": [
       "<ol class=list-inline>\n",
       "\t<li>1</li>\n",
       "\t<li>7</li>\n",
       "</ol>\n"
      ],
      "text/latex": [
       "\\begin{enumerate*}\n",
       "\\item 1\n",
       "\\item 7\n",
       "\\end{enumerate*}\n"
      ],
      "text/markdown": [
       "1. 1\n",
       "2. 7\n",
       "\n",
       "\n"
      ],
      "text/plain": [
       "[1] 1 7"
      ]
     },
     "metadata": {},
     "output_type": "display_data"
    },
    {
     "data": {
      "text/html": [
       "'matrix'"
      ],
      "text/latex": [
       "'matrix'"
      ],
      "text/markdown": [
       "'matrix'"
      ],
      "text/plain": [
       "[1] \"matrix\""
      ]
     },
     "metadata": {},
     "output_type": "display_data"
    },
    {
     "data": {
      "text/html": [
       "'matrix'"
      ],
      "text/latex": [
       "'matrix'"
      ],
      "text/markdown": [
       "'matrix'"
      ],
      "text/plain": [
       "[1] \"matrix\""
      ]
     },
     "metadata": {},
     "output_type": "display_data"
    }
   ],
   "source": [
    "#The above piece of code returns dataframes as output. Check the dimensions and class to verify. Run the code below.\n",
    "dim(hour_sums)\n",
    "dim(day_sums)\n",
    "class(hour_sums)\n",
    "class(day_sums)"
   ]
  },
  {
   "cell_type": "markdown",
   "metadata": {},
   "source": [
    "R has builtin function to convert data format between dataframes,matrices and vectors. You can change the data type and also check if certain object is actually a dataframe or matrix or a vector using functions like is.dataframe() etc."
   ]
  },
  {
   "cell_type": "code",
   "execution_count": 107,
   "metadata": {
    "collapsed": false
   },
   "outputs": [
    {
     "data": {
      "text/html": [
       "TRUE"
      ],
      "text/latex": [
       "TRUE"
      ],
      "text/markdown": [
       "TRUE"
      ],
      "text/plain": [
       "[1] TRUE"
      ]
     },
     "metadata": {},
     "output_type": "display_data"
    },
    {
     "data": {
      "text/html": [
       "TRUE"
      ],
      "text/latex": [
       "TRUE"
      ],
      "text/markdown": [
       "TRUE"
      ],
      "text/plain": [
       "[1] TRUE"
      ]
     },
     "metadata": {},
     "output_type": "display_data"
    }
   ],
   "source": [
    "#Convert the dataframes hour_sums, day_sums into a matrix and then into arrays. Run the code below.\n",
    "hour_sums=as.vector(as.matrix(hour_sums))\n",
    "day_sums=as.vector(as.matrix(day_sums))\n",
    "is.vector(hour_sums)\n",
    "is.vector(day_sums)"
   ]
  },
  {
   "cell_type": "markdown",
   "metadata": {},
   "source": [
    "## Distributions\n",
    "\n",
    "\n",
    "Lets peek into the distribution of different variables and see how they are distributed.\n",
    "\n",
    "** Activity 12: ** Plot a bar plot for bike shares for each hour of the day and weekday. Use hour_sums and day_sums vectors we created above to plot the graphs. Combine this plots using the par() or layout() command for analyzing them easily."
   ]
  },
  {
   "cell_type": "code",
   "execution_count": 127,
   "metadata": {
    "collapsed": false
   },
   "outputs": [
    {
     "data": {
      "image/png": "[encoded data removed]",
      "text/plain": [
       "Plot with title “Daily bike share  Distribution”"
      ]
     },
     "metadata": {},
     "output_type": "display_data"
    }
   ],
   "source": [
    "# Code for activity 12 goes gere \n",
    "#layout(c(1,2))\n",
    "par(mfrow=c(2,1))\n",
    "barplot(hour_sums, main=\"Hourly bike share  Distribution\",ylab=\"Number of bike share\",xlab=\"Hour\",\n",
    "       names.arg=0:23)\n",
    "barplot(day_sums, main=\"Daily bike share  Distribution\",ylab=\"Number of bike share\",xlab=\"weekday\",names.arg=0:6)\n"
   ]
  },
  {
   "cell_type": "markdown",
   "metadata": {},
   "source": [
    "The plots clearly tell, The peak hour of bike shares is 17 and 18 hours every day. While, thurdays and fridays are popular for bike shares in a week. This is contradicting with what we saw in activity 10 where average number of instances of bike shares are more on weekends. Lets see the average number of users who rent the bike on each week of the day."
   ]
  },
  {
   "cell_type": "code",
   "execution_count": 147,
   "metadata": {
    "collapsed": false
   },
   "outputs": [
    {
     "data": {
      "text/html": [
       "<ol class=list-inline>\n",
       "\t<li>444027</li>\n",
       "\t<li>455503</li>\n",
       "\t<li>469109</li>\n",
       "\t<li>473048</li>\n",
       "\t<li>485395</li>\n",
       "\t<li>487790</li>\n",
       "\t<li>477807</li>\n",
       "</ol>\n"
      ],
      "text/latex": [
       "\\begin{enumerate*}\n",
       "\\item 444027\n",
       "\\item 455503\n",
       "\\item 469109\n",
       "\\item 473048\n",
       "\\item 485395\n",
       "\\item 487790\n",
       "\\item 477807\n",
       "\\end{enumerate*}\n"
      ],
      "text/markdown": [
       "1. 444027\n",
       "2. 455503\n",
       "3. 469109\n",
       "4. 473048\n",
       "5. 485395\n",
       "6. 487790\n",
       "7. 477807\n",
       "\n",
       "\n"
      ],
      "text/plain": [
       "[1] 444027 455503 469109 473048 485395 487790 477807"
      ]
     },
     "metadata": {},
     "output_type": "display_data"
    },
    {
     "data": {
      "text/html": [
       "<ol class=list-inline>\n",
       "\t<li>2502</li>\n",
       "\t<li>2479</li>\n",
       "\t<li>2453</li>\n",
       "\t<li>2475</li>\n",
       "\t<li>2471</li>\n",
       "\t<li>2487</li>\n",
       "\t<li>2512</li>\n",
       "</ol>\n"
      ],
      "text/latex": [
       "\\begin{enumerate*}\n",
       "\\item 2502\n",
       "\\item 2479\n",
       "\\item 2453\n",
       "\\item 2475\n",
       "\\item 2471\n",
       "\\item 2487\n",
       "\\item 2512\n",
       "\\end{enumerate*}\n"
      ],
      "text/markdown": [
       "1. 2502\n",
       "2. 2479\n",
       "3. 2453\n",
       "4. 2475\n",
       "5. 2471\n",
       "6. 2487\n",
       "7. 2512\n",
       "\n",
       "\n"
      ],
      "text/plain": [
       "[1] 2502 2479 2453 2475 2471 2487 2512"
      ]
     },
     "metadata": {},
     "output_type": "display_data"
    },
    {
     "data": {
      "text/html": [
       "<ol class=list-inline>\n",
       "\t<li>177.468824940048</li>\n",
       "\t<li>183.744655102864</li>\n",
       "\t<li>191.238891153689</li>\n",
       "\t<li>191.130505050505</li>\n",
       "\t<li>196.436665317685</li>\n",
       "\t<li>196.135906714918</li>\n",
       "\t<li>190.209792993631</li>\n",
       "</ol>\n"
      ],
      "text/latex": [
       "\\begin{enumerate*}\n",
       "\\item 177.468824940048\n",
       "\\item 183.744655102864\n",
       "\\item 191.238891153689\n",
       "\\item 191.130505050505\n",
       "\\item 196.436665317685\n",
       "\\item 196.135906714918\n",
       "\\item 190.209792993631\n",
       "\\end{enumerate*}\n"
      ],
      "text/markdown": [
       "1. 177.468824940048\n",
       "2. 183.744655102864\n",
       "3. 191.238891153689\n",
       "4. 191.130505050505\n",
       "5. 196.436665317685\n",
       "6. 196.135906714918\n",
       "7. 190.209792993631\n",
       "\n",
       "\n"
      ],
      "text/plain": [
       "[1] 177.4688 183.7447 191.2389 191.1305 196.4367 196.1359 190.2098"
      ]
     },
     "metadata": {},
     "output_type": "display_data"
    },
    {
     "data": {
      "image/png": "[encoded data removed]",
      "text/plain": [
       "Plot with title “AVERAGE Daily bike share  Distribution”"
      ]
     },
     "metadata": {},
     "output_type": "display_data"
    }
   ],
   "source": [
    "day_sums\n",
    "nub_days=as.vector(table(bikeshare_hour$weekday))\n",
    "nub_days\n",
    "day_means=day_sums/nub_days\n",
    "day_mean\n",
    "barplot(day_means, main=\"Average Daily bike share  Distribution\",ylab=\"Number of bike share\",xlab=\"weekday\",names.arg=0:6)"
   ]
  },
  {
   "cell_type": "markdown",
   "metadata": {},
   "source": [
    "**Activity 13: ** Plot a boxplot for `cnt` against each weekday"
   ]
  },
  {
   "cell_type": "code",
   "execution_count": 188,
   "metadata": {
    "collapsed": false
   },
   "outputs": [
    {
     "data": {
      "image/png": "[encoded data removed]",
      "text/plain": [
       "Plot with title “Boxplots for Count per weeekday”"
      ]
     },
     "metadata": {},
     "output_type": "display_data"
    }
   ],
   "source": [
    "#Code for activity 13 goes here.........\n",
    "boxplot(cnt~weekday,data=bikeshare_hour,col=\"blue\",main=\"Boxplots for Count per weeekday\", \n",
    "  \txlab=\"weekday\", ylab=\"Count\")"
   ]
  },
  {
   "cell_type": "markdown",
   "metadata": {},
   "source": [
    "** Activity 14: ** Plot histograms for variables `casual`, `registered` and `cnt` variables and see how they are distributed.  \n",
    "Plot mean and median on the histograms. "
   ]
  },
  {
   "cell_type": "code",
   "execution_count": 187,
   "metadata": {
    "collapsed": false
   },
   "outputs": [
    {
     "data": {
      "image/png": "[encoded data removed]",
      "text/plain": [
       "Plot with title “cnt”"
      ]
     },
     "metadata": {},
     "output_type": "display_data"
    }
   ],
   "source": [
    "#Code for activity 14 goes here\n",
    "par(mfrow=c(3, 1))\n",
    "colnames <- colnames(bikeshare_hour)\n",
    "for (i in 15:17) {\n",
    "hist(bikeshare_hour[,i], main=colnames[i], col=\"green\",probability=FALSE)\n",
    "abline(v=c(mean(bikeshare_hour[,i]),median(bikeshare_hour[,i])),col=c(\"blue\",\"red\"))\n",
    "legend(\"topright\",legend=c(\"MEAN\",\"MEDIAN\"), lty=c(1,1), lwd=c(.2,.2),col=c(\"blue\",\"red\"))\n",
    "   \n",
    "}\n"
   ]
  },
  {
   "cell_type": "markdown",
   "metadata": {},
   "source": [
    "# SAVE YOUR NOTEBOOK\n",
    "\n",
    "The next cell is the final commit of work!"
   ]
  },
  {
   "cell_type": "code",
   "execution_count": 177,
   "metadata": {
    "collapsed": false
   },
   "outputs": [
    {
     "data": {
      "text/plain": [
       "[bfca86a] 2016-09-25: Activities 11-14"
      ]
     },
     "metadata": {},
     "output_type": "display_data"
    },
    {
     "name": "stdout",
     "output_type": "stream",
     "text": [
      "Local:    master /dsa/home/souleymanesaleya/DSA-8610_souleymanesaleya/\n",
      "Remote:   master @ origin (git@git.dsa.missouri.edu:dsa-8610f16/DSA-8610_souleymanesaleya.git)\n",
      "Head:     [bfca86a] 2016-09-25: Activities 11-14\n",
      "\n",
      "Branches:         2\n",
      "Tags:             0\n",
      "Commits:         11\n",
      "Contributors:     2\n",
      "Stashes:          0\n",
      "Ignored files:    3\n",
      "Untracked files:  1\n",
      "Unstaged files:   2\n",
      "Staged files:     0\n",
      "\n",
      "Latest commits:\n",
      "[bfca86a] 2016-09-25: Activities 11-14\n",
      "[e76d2fb] 2016-09-25: Activities 11-14\n",
      "[ac8471a] 2016-09-25: Activities 7-10\n",
      "[937b619] 2016-09-25: This is my second commit, Activities 4-6\n",
      "[4c25266] 2016-09-25: This is my second commit, Activities 4-6\n"
     ]
    }
   ],
   "source": [
    "# SAVE NOTEBOOK BEFORE RUNNING CELL\n",
    "library(git2r)\n",
    "repo <- repository('../../..')\n",
    "add(repo, 'exercises.ipynb')   # Yes we add it again... we have another round of changes to record\n",
    "commit(repo,\"Activities 11-14\")\n",
    "\n",
    "# Let's look at the history of our work\n",
    "summary(repo)"
   ]
  },
  {
   "cell_type": "code",
   "execution_count": null,
   "metadata": {
    "collapsed": true
   },
   "outputs": [],
   "source": []
  }
 ],
 "metadata": {
  "kernelspec": {
   "display_name": "R",
   "language": "R",
   "name": "ir"
  },
  "language_info": {
   "codemirror_mode": "r",
   "file_extension": ".r",
   "mimetype": "text/x-r-source",
   "name": "R",
   "pygments_lexer": "r",
   "version": "3.3.1"
  }
 },
 "nbformat": 4,
 "nbformat_minor": 0
}
