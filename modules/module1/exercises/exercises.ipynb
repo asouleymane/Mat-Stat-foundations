{
 "cells": [
  {
   "cell_type": "markdown",
   "metadata": {},
   "source": [
    "# Intro to statistics with `R`\n",
    "\n",
    "This is your first exercise notebook. \n",
    "The exercises are similar to what you have seen in lab and practice notebook with a few exercises designed to be a bit challenging. \n",
    "You should explore and find commands to solve the exercises.   \n",
    "\n",
    "Again much of the content will be similar to your lab, [Lab1_Histograms_and_Zscore](../labs/lab1_intro_to_stats.ipynb) and other practice book,[Traditional statistics practice with R](../practices/practice_wine.ipynb). \n",
    "Both notebooks will help you as a guide post in working out the solutions. \n",
    "\n",
    "As an added bonus, within this notebook we provide sample R code that commits your work to version control system (VCS).\n",
    "We will discuss this VCS later.\n",
    "Basically, you will create point-in-time saved versions of your notebook."
   ]
  },
  {
   "cell_type": "markdown",
   "metadata": {},
   "source": [
    "## Read in the Data\n",
    "\n",
    "For this exercise we will use some Bike Share data."
   ]
  },
  {
   "cell_type": "code",
   "execution_count": 58,
   "metadata": {
    "collapsed": false
   },
   "outputs": [
    {
     "data": {
      "text/html": [
       "<table>\n",
       "<thead><tr><th scope=col>instant</th><th scope=col>dteday</th><th scope=col>season</th><th scope=col>yr</th><th scope=col>mnth</th><th scope=col>hr</th><th scope=col>holiday</th><th scope=col>weekday</th><th scope=col>workingday</th><th scope=col>weathersit</th><th scope=col>temp</th><th scope=col>atemp</th><th scope=col>hum</th><th scope=col>windspeed</th><th scope=col>casual</th><th scope=col>registered</th><th scope=col>cnt</th></tr></thead>\n",
       "<tbody>\n",
       "\t<tr><td>1         </td><td>2011-01-01</td><td>1         </td><td>0         </td><td>1         </td><td>0         </td><td>0         </td><td>6         </td><td>0         </td><td>1         </td><td>0.24      </td><td>0.2879    </td><td>0.81      </td><td>0.0000    </td><td>3         </td><td>13        </td><td>16        </td></tr>\n",
       "\t<tr><td>2         </td><td>2011-01-01</td><td>1         </td><td>0         </td><td>1         </td><td>1         </td><td>0         </td><td>6         </td><td>0         </td><td>1         </td><td>0.22      </td><td>0.2727    </td><td>0.80      </td><td>0.0000    </td><td>8         </td><td>32        </td><td>40        </td></tr>\n",
       "\t<tr><td>3         </td><td>2011-01-01</td><td>1         </td><td>0         </td><td>1         </td><td>2         </td><td>0         </td><td>6         </td><td>0         </td><td>1         </td><td>0.22      </td><td>0.2727    </td><td>0.80      </td><td>0.0000    </td><td>5         </td><td>27        </td><td>32        </td></tr>\n",
       "\t<tr><td>4         </td><td>2011-01-01</td><td>1         </td><td>0         </td><td>1         </td><td>3         </td><td>0         </td><td>6         </td><td>0         </td><td>1         </td><td>0.24      </td><td>0.2879    </td><td>0.75      </td><td>0.0000    </td><td>3         </td><td>10        </td><td>13        </td></tr>\n",
       "\t<tr><td>5         </td><td>2011-01-01</td><td>1         </td><td>0         </td><td>1         </td><td>4         </td><td>0         </td><td>6         </td><td>0         </td><td>1         </td><td>0.24      </td><td>0.2879    </td><td>0.75      </td><td>0.0000    </td><td>0         </td><td> 1        </td><td> 1        </td></tr>\n",
       "\t<tr><td>6         </td><td>2011-01-01</td><td>1         </td><td>0         </td><td>1         </td><td>5         </td><td>0         </td><td>6         </td><td>0         </td><td>2         </td><td>0.24      </td><td>0.2576    </td><td>0.75      </td><td>0.0896    </td><td>0         </td><td> 1        </td><td> 1        </td></tr>\n",
       "</tbody>\n",
       "</table>\n"
      ],
      "text/latex": [
       "\\begin{tabular}{r|lllllllllllllllll}\n",
       " instant & dteday & season & yr & mnth & hr & holiday & weekday & workingday & weathersit & temp & atemp & hum & windspeed & casual & registered & cnt\\\\\n",
       "\\hline\n",
       "\t 1          & 2011-01-01 & 1          & 0          & 1          & 0          & 0          & 6          & 0          & 1          & 0.24       & 0.2879     & 0.81       & 0.0000     & 3          & 13         & 16        \\\\\n",
       "\t 2          & 2011-01-01 & 1          & 0          & 1          & 1          & 0          & 6          & 0          & 1          & 0.22       & 0.2727     & 0.80       & 0.0000     & 8          & 32         & 40        \\\\\n",
       "\t 3          & 2011-01-01 & 1          & 0          & 1          & 2          & 0          & 6          & 0          & 1          & 0.22       & 0.2727     & 0.80       & 0.0000     & 5          & 27         & 32        \\\\\n",
       "\t 4          & 2011-01-01 & 1          & 0          & 1          & 3          & 0          & 6          & 0          & 1          & 0.24       & 0.2879     & 0.75       & 0.0000     & 3          & 10         & 13        \\\\\n",
       "\t 5          & 2011-01-01 & 1          & 0          & 1          & 4          & 0          & 6          & 0          & 1          & 0.24       & 0.2879     & 0.75       & 0.0000     & 0          &  1         &  1        \\\\\n",
       "\t 6          & 2011-01-01 & 1          & 0          & 1          & 5          & 0          & 6          & 0          & 2          & 0.24       & 0.2576     & 0.75       & 0.0896     & 0          &  1         &  1        \\\\\n",
       "\\end{tabular}\n"
      ],
      "text/plain": [
       "  instant dteday     season yr mnth hr holiday weekday workingday weathersit\n",
       "1 1       2011-01-01 1      0  1    0  0       6       0          1         \n",
       "2 2       2011-01-01 1      0  1    1  0       6       0          1         \n",
       "3 3       2011-01-01 1      0  1    2  0       6       0          1         \n",
       "4 4       2011-01-01 1      0  1    3  0       6       0          1         \n",
       "5 5       2011-01-01 1      0  1    4  0       6       0          1         \n",
       "6 6       2011-01-01 1      0  1    5  0       6       0          2         \n",
       "  temp atemp  hum  windspeed casual registered cnt\n",
       "1 0.24 0.2879 0.81 0.0000    3      13         16 \n",
       "2 0.22 0.2727 0.80 0.0000    8      32         40 \n",
       "3 0.22 0.2727 0.80 0.0000    5      27         32 \n",
       "4 0.24 0.2879 0.75 0.0000    3      10         13 \n",
       "5 0.24 0.2879 0.75 0.0000    0       1          1 \n",
       "6 0.24 0.2576 0.75 0.0896    0       1          1 "
      ]
     },
     "metadata": {},
     "output_type": "display_data"
    }
   ],
   "source": [
    "bikeshare_hour <- read.csv('../../../datasets/bikeshare/hour.csv')\n",
    "head(bikeshare_hour)"
   ]
  },
  {
   "cell_type": "markdown",
   "metadata": {},
   "source": [
    "**Activity 1**: Find the dimensions (the number of rows and columns) of the data frame."
   ]
  },
  {
   "cell_type": "code",
   "execution_count": 2,
   "metadata": {
    "collapsed": false
   },
   "outputs": [
    {
     "data": {
      "text/html": [
       "<ol class=list-inline>\n",
       "\t<li>17379</li>\n",
       "\t<li>17</li>\n",
       "</ol>\n"
      ],
      "text/latex": [
       "\\begin{enumerate*}\n",
       "\\item 17379\n",
       "\\item 17\n",
       "\\end{enumerate*}\n"
      ],
      "text/markdown": [
       "1. 17379\n",
       "2. 17\n",
       "\n",
       "\n"
      ],
      "text/plain": [
       "[1] 17379    17"
      ]
     },
     "execution_count": 2,
     "metadata": {},
     "output_type": "execute_result"
    }
   ],
   "source": [
    "# Code for Activity 1 goes here \n",
    "dim(bikeshare_hour)"
   ]
  },
  {
   "cell_type": "markdown",
   "metadata": {},
   "source": [
    "**Activity 2**: Display the ***last*** 10 columns of the data frame."
   ]
  },
  {
   "cell_type": "code",
   "execution_count": 59,
   "metadata": {
    "collapsed": false
   },
   "outputs": [
    {
     "data": {
      "text/html": [
       "<table>\n",
       "<thead><tr><th scope=col>weekday</th><th scope=col>workingday</th><th scope=col>weathersit</th><th scope=col>temp</th><th scope=col>atemp</th><th scope=col>hum</th><th scope=col>windspeed</th><th scope=col>casual</th><th scope=col>registered</th><th scope=col>cnt</th></tr></thead>\n",
       "<tbody>\n",
       "\t<tr><td>6     </td><td>0     </td><td>1     </td><td>0.24  </td><td>0.2879</td><td>0.81  </td><td>0.0000</td><td>3     </td><td>13    </td><td>16    </td></tr>\n",
       "\t<tr><td>6     </td><td>0     </td><td>1     </td><td>0.22  </td><td>0.2727</td><td>0.80  </td><td>0.0000</td><td>8     </td><td>32    </td><td>40    </td></tr>\n",
       "\t<tr><td>6     </td><td>0     </td><td>1     </td><td>0.22  </td><td>0.2727</td><td>0.80  </td><td>0.0000</td><td>5     </td><td>27    </td><td>32    </td></tr>\n",
       "\t<tr><td>6     </td><td>0     </td><td>1     </td><td>0.24  </td><td>0.2879</td><td>0.75  </td><td>0.0000</td><td>3     </td><td>10    </td><td>13    </td></tr>\n",
       "\t<tr><td>6     </td><td>0     </td><td>1     </td><td>0.24  </td><td>0.2879</td><td>0.75  </td><td>0.0000</td><td>0     </td><td> 1    </td><td> 1    </td></tr>\n",
       "\t<tr><td>6     </td><td>0     </td><td>2     </td><td>0.24  </td><td>0.2576</td><td>0.75  </td><td>0.0896</td><td>0     </td><td> 1    </td><td> 1    </td></tr>\n",
       "</tbody>\n",
       "</table>\n"
      ],
      "text/latex": [
       "\\begin{tabular}{r|llllllllll}\n",
       " weekday & workingday & weathersit & temp & atemp & hum & windspeed & casual & registered & cnt\\\\\n",
       "\\hline\n",
       "\t 6      & 0      & 1      & 0.24   & 0.2879 & 0.81   & 0.0000 & 3      & 13     & 16    \\\\\n",
       "\t 6      & 0      & 1      & 0.22   & 0.2727 & 0.80   & 0.0000 & 8      & 32     & 40    \\\\\n",
       "\t 6      & 0      & 1      & 0.22   & 0.2727 & 0.80   & 0.0000 & 5      & 27     & 32    \\\\\n",
       "\t 6      & 0      & 1      & 0.24   & 0.2879 & 0.75   & 0.0000 & 3      & 10     & 13    \\\\\n",
       "\t 6      & 0      & 1      & 0.24   & 0.2879 & 0.75   & 0.0000 & 0      &  1     &  1    \\\\\n",
       "\t 6      & 0      & 2      & 0.24   & 0.2576 & 0.75   & 0.0896 & 0      &  1     &  1    \\\\\n",
       "\\end{tabular}\n"
      ],
      "text/plain": [
       "  weekday workingday weathersit temp atemp  hum  windspeed casual registered\n",
       "1 6       0          1          0.24 0.2879 0.81 0.0000    3      13        \n",
       "2 6       0          1          0.22 0.2727 0.80 0.0000    8      32        \n",
       "3 6       0          1          0.22 0.2727 0.80 0.0000    5      27        \n",
       "4 6       0          1          0.24 0.2879 0.75 0.0000    3      10        \n",
       "5 6       0          1          0.24 0.2879 0.75 0.0000    0       1        \n",
       "6 6       0          2          0.24 0.2576 0.75 0.0896    0       1        \n",
       "  cnt\n",
       "1 16 \n",
       "2 40 \n",
       "3 32 \n",
       "4 13 \n",
       "5  1 \n",
       "6  1 "
      ]
     },
     "metadata": {},
     "output_type": "display_data"
    }
   ],
   "source": [
    "# Code for Activity 2 goes here\n",
    "last_columns<-bikeshare_hour[c(0,8:17)]\n",
    "head(last_columns)"
   ]
  },
  {
   "cell_type": "markdown",
   "metadata": {},
   "source": [
    "**Activity 3**: Run summary command learnt in lab and identify each variable if its categorical or numerical."
   ]
  },
  {
   "cell_type": "code",
   "execution_count": 23,
   "metadata": {
    "collapsed": false
   },
   "outputs": [
    {
     "data": {
      "text/plain": [
       "    instant             dteday          season            yr        \n",
       " Min.   :    1   2011-01-01:   24   Min.   :1.000   Min.   :0.0000  \n",
       " 1st Qu.: 4346   2011-01-08:   24   1st Qu.:2.000   1st Qu.:0.0000  \n",
       " Median : 8690   2011-01-09:   24   Median :3.000   Median :1.0000  \n",
       " Mean   : 8690   2011-01-10:   24   Mean   :2.502   Mean   :0.5026  \n",
       " 3rd Qu.:13034   2011-01-13:   24   3rd Qu.:3.000   3rd Qu.:1.0000  \n",
       " Max.   :17379   2011-01-15:   24   Max.   :4.000   Max.   :1.0000  \n",
       "                 (Other)   :17235                                   \n",
       "      mnth              hr           holiday           weekday     \n",
       " Min.   : 1.000   Min.   : 0.00   Min.   :0.00000   Min.   :0.000  \n",
       " 1st Qu.: 4.000   1st Qu.: 6.00   1st Qu.:0.00000   1st Qu.:1.000  \n",
       " Median : 7.000   Median :12.00   Median :0.00000   Median :3.000  \n",
       " Mean   : 6.538   Mean   :11.55   Mean   :0.02877   Mean   :3.004  \n",
       " 3rd Qu.:10.000   3rd Qu.:18.00   3rd Qu.:0.00000   3rd Qu.:5.000  \n",
       " Max.   :12.000   Max.   :23.00   Max.   :1.00000   Max.   :6.000  \n",
       "                                                                   \n",
       "   workingday       weathersit         temp           atemp       \n",
       " Min.   :0.0000   Min.   :1.000   Min.   :0.020   Min.   :0.0000  \n",
       " 1st Qu.:0.0000   1st Qu.:1.000   1st Qu.:0.340   1st Qu.:0.3333  \n",
       " Median :1.0000   Median :1.000   Median :0.500   Median :0.4848  \n",
       " Mean   :0.6827   Mean   :1.425   Mean   :0.497   Mean   :0.4758  \n",
       " 3rd Qu.:1.0000   3rd Qu.:2.000   3rd Qu.:0.660   3rd Qu.:0.6212  \n",
       " Max.   :1.0000   Max.   :4.000   Max.   :1.000   Max.   :1.0000  \n",
       "                                                                  \n",
       "      hum           windspeed          casual         registered   \n",
       " Min.   :0.0000   Min.   :0.0000   Min.   :  0.00   Min.   :  0.0  \n",
       " 1st Qu.:0.4800   1st Qu.:0.1045   1st Qu.:  4.00   1st Qu.: 34.0  \n",
       " Median :0.6300   Median :0.1940   Median : 17.00   Median :115.0  \n",
       " Mean   :0.6272   Mean   :0.1901   Mean   : 35.68   Mean   :153.8  \n",
       " 3rd Qu.:0.7800   3rd Qu.:0.2537   3rd Qu.: 48.00   3rd Qu.:220.0  \n",
       " Max.   :1.0000   Max.   :0.8507   Max.   :367.00   Max.   :886.0  \n",
       "                                                                   \n",
       "      cnt       \n",
       " Min.   :  1.0  \n",
       " 1st Qu.: 40.0  \n",
       " Median :142.0  \n",
       " Mean   :189.5  \n",
       " 3rd Qu.:281.0  \n",
       " Max.   :977.0  \n",
       "                "
      ]
     },
     "execution_count": 23,
     "metadata": {},
     "output_type": "execute_result"
    }
   ],
   "source": [
    "# Code for Activity 3 goes here \n",
    "summary(bikeshare_hour)\n"
   ]
  },
  {
   "cell_type": "markdown",
   "metadata": {},
   "source": [
    "````\n",
    "\n",
    "    Answer for activity 3\n",
    "    \n",
    "----\n",
    "\n",
    "````"
   ]
  },
  {
   "cell_type": "markdown",
   "metadata": {},
   "source": [
    "# Bonus material: Using Version Control to Snapshot our Work\n",
    "\n",
    "The commands below will interface to the underlying version control system (VCS).\n",
    "In the DSA program we use Git.\n",
    "\n",
    "** Save your notebook **"
   ]
  },
  {
   "cell_type": "code",
   "execution_count": 43,
   "metadata": {
    "collapsed": false
   },
   "outputs": [
    {
     "ename": "ERROR",
     "evalue": "Error in parse(text = x, srcfile = src): <text>:8:18: unexpected input\n7: # So, relative to this file: StatMath/modules/module1/exercises/exercises.ipynb\n8:     .. = DSA-8610_\n                    ^\n",
     "output_type": "error",
     "traceback": [
      "Error in parse(text = x, srcfile = src): <text>:8:18: unexpected input\n7: # So, relative to this file: StatMath/modules/module1/exercises/exercises.ipynb\n8:     .. = DSA-8610_\n                    ^\nTraceback:\n"
     ]
    }
   ],
   "source": [
    "# JUST RUN ME ... and Read\n",
    "# Load the library interfcae\n",
    "library(git2r)\n",
    "\n",
    "# Get the repository as an Object in R.  The '..' elements mean parent directory. \n",
    "# Note '.' represents the current directory \"exercises\"\n",
    "# So, relative to this file: StatMath/modules/module1/exercises/exercises.ipynb\n",
    "    .. = DSA-8610_10267106/modules/module1\n",
    "    ../.. = DSA-8610_10267106/modules\n",
    "    ../../.. = DSA-8610_10267106/\n",
    "repo <- repository('../../..')\n",
    "\n",
    "# Add this file to be tracked for changes\n",
    "# The first parameter is the Repository object created in the above command\n",
    "# The second parameter is the file we want to record history of changes for\n",
    "add(repo, 'exercises.ipynb')\n",
    "\n",
    "# Write a snapshot of any files we are currently tracking into the VCS\n",
    "# The first parameter is the Repository object created in the above command\n",
    "# The second parameter is the brief message\n",
    "commit(repo,\"This is my first commit, Activities 1-3\")"
   ]
  },
  {
   "cell_type": "markdown",
   "metadata": {},
   "source": [
    "\n",
    "When ever you see the cells with library(git2r) in your exercises, you can just run them.\n",
    "\n",
    "---\n",
    "** Back to Exercises **\n",
    "\n",
    "So what is the most common type of weather that happens?\n",
    "\n",
    "**Activity 4**: Find out the most common type of weather that occurs in the dataset."
   ]
  },
  {
   "cell_type": "code",
   "execution_count": 21,
   "metadata": {
    "collapsed": false
   },
   "outputs": [
    {
     "data": {
      "text/html": [
       "<ol class=list-inline>\n",
       "\t<li>1</li>\n",
       "\t<li>2</li>\n",
       "\t<li>3</li>\n",
       "\t<li>4</li>\n",
       "</ol>\n"
      ],
      "text/latex": [
       "\\begin{enumerate*}\n",
       "\\item 1\n",
       "\\item 2\n",
       "\\item 3\n",
       "\\item 4\n",
       "\\end{enumerate*}\n"
      ],
      "text/markdown": [
       "1. 1\n",
       "2. 2\n",
       "3. 3\n",
       "4. 4\n",
       "\n",
       "\n"
      ],
      "text/plain": [
       "[1] 1 2 3 4"
      ]
     },
     "metadata": {},
     "output_type": "display_data"
    }
   ],
   "source": [
    "unique(bikeshare_hour$weathersit)"
   ]
  },
  {
   "cell_type": "code",
   "execution_count": 32,
   "metadata": {
    "collapsed": false
   },
   "outputs": [
    {
     "data": {
      "text/html": [
       "<table>\n",
       "<thead><tr><th scope=col>weathersit</th><th scope=col>max(cnt)</th></tr></thead>\n",
       "<tbody>\n",
       "\t<tr><td>1  </td><td>977</td></tr>\n",
       "\t<tr><td>2  </td><td>957</td></tr>\n",
       "\t<tr><td>3  </td><td>891</td></tr>\n",
       "\t<tr><td>4  </td><td>164</td></tr>\n",
       "</tbody>\n",
       "</table>\n"
      ],
      "text/latex": [
       "\\begin{tabular}{r|ll}\n",
       " weathersit & max(cnt)\\\\\n",
       "\\hline\n",
       "\t 1   & 977\\\\\n",
       "\t 2   & 957\\\\\n",
       "\t 3   & 891\\\\\n",
       "\t 4   & 164\\\\\n",
       "\\end{tabular}\n"
      ],
      "text/plain": [
       "  weathersit max(cnt)\n",
       "1 1          977     \n",
       "2 2          957     \n",
       "3 3          891     \n",
       "4 4          164     "
      ]
     },
     "metadata": {},
     "output_type": "display_data"
    }
   ],
   "source": [
    "# Code for Activity 4 goes here -----------------------\n",
    "library(dplyr)\n",
    "\n",
    "bikeshare_hour %>% \n",
    "    group_by(weathersit) %>% \n",
    "    summarise(max(cnt))"
   ]
  },
  {
   "cell_type": "markdown",
   "metadata": {},
   "source": [
    "We have seen how to calculate z-score in the lab and how to use it in testing a hypothesis. Let’s say, we want to check the significance of variable weekday for hypothesis testing. Assume that monday(weekday 1) has more bike shares than average population bike shares on any other day\n",
    "\n",
    "So our null hypothesis H0 is, there is no significant difference in the number of bike shares for any day of the week\n",
    "\n",
    "Our alternate hypothesis H1 is, there is a better chance of monday having more bike shares than average bike shares on other days\n",
    "\n",
    "**Activity 5.a**: Calculate the z-score."
   ]
  },
  {
   "cell_type": "code",
   "execution_count": 34,
   "metadata": {
    "collapsed": false
   },
   "outputs": [
    {
     "data": {
      "text/html": [
       "-1.043734219771"
      ],
      "text/latex": [
       "-1.043734219771"
      ],
      "text/markdown": [
       "-1.043734219771"
      ],
      "text/plain": [
       "[1] -1.043734"
      ]
     },
     "metadata": {},
     "output_type": "display_data"
    }
   ],
   "source": [
    "# Code for Activity 5 goes here -----------------------\n",
    "z.score = function(sam, pop){\n",
    " sample_mean = mean(bikeshare_hour$weekday==1)\n",
    " pop_mean = mean(bikeshare_hour$cnt)\n",
    " pop_var = var(bikeshare_hour$cnt)\n",
    " zscore = (sample_mean - pop_mean) / (sqrt(pop_var))\n",
    " return(zscore)\n",
    "}\n",
    "z.score(bikeshare_hour$weekday==1, bikeshare_hour$cnt)"
   ]
  },
  {
   "cell_type": "markdown",
   "metadata": {},
   "source": [
    "**Activity 5.b**: Test the null hypothesis H0, if its true or not. Explain why it is true or false."
   ]
  },
  {
   "cell_type": "markdown",
   "metadata": {},
   "source": [
    "````\n",
    "\n",
    "    Answer for activity 5.b\n",
    "    \n",
    "----92.51 percent of the number of bikeshares on other days of the week are smaller than the average monday bikeshares.\n",
    "\n",
    "````"
   ]
  },
  {
   "cell_type": "markdown",
   "metadata": {},
   "source": [
    "Let's say we were interested in analyzing patters on weekdays and weekends. \n",
    "\n",
    "**Activity 6**: subset the data set into two different subsets for rows where the weekday = 1,2,3,4,5 for weekday and 0,6 for weekend."
   ]
  },
  {
   "cell_type": "code",
   "execution_count": 77,
   "metadata": {
    "collapsed": false
   },
   "outputs": [
    {
     "data": {
      "text/html": [
       "<table>\n",
       "<thead><tr><th></th><th scope=col>instant</th><th scope=col>dteday</th><th scope=col>season</th><th scope=col>yr</th><th scope=col>mnth</th><th scope=col>hr</th><th scope=col>holiday</th><th scope=col>weekday</th><th scope=col>workingday</th><th scope=col>weathersit</th><th scope=col>temp</th><th scope=col>atemp</th><th scope=col>hum</th><th scope=col>windspeed</th><th scope=col>casual</th><th scope=col>registered</th><th scope=col>cnt</th></tr></thead>\n",
       "<tbody>\n",
       "\t<tr><th scope=row>1</th><td>  1       </td><td>2011-01-01</td><td>1         </td><td>0         </td><td>1         </td><td> 0        </td><td>0         </td><td>6         </td><td>0         </td><td>1         </td><td>0.24      </td><td>0.2879    </td><td>0.81      </td><td>0.0000    </td><td> 3        </td><td>13        </td><td> 16       </td></tr>\n",
       "\t<tr><th scope=row>2</th><td>  2       </td><td>2011-01-01</td><td>1         </td><td>0         </td><td>1         </td><td> 1        </td><td>0         </td><td>6         </td><td>0         </td><td>1         </td><td>0.22      </td><td>0.2727    </td><td>0.80      </td><td>0.0000    </td><td> 8        </td><td>32        </td><td> 40       </td></tr>\n",
       "\t<tr><th scope=row>3</th><td>  3       </td><td>2011-01-01</td><td>1         </td><td>0         </td><td>1         </td><td> 2        </td><td>0         </td><td>6         </td><td>0         </td><td>1         </td><td>0.22      </td><td>0.2727    </td><td>0.80      </td><td>0.0000    </td><td> 5        </td><td>27        </td><td> 32       </td></tr>\n",
       "\t<tr><th scope=row>4</th><td>  4       </td><td>2011-01-01</td><td>1         </td><td>0         </td><td>1         </td><td> 3        </td><td>0         </td><td>6         </td><td>0         </td><td>1         </td><td>0.24      </td><td>0.2879    </td><td>0.75      </td><td>0.0000    </td><td> 3        </td><td>10        </td><td> 13       </td></tr>\n",
       "\t<tr><th scope=row>5</th><td>  5       </td><td>2011-01-01</td><td>1         </td><td>0         </td><td>1         </td><td> 4        </td><td>0         </td><td>6         </td><td>0         </td><td>1         </td><td>0.24      </td><td>0.2879    </td><td>0.75      </td><td>0.0000    </td><td> 0        </td><td> 1        </td><td>  1       </td></tr>\n",
       "\t<tr><th scope=row>6</th><td>  6       </td><td>2011-01-01</td><td>1         </td><td>0         </td><td>1         </td><td> 5        </td><td>0         </td><td>6         </td><td>0         </td><td>2         </td><td>0.24      </td><td>0.2576    </td><td>0.75      </td><td>0.0896    </td><td> 0        </td><td> 1        </td><td>  1       </td></tr>\n",
       "\t<tr><th scope=row>7</th><td>  7       </td><td>2011-01-01</td><td>1         </td><td>0         </td><td>1         </td><td> 6        </td><td>0         </td><td>6         </td><td>0         </td><td>1         </td><td>0.22      </td><td>0.2727    </td><td>0.80      </td><td>0.0000    </td><td> 2        </td><td> 0        </td><td>  2       </td></tr>\n",
       "\t<tr><th scope=row>8</th><td>  8       </td><td>2011-01-01</td><td>1         </td><td>0         </td><td>1         </td><td> 7        </td><td>0         </td><td>6         </td><td>0         </td><td>1         </td><td>0.20      </td><td>0.2576    </td><td>0.86      </td><td>0.0000    </td><td> 1        </td><td> 2        </td><td>  3       </td></tr>\n",
       "\t<tr><th scope=row>9</th><td>  9       </td><td>2011-01-01</td><td>1         </td><td>0         </td><td>1         </td><td> 8        </td><td>0         </td><td>6         </td><td>0         </td><td>1         </td><td>0.24      </td><td>0.2879    </td><td>0.75      </td><td>0.0000    </td><td> 1        </td><td> 7        </td><td>  8       </td></tr>\n",
       "\t<tr><th scope=row>10</th><td> 10       </td><td>2011-01-01</td><td>1         </td><td>0         </td><td>1         </td><td> 9        </td><td>0         </td><td>6         </td><td>0         </td><td>1         </td><td>0.32      </td><td>0.3485    </td><td>0.76      </td><td>0.0000    </td><td> 8        </td><td> 6        </td><td> 14       </td></tr>\n",
       "\t<tr><th scope=row>11</th><td> 11       </td><td>2011-01-01</td><td>1         </td><td>0         </td><td>1         </td><td>10        </td><td>0         </td><td>6         </td><td>0         </td><td>1         </td><td>0.38      </td><td>0.3939    </td><td>0.76      </td><td>0.2537    </td><td>12        </td><td>24        </td><td> 36       </td></tr>\n",
       "\t<tr><th scope=row>12</th><td> 12       </td><td>2011-01-01</td><td>1         </td><td>0         </td><td>1         </td><td>11        </td><td>0         </td><td>6         </td><td>0         </td><td>1         </td><td>0.36      </td><td>0.3333    </td><td>0.81      </td><td>0.2836    </td><td>26        </td><td>30        </td><td> 56       </td></tr>\n",
       "\t<tr><th scope=row>13</th><td> 13       </td><td>2011-01-01</td><td>1         </td><td>0         </td><td>1         </td><td>12        </td><td>0         </td><td>6         </td><td>0         </td><td>1         </td><td>0.42      </td><td>0.4242    </td><td>0.77      </td><td>0.2836    </td><td>29        </td><td>55        </td><td> 84       </td></tr>\n",
       "\t<tr><th scope=row>14</th><td> 14       </td><td>2011-01-01</td><td>1         </td><td>0         </td><td>1         </td><td>13        </td><td>0         </td><td>6         </td><td>0         </td><td>2         </td><td>0.46      </td><td>0.4545    </td><td>0.72      </td><td>0.2985    </td><td>47        </td><td>47        </td><td> 94       </td></tr>\n",
       "\t<tr><th scope=row>15</th><td> 15       </td><td>2011-01-01</td><td>1         </td><td>0         </td><td>1         </td><td>14        </td><td>0         </td><td>6         </td><td>0         </td><td>2         </td><td>0.46      </td><td>0.4545    </td><td>0.72      </td><td>0.2836    </td><td>35        </td><td>71        </td><td>106       </td></tr>\n",
       "\t<tr><th scope=row>16</th><td> 16       </td><td>2011-01-01</td><td>1         </td><td>0         </td><td>1         </td><td>15        </td><td>0         </td><td>6         </td><td>0         </td><td>2         </td><td>0.44      </td><td>0.4394    </td><td>0.77      </td><td>0.2985    </td><td>40        </td><td>70        </td><td>110       </td></tr>\n",
       "\t<tr><th scope=row>17</th><td> 17       </td><td>2011-01-01</td><td>1         </td><td>0         </td><td>1         </td><td>16        </td><td>0         </td><td>6         </td><td>0         </td><td>2         </td><td>0.42      </td><td>0.4242    </td><td>0.82      </td><td>0.2985    </td><td>41        </td><td>52        </td><td> 93       </td></tr>\n",
       "\t<tr><th scope=row>18</th><td> 18       </td><td>2011-01-01</td><td>1         </td><td>0         </td><td>1         </td><td>17        </td><td>0         </td><td>6         </td><td>0         </td><td>2         </td><td>0.44      </td><td>0.4394    </td><td>0.82      </td><td>0.2836    </td><td>15        </td><td>52        </td><td> 67       </td></tr>\n",
       "\t<tr><th scope=row>19</th><td> 19       </td><td>2011-01-01</td><td>1         </td><td>0         </td><td>1         </td><td>18        </td><td>0         </td><td>6         </td><td>0         </td><td>3         </td><td>0.42      </td><td>0.4242    </td><td>0.88      </td><td>0.2537    </td><td> 9        </td><td>26        </td><td> 35       </td></tr>\n",
       "\t<tr><th scope=row>20</th><td> 20       </td><td>2011-01-01</td><td>1         </td><td>0         </td><td>1         </td><td>19        </td><td>0         </td><td>6         </td><td>0         </td><td>3         </td><td>0.42      </td><td>0.4242    </td><td>0.88      </td><td>0.2537    </td><td> 6        </td><td>31        </td><td> 37       </td></tr>\n",
       "\t<tr><th scope=row>21</th><td> 21       </td><td>2011-01-01</td><td>1         </td><td>0         </td><td>1         </td><td>20        </td><td>0         </td><td>6         </td><td>0         </td><td>2         </td><td>0.40      </td><td>0.4091    </td><td>0.87      </td><td>0.2537    </td><td>11        </td><td>25        </td><td> 36       </td></tr>\n",
       "\t<tr><th scope=row>22</th><td> 22       </td><td>2011-01-01</td><td>1         </td><td>0         </td><td>1         </td><td>21        </td><td>0         </td><td>6         </td><td>0         </td><td>2         </td><td>0.40      </td><td>0.4091    </td><td>0.87      </td><td>0.1940    </td><td> 3        </td><td>31        </td><td> 34       </td></tr>\n",
       "\t<tr><th scope=row>23</th><td> 23       </td><td>2011-01-01</td><td>1         </td><td>0         </td><td>1         </td><td>22        </td><td>0         </td><td>6         </td><td>0         </td><td>2         </td><td>0.40      </td><td>0.4091    </td><td>0.94      </td><td>0.2239    </td><td>11        </td><td>17        </td><td> 28       </td></tr>\n",
       "\t<tr><th scope=row>24</th><td> 24       </td><td>2011-01-01</td><td>1         </td><td>0         </td><td>1         </td><td>23        </td><td>0         </td><td>6         </td><td>0         </td><td>2         </td><td>0.46      </td><td>0.4545    </td><td>0.88      </td><td>0.2985    </td><td>15        </td><td>24        </td><td> 39       </td></tr>\n",
       "\t<tr><th scope=row>162</th><td>162       </td><td>2011-01-08</td><td>1         </td><td>0         </td><td>1         </td><td> 0        </td><td>0         </td><td>6         </td><td>0         </td><td>2         </td><td>0.18      </td><td>0.1970    </td><td>0.51      </td><td>0.1642    </td><td> 1        </td><td>24        </td><td> 25       </td></tr>\n",
       "\t<tr><th scope=row>163</th><td>163       </td><td>2011-01-08</td><td>1         </td><td>0         </td><td>1         </td><td> 1        </td><td>0         </td><td>6         </td><td>0         </td><td>2         </td><td>0.18      </td><td>0.2121    </td><td>0.55      </td><td>0.0896    </td><td> 1        </td><td>15        </td><td> 16       </td></tr>\n",
       "\t<tr><th scope=row>164</th><td>164       </td><td>2011-01-08</td><td>1         </td><td>0         </td><td>1         </td><td> 2        </td><td>0         </td><td>6         </td><td>0         </td><td>2         </td><td>0.18      </td><td>0.2424    </td><td>0.55      </td><td>0.0000    </td><td> 3        </td><td>13        </td><td> 16       </td></tr>\n",
       "\t<tr><th scope=row>165</th><td>165       </td><td>2011-01-08</td><td>1         </td><td>0         </td><td>1         </td><td> 3        </td><td>0         </td><td>6         </td><td>0         </td><td>3         </td><td>0.18      </td><td>0.1970    </td><td>0.55      </td><td>0.1642    </td><td> 0        </td><td> 7        </td><td>  7       </td></tr>\n",
       "\t<tr><th scope=row>166</th><td>166       </td><td>2011-01-08</td><td>1         </td><td>0         </td><td>1         </td><td> 4        </td><td>0         </td><td>6         </td><td>0         </td><td>3         </td><td>0.18      </td><td>0.1970    </td><td>0.55      </td><td>0.1642    </td><td> 0        </td><td> 1        </td><td>  1       </td></tr>\n",
       "\t<tr><th scope=row>167</th><td>167       </td><td>2011-01-08</td><td>1         </td><td>0         </td><td>1         </td><td> 5        </td><td>0         </td><td>6         </td><td>0         </td><td>2         </td><td>0.16      </td><td>0.1667    </td><td>0.74      </td><td>0.1642    </td><td> 0        </td><td> 5        </td><td>  5       </td></tr>\n",
       "\t<tr><th scope=row>⋮</th><td>⋮</td><td>⋮</td><td>⋮</td><td>⋮</td><td>⋮</td><td>⋮</td><td>⋮</td><td>⋮</td><td>⋮</td><td>⋮</td><td>⋮</td><td>⋮</td><td>⋮</td><td>⋮</td><td>⋮</td><td>⋮</td><td>⋮</td></tr>\n",
       "\t<tr><th scope=row>2483</th><td>17160     </td><td>2012-12-22</td><td>1         </td><td>1         </td><td>12        </td><td>18        </td><td>0         </td><td>6         </td><td>0         </td><td>1         </td><td>0.26      </td><td>0.2121    </td><td>0.44      </td><td>0.4627    </td><td> 7        </td><td> 75       </td><td> 82       </td></tr>\n",
       "\t<tr><th scope=row>2484</th><td>17161     </td><td>2012-12-22</td><td>1         </td><td>1         </td><td>12        </td><td>19        </td><td>0         </td><td>6         </td><td>0         </td><td>1         </td><td>0.24      </td><td>0.2121    </td><td>0.48      </td><td>0.3582    </td><td> 9        </td><td> 51       </td><td> 60       </td></tr>\n",
       "\t<tr><th scope=row>2485</th><td>17162     </td><td>2012-12-22</td><td>1         </td><td>1         </td><td>12        </td><td>20        </td><td>0         </td><td>6         </td><td>0         </td><td>1         </td><td>0.24      </td><td>0.2424    </td><td>0.48      </td><td>0.1642    </td><td> 6        </td><td> 55       </td><td> 61       </td></tr>\n",
       "\t<tr><th scope=row>2486</th><td>17163     </td><td>2012-12-22</td><td>1         </td><td>1         </td><td>12        </td><td>21        </td><td>0         </td><td>6         </td><td>0         </td><td>1         </td><td>0.22      </td><td>0.2121    </td><td>0.51      </td><td>0.2836    </td><td> 4        </td><td> 49       </td><td> 53       </td></tr>\n",
       "\t<tr><th scope=row>2487</th><td>17164     </td><td>2012-12-22</td><td>1         </td><td>1         </td><td>12        </td><td>22        </td><td>0         </td><td>6         </td><td>0         </td><td>1         </td><td>0.22      </td><td>0.2121    </td><td>0.51      </td><td>0.2836    </td><td> 1        </td><td> 38       </td><td> 39       </td></tr>\n",
       "\t<tr><th scope=row>2488</th><td>17165     </td><td>2012-12-22</td><td>1         </td><td>1         </td><td>12        </td><td>23        </td><td>0         </td><td>6         </td><td>0         </td><td>1         </td><td>0.22      </td><td>0.2273    </td><td>0.51      </td><td>0.1940    </td><td> 3        </td><td> 37       </td><td> 40       </td></tr>\n",
       "\t<tr><th scope=row>2489</th><td>17308     </td><td>2012-12-29</td><td>1         </td><td>1         </td><td>12        </td><td> 0        </td><td>0         </td><td>6         </td><td>0         </td><td>2         </td><td>0.24      </td><td>0.2424    </td><td>0.70      </td><td>0.0000    </td><td> 1        </td><td> 25       </td><td> 26       </td></tr>\n",
       "\t<tr><th scope=row>2490</th><td>17309     </td><td>2012-12-29</td><td>1         </td><td>1         </td><td>12        </td><td> 1        </td><td>0         </td><td>6         </td><td>0         </td><td>2         </td><td>0.24      </td><td>0.2424    </td><td>0.75      </td><td>0.0896    </td><td> 6        </td><td> 31       </td><td> 37       </td></tr>\n",
       "\t<tr><th scope=row>2491</th><td>17310     </td><td>2012-12-29</td><td>1         </td><td>1         </td><td>12        </td><td> 2        </td><td>0         </td><td>6         </td><td>0         </td><td>2         </td><td>0.24      </td><td>0.2424    </td><td>0.70      </td><td>0.0000    </td><td> 1        </td><td> 18       </td><td> 19       </td></tr>\n",
       "\t<tr><th scope=row>2492</th><td>17311     </td><td>2012-12-29</td><td>1         </td><td>1         </td><td>12        </td><td> 3        </td><td>0         </td><td>6         </td><td>0         </td><td>2         </td><td>0.24      </td><td>0.2424    </td><td>0.75      </td><td>0.0000    </td><td> 1        </td><td>  5       </td><td>  6       </td></tr>\n",
       "\t<tr><th scope=row>2493</th><td>17312     </td><td>2012-12-29</td><td>1         </td><td>1         </td><td>12        </td><td> 4        </td><td>0         </td><td>6         </td><td>0         </td><td>2         </td><td>0.24      </td><td>0.2424    </td><td>0.75      </td><td>0.0896    </td><td> 0        </td><td>  3       </td><td>  3       </td></tr>\n",
       "\t<tr><th scope=row>2494</th><td>17313     </td><td>2012-12-29</td><td>1         </td><td>1         </td><td>12        </td><td> 5        </td><td>0         </td><td>6         </td><td>0         </td><td>2         </td><td>0.24      </td><td>0.2424    </td><td>0.75      </td><td>0.0896    </td><td> 0        </td><td>  3       </td><td>  3       </td></tr>\n",
       "\t<tr><th scope=row>2495</th><td>17314     </td><td>2012-12-29</td><td>1         </td><td>1         </td><td>12        </td><td> 6        </td><td>0         </td><td>6         </td><td>0         </td><td>2         </td><td>0.26      </td><td>0.2424    </td><td>0.70      </td><td>0.1045    </td><td> 0        </td><td>  7       </td><td>  7       </td></tr>\n",
       "\t<tr><th scope=row>2496</th><td>17315     </td><td>2012-12-29</td><td>1         </td><td>1         </td><td>12        </td><td> 7        </td><td>0         </td><td>6         </td><td>0         </td><td>2         </td><td>0.26      </td><td>0.2424    </td><td>0.70      </td><td>0.1343    </td><td> 1        </td><td> 17       </td><td> 18       </td></tr>\n",
       "\t<tr><th scope=row>2497</th><td>17316     </td><td>2012-12-29</td><td>1         </td><td>1         </td><td>12        </td><td> 8        </td><td>0         </td><td>6         </td><td>0         </td><td>2         </td><td>0.26      </td><td>0.2424    </td><td>0.81      </td><td>0.0000    </td><td> 9        </td><td> 35       </td><td> 44       </td></tr>\n",
       "\t<tr><th scope=row>2498</th><td>17317     </td><td>2012-12-29</td><td>1         </td><td>1         </td><td>12        </td><td> 9        </td><td>0         </td><td>6         </td><td>0         </td><td>2         </td><td>0.26      </td><td>0.2424    </td><td>0.81      </td><td>0.0000    </td><td>16        </td><td> 33       </td><td> 49       </td></tr>\n",
       "\t<tr><th scope=row>2499</th><td>17318     </td><td>2012-12-29</td><td>1         </td><td>1         </td><td>12        </td><td>10        </td><td>0         </td><td>6         </td><td>0         </td><td>3         </td><td>0.26      </td><td>0.2424    </td><td>0.81      </td><td>0.1343    </td><td> 6        </td><td> 35       </td><td> 41       </td></tr>\n",
       "\t<tr><th scope=row>2500</th><td>17319     </td><td>2012-12-29</td><td>1         </td><td>1         </td><td>12        </td><td>11        </td><td>0         </td><td>6         </td><td>0         </td><td>3         </td><td>0.20      </td><td>0.2424    </td><td>0.93      </td><td>0.0896    </td><td> 7        </td><td> 38       </td><td> 45       </td></tr>\n",
       "\t<tr><th scope=row>2501</th><td>17320     </td><td>2012-12-29</td><td>1         </td><td>1         </td><td>12        </td><td>12        </td><td>0         </td><td>6         </td><td>0         </td><td>3         </td><td>0.20      </td><td>0.2424    </td><td>1.00      </td><td>0.0000    </td><td> 5        </td><td> 43       </td><td> 48       </td></tr>\n",
       "\t<tr><th scope=row>2502</th><td>17321     </td><td>2012-12-29</td><td>1         </td><td>1         </td><td>12        </td><td>13        </td><td>0         </td><td>6         </td><td>0         </td><td>3         </td><td>0.20      </td><td>0.2424    </td><td>1.00      </td><td>0.0000    </td><td>13        </td><td> 71       </td><td> 84       </td></tr>\n",
       "\t<tr><th scope=row>2503</th><td>17322     </td><td>2012-12-29</td><td>1         </td><td>1         </td><td>12        </td><td>14        </td><td>0         </td><td>6         </td><td>0         </td><td>2         </td><td>0.24      </td><td>0.2424    </td><td>0.87      </td><td>0.0896    </td><td>10        </td><td> 88       </td><td> 98       </td></tr>\n",
       "\t<tr><th scope=row>2504</th><td>17323     </td><td>2012-12-29</td><td>1         </td><td>1         </td><td>12        </td><td>15        </td><td>0         </td><td>6         </td><td>0         </td><td>2         </td><td>0.24      </td><td>0.2424    </td><td>0.87      </td><td>0.0000    </td><td>19        </td><td>110       </td><td>129       </td></tr>\n",
       "\t<tr><th scope=row>2505</th><td>17324     </td><td>2012-12-29</td><td>1         </td><td>1         </td><td>12        </td><td>16        </td><td>0         </td><td>6         </td><td>0         </td><td>1         </td><td>0.30      </td><td>0.2424    </td><td>0.75      </td><td>0.1045    </td><td>22        </td><td>125       </td><td>147       </td></tr>\n",
       "\t<tr><th scope=row>2506</th><td>17325     </td><td>2012-12-29</td><td>1         </td><td>1         </td><td>12        </td><td>17        </td><td>0         </td><td>6         </td><td>0         </td><td>1         </td><td>0.26      </td><td>0.2424    </td><td>0.79      </td><td>0.1045    </td><td>18        </td><td>100       </td><td>118       </td></tr>\n",
       "\t<tr><th scope=row>2507</th><td>17326     </td><td>2012-12-29</td><td>1         </td><td>1         </td><td>12        </td><td>18        </td><td>0         </td><td>6         </td><td>0         </td><td>1         </td><td>0.30      </td><td>0.2424    </td><td>0.70      </td><td>0.1940    </td><td> 8        </td><td>102       </td><td>110       </td></tr>\n",
       "\t<tr><th scope=row>2508</th><td>17327     </td><td>2012-12-29</td><td>1         </td><td>1         </td><td>12        </td><td>19        </td><td>0         </td><td>6         </td><td>0         </td><td>2         </td><td>0.30      </td><td>0.2424    </td><td>0.61      </td><td>0.2537    </td><td> 7        </td><td> 90       </td><td> 97       </td></tr>\n",
       "\t<tr><th scope=row>2509</th><td>17328     </td><td>2012-12-29</td><td>1         </td><td>1         </td><td>12        </td><td>20        </td><td>0         </td><td>6         </td><td>0         </td><td>2         </td><td>0.30      </td><td>0.2424    </td><td>0.56      </td><td>0.5522    </td><td> 2        </td><td> 64       </td><td> 66       </td></tr>\n",
       "\t<tr><th scope=row>2510</th><td>17329     </td><td>2012-12-29</td><td>1         </td><td>1         </td><td>12        </td><td>21        </td><td>0         </td><td>6         </td><td>0         </td><td>2         </td><td>0.28      </td><td>0.2424    </td><td>0.56      </td><td>0.4925    </td><td> 4        </td><td> 56       </td><td> 60       </td></tr>\n",
       "\t<tr><th scope=row>2511</th><td>17330     </td><td>2012-12-29</td><td>1         </td><td>1         </td><td>12        </td><td>22        </td><td>0         </td><td>6         </td><td>0         </td><td>2         </td><td>0.26      </td><td>0.2424    </td><td>0.60      </td><td>0.4627    </td><td> 3        </td><td> 51       </td><td> 54       </td></tr>\n",
       "\t<tr><th scope=row>2512</th><td>17331     </td><td>2012-12-29</td><td>1         </td><td>1         </td><td>12        </td><td>23        </td><td>0         </td><td>6         </td><td>0         </td><td>2         </td><td>0.26      </td><td>0.2424    </td><td>0.60      </td><td>0.0000    </td><td> 0        </td><td> 32       </td><td> 32       </td></tr>\n",
       "</tbody>\n",
       "</table>\n"
      ],
      "text/latex": [
       "\\begin{tabular}{r|lllllllllllllllll}\n",
       "  & instant & dteday & season & yr & mnth & hr & holiday & weekday & workingday & weathersit & temp & atemp & hum & windspeed & casual & registered & cnt\\\\\n",
       "\\hline\n",
       "\t1 &   1        & 2011-01-01 & 1          & 0          & 1          &  0         & 0          & 6          & 0          & 1          & 0.24       & 0.2879     & 0.81       & 0.0000     &  3         & 13         &  16       \\\\\n",
       "\t2 &   2        & 2011-01-01 & 1          & 0          & 1          &  1         & 0          & 6          & 0          & 1          & 0.22       & 0.2727     & 0.80       & 0.0000     &  8         & 32         &  40       \\\\\n",
       "\t3 &   3        & 2011-01-01 & 1          & 0          & 1          &  2         & 0          & 6          & 0          & 1          & 0.22       & 0.2727     & 0.80       & 0.0000     &  5         & 27         &  32       \\\\\n",
       "\t4 &   4        & 2011-01-01 & 1          & 0          & 1          &  3         & 0          & 6          & 0          & 1          & 0.24       & 0.2879     & 0.75       & 0.0000     &  3         & 10         &  13       \\\\\n",
       "\t5 &   5        & 2011-01-01 & 1          & 0          & 1          &  4         & 0          & 6          & 0          & 1          & 0.24       & 0.2879     & 0.75       & 0.0000     &  0         &  1         &   1       \\\\\n",
       "\t6 &   6        & 2011-01-01 & 1          & 0          & 1          &  5         & 0          & 6          & 0          & 2          & 0.24       & 0.2576     & 0.75       & 0.0896     &  0         &  1         &   1       \\\\\n",
       "\t7 &   7        & 2011-01-01 & 1          & 0          & 1          &  6         & 0          & 6          & 0          & 1          & 0.22       & 0.2727     & 0.80       & 0.0000     &  2         &  0         &   2       \\\\\n",
       "\t8 &   8        & 2011-01-01 & 1          & 0          & 1          &  7         & 0          & 6          & 0          & 1          & 0.20       & 0.2576     & 0.86       & 0.0000     &  1         &  2         &   3       \\\\\n",
       "\t9 &   9        & 2011-01-01 & 1          & 0          & 1          &  8         & 0          & 6          & 0          & 1          & 0.24       & 0.2879     & 0.75       & 0.0000     &  1         &  7         &   8       \\\\\n",
       "\t10 &  10        & 2011-01-01 & 1          & 0          & 1          &  9         & 0          & 6          & 0          & 1          & 0.32       & 0.3485     & 0.76       & 0.0000     &  8         &  6         &  14       \\\\\n",
       "\t11 &  11        & 2011-01-01 & 1          & 0          & 1          & 10         & 0          & 6          & 0          & 1          & 0.38       & 0.3939     & 0.76       & 0.2537     & 12         & 24         &  36       \\\\\n",
       "\t12 &  12        & 2011-01-01 & 1          & 0          & 1          & 11         & 0          & 6          & 0          & 1          & 0.36       & 0.3333     & 0.81       & 0.2836     & 26         & 30         &  56       \\\\\n",
       "\t13 &  13        & 2011-01-01 & 1          & 0          & 1          & 12         & 0          & 6          & 0          & 1          & 0.42       & 0.4242     & 0.77       & 0.2836     & 29         & 55         &  84       \\\\\n",
       "\t14 &  14        & 2011-01-01 & 1          & 0          & 1          & 13         & 0          & 6          & 0          & 2          & 0.46       & 0.4545     & 0.72       & 0.2985     & 47         & 47         &  94       \\\\\n",
       "\t15 &  15        & 2011-01-01 & 1          & 0          & 1          & 14         & 0          & 6          & 0          & 2          & 0.46       & 0.4545     & 0.72       & 0.2836     & 35         & 71         & 106       \\\\\n",
       "\t16 &  16        & 2011-01-01 & 1          & 0          & 1          & 15         & 0          & 6          & 0          & 2          & 0.44       & 0.4394     & 0.77       & 0.2985     & 40         & 70         & 110       \\\\\n",
       "\t17 &  17        & 2011-01-01 & 1          & 0          & 1          & 16         & 0          & 6          & 0          & 2          & 0.42       & 0.4242     & 0.82       & 0.2985     & 41         & 52         &  93       \\\\\n",
       "\t18 &  18        & 2011-01-01 & 1          & 0          & 1          & 17         & 0          & 6          & 0          & 2          & 0.44       & 0.4394     & 0.82       & 0.2836     & 15         & 52         &  67       \\\\\n",
       "\t19 &  19        & 2011-01-01 & 1          & 0          & 1          & 18         & 0          & 6          & 0          & 3          & 0.42       & 0.4242     & 0.88       & 0.2537     &  9         & 26         &  35       \\\\\n",
       "\t20 &  20        & 2011-01-01 & 1          & 0          & 1          & 19         & 0          & 6          & 0          & 3          & 0.42       & 0.4242     & 0.88       & 0.2537     &  6         & 31         &  37       \\\\\n",
       "\t21 &  21        & 2011-01-01 & 1          & 0          & 1          & 20         & 0          & 6          & 0          & 2          & 0.40       & 0.4091     & 0.87       & 0.2537     & 11         & 25         &  36       \\\\\n",
       "\t22 &  22        & 2011-01-01 & 1          & 0          & 1          & 21         & 0          & 6          & 0          & 2          & 0.40       & 0.4091     & 0.87       & 0.1940     &  3         & 31         &  34       \\\\\n",
       "\t23 &  23        & 2011-01-01 & 1          & 0          & 1          & 22         & 0          & 6          & 0          & 2          & 0.40       & 0.4091     & 0.94       & 0.2239     & 11         & 17         &  28       \\\\\n",
       "\t24 &  24        & 2011-01-01 & 1          & 0          & 1          & 23         & 0          & 6          & 0          & 2          & 0.46       & 0.4545     & 0.88       & 0.2985     & 15         & 24         &  39       \\\\\n",
       "\t162 & 162        & 2011-01-08 & 1          & 0          & 1          &  0         & 0          & 6          & 0          & 2          & 0.18       & 0.1970     & 0.51       & 0.1642     &  1         & 24         &  25       \\\\\n",
       "\t163 & 163        & 2011-01-08 & 1          & 0          & 1          &  1         & 0          & 6          & 0          & 2          & 0.18       & 0.2121     & 0.55       & 0.0896     &  1         & 15         &  16       \\\\\n",
       "\t164 & 164        & 2011-01-08 & 1          & 0          & 1          &  2         & 0          & 6          & 0          & 2          & 0.18       & 0.2424     & 0.55       & 0.0000     &  3         & 13         &  16       \\\\\n",
       "\t165 & 165        & 2011-01-08 & 1          & 0          & 1          &  3         & 0          & 6          & 0          & 3          & 0.18       & 0.1970     & 0.55       & 0.1642     &  0         &  7         &   7       \\\\\n",
       "\t166 & 166        & 2011-01-08 & 1          & 0          & 1          &  4         & 0          & 6          & 0          & 3          & 0.18       & 0.1970     & 0.55       & 0.1642     &  0         &  1         &   1       \\\\\n",
       "\t167 & 167        & 2011-01-08 & 1          & 0          & 1          &  5         & 0          & 6          & 0          & 2          & 0.16       & 0.1667     & 0.74       & 0.1642     &  0         &  5         &   5       \\\\\n",
       "\t⋮ & ⋮ & ⋮ & ⋮ & ⋮ & ⋮ & ⋮ & ⋮ & ⋮ & ⋮ & ⋮ & ⋮ & ⋮ & ⋮ & ⋮ & ⋮ & ⋮ & ⋮\\\\\n",
       "\t2483 & 17160      & 2012-12-22 & 1          & 1          & 12         & 18         & 0          & 6          & 0          & 1          & 0.26       & 0.2121     & 0.44       & 0.4627     &  7         &  75        &  82       \\\\\n",
       "\t2484 & 17161      & 2012-12-22 & 1          & 1          & 12         & 19         & 0          & 6          & 0          & 1          & 0.24       & 0.2121     & 0.48       & 0.3582     &  9         &  51        &  60       \\\\\n",
       "\t2485 & 17162      & 2012-12-22 & 1          & 1          & 12         & 20         & 0          & 6          & 0          & 1          & 0.24       & 0.2424     & 0.48       & 0.1642     &  6         &  55        &  61       \\\\\n",
       "\t2486 & 17163      & 2012-12-22 & 1          & 1          & 12         & 21         & 0          & 6          & 0          & 1          & 0.22       & 0.2121     & 0.51       & 0.2836     &  4         &  49        &  53       \\\\\n",
       "\t2487 & 17164      & 2012-12-22 & 1          & 1          & 12         & 22         & 0          & 6          & 0          & 1          & 0.22       & 0.2121     & 0.51       & 0.2836     &  1         &  38        &  39       \\\\\n",
       "\t2488 & 17165      & 2012-12-22 & 1          & 1          & 12         & 23         & 0          & 6          & 0          & 1          & 0.22       & 0.2273     & 0.51       & 0.1940     &  3         &  37        &  40       \\\\\n",
       "\t2489 & 17308      & 2012-12-29 & 1          & 1          & 12         &  0         & 0          & 6          & 0          & 2          & 0.24       & 0.2424     & 0.70       & 0.0000     &  1         &  25        &  26       \\\\\n",
       "\t2490 & 17309      & 2012-12-29 & 1          & 1          & 12         &  1         & 0          & 6          & 0          & 2          & 0.24       & 0.2424     & 0.75       & 0.0896     &  6         &  31        &  37       \\\\\n",
       "\t2491 & 17310      & 2012-12-29 & 1          & 1          & 12         &  2         & 0          & 6          & 0          & 2          & 0.24       & 0.2424     & 0.70       & 0.0000     &  1         &  18        &  19       \\\\\n",
       "\t2492 & 17311      & 2012-12-29 & 1          & 1          & 12         &  3         & 0          & 6          & 0          & 2          & 0.24       & 0.2424     & 0.75       & 0.0000     &  1         &   5        &   6       \\\\\n",
       "\t2493 & 17312      & 2012-12-29 & 1          & 1          & 12         &  4         & 0          & 6          & 0          & 2          & 0.24       & 0.2424     & 0.75       & 0.0896     &  0         &   3        &   3       \\\\\n",
       "\t2494 & 17313      & 2012-12-29 & 1          & 1          & 12         &  5         & 0          & 6          & 0          & 2          & 0.24       & 0.2424     & 0.75       & 0.0896     &  0         &   3        &   3       \\\\\n",
       "\t2495 & 17314      & 2012-12-29 & 1          & 1          & 12         &  6         & 0          & 6          & 0          & 2          & 0.26       & 0.2424     & 0.70       & 0.1045     &  0         &   7        &   7       \\\\\n",
       "\t2496 & 17315      & 2012-12-29 & 1          & 1          & 12         &  7         & 0          & 6          & 0          & 2          & 0.26       & 0.2424     & 0.70       & 0.1343     &  1         &  17        &  18       \\\\\n",
       "\t2497 & 17316      & 2012-12-29 & 1          & 1          & 12         &  8         & 0          & 6          & 0          & 2          & 0.26       & 0.2424     & 0.81       & 0.0000     &  9         &  35        &  44       \\\\\n",
       "\t2498 & 17317      & 2012-12-29 & 1          & 1          & 12         &  9         & 0          & 6          & 0          & 2          & 0.26       & 0.2424     & 0.81       & 0.0000     & 16         &  33        &  49       \\\\\n",
       "\t2499 & 17318      & 2012-12-29 & 1          & 1          & 12         & 10         & 0          & 6          & 0          & 3          & 0.26       & 0.2424     & 0.81       & 0.1343     &  6         &  35        &  41       \\\\\n",
       "\t2500 & 17319      & 2012-12-29 & 1          & 1          & 12         & 11         & 0          & 6          & 0          & 3          & 0.20       & 0.2424     & 0.93       & 0.0896     &  7         &  38        &  45       \\\\\n",
       "\t2501 & 17320      & 2012-12-29 & 1          & 1          & 12         & 12         & 0          & 6          & 0          & 3          & 0.20       & 0.2424     & 1.00       & 0.0000     &  5         &  43        &  48       \\\\\n",
       "\t2502 & 17321      & 2012-12-29 & 1          & 1          & 12         & 13         & 0          & 6          & 0          & 3          & 0.20       & 0.2424     & 1.00       & 0.0000     & 13         &  71        &  84       \\\\\n",
       "\t2503 & 17322      & 2012-12-29 & 1          & 1          & 12         & 14         & 0          & 6          & 0          & 2          & 0.24       & 0.2424     & 0.87       & 0.0896     & 10         &  88        &  98       \\\\\n",
       "\t2504 & 17323      & 2012-12-29 & 1          & 1          & 12         & 15         & 0          & 6          & 0          & 2          & 0.24       & 0.2424     & 0.87       & 0.0000     & 19         & 110        & 129       \\\\\n",
       "\t2505 & 17324      & 2012-12-29 & 1          & 1          & 12         & 16         & 0          & 6          & 0          & 1          & 0.30       & 0.2424     & 0.75       & 0.1045     & 22         & 125        & 147       \\\\\n",
       "\t2506 & 17325      & 2012-12-29 & 1          & 1          & 12         & 17         & 0          & 6          & 0          & 1          & 0.26       & 0.2424     & 0.79       & 0.1045     & 18         & 100        & 118       \\\\\n",
       "\t2507 & 17326      & 2012-12-29 & 1          & 1          & 12         & 18         & 0          & 6          & 0          & 1          & 0.30       & 0.2424     & 0.70       & 0.1940     &  8         & 102        & 110       \\\\\n",
       "\t2508 & 17327      & 2012-12-29 & 1          & 1          & 12         & 19         & 0          & 6          & 0          & 2          & 0.30       & 0.2424     & 0.61       & 0.2537     &  7         &  90        &  97       \\\\\n",
       "\t2509 & 17328      & 2012-12-29 & 1          & 1          & 12         & 20         & 0          & 6          & 0          & 2          & 0.30       & 0.2424     & 0.56       & 0.5522     &  2         &  64        &  66       \\\\\n",
       "\t2510 & 17329      & 2012-12-29 & 1          & 1          & 12         & 21         & 0          & 6          & 0          & 2          & 0.28       & 0.2424     & 0.56       & 0.4925     &  4         &  56        &  60       \\\\\n",
       "\t2511 & 17330      & 2012-12-29 & 1          & 1          & 12         & 22         & 0          & 6          & 0          & 2          & 0.26       & 0.2424     & 0.60       & 0.4627     &  3         &  51        &  54       \\\\\n",
       "\t2512 & 17331      & 2012-12-29 & 1          & 1          & 12         & 23         & 0          & 6          & 0          & 2          & 0.26       & 0.2424     & 0.60       & 0.0000     &  0         &  32        &  32       \\\\\n",
       "\\end{tabular}\n"
      ],
      "text/plain": [
       "     instant dteday     season yr mnth hr holiday weekday workingday weathersit\n",
       "1      1     2011-01-01 1      0  1     0 0       6       0          1         \n",
       "2      2     2011-01-01 1      0  1     1 0       6       0          1         \n",
       "3      3     2011-01-01 1      0  1     2 0       6       0          1         \n",
       "4      4     2011-01-01 1      0  1     3 0       6       0          1         \n",
       "5      5     2011-01-01 1      0  1     4 0       6       0          1         \n",
       "6      6     2011-01-01 1      0  1     5 0       6       0          2         \n",
       "7      7     2011-01-01 1      0  1     6 0       6       0          1         \n",
       "8      8     2011-01-01 1      0  1     7 0       6       0          1         \n",
       "9      9     2011-01-01 1      0  1     8 0       6       0          1         \n",
       "10    10     2011-01-01 1      0  1     9 0       6       0          1         \n",
       "11    11     2011-01-01 1      0  1    10 0       6       0          1         \n",
       "12    12     2011-01-01 1      0  1    11 0       6       0          1         \n",
       "13    13     2011-01-01 1      0  1    12 0       6       0          1         \n",
       "14    14     2011-01-01 1      0  1    13 0       6       0          2         \n",
       "15    15     2011-01-01 1      0  1    14 0       6       0          2         \n",
       "16    16     2011-01-01 1      0  1    15 0       6       0          2         \n",
       "17    17     2011-01-01 1      0  1    16 0       6       0          2         \n",
       "18    18     2011-01-01 1      0  1    17 0       6       0          2         \n",
       "19    19     2011-01-01 1      0  1    18 0       6       0          3         \n",
       "20    20     2011-01-01 1      0  1    19 0       6       0          3         \n",
       "21    21     2011-01-01 1      0  1    20 0       6       0          2         \n",
       "22    22     2011-01-01 1      0  1    21 0       6       0          2         \n",
       "23    23     2011-01-01 1      0  1    22 0       6       0          2         \n",
       "24    24     2011-01-01 1      0  1    23 0       6       0          2         \n",
       "162  162     2011-01-08 1      0  1     0 0       6       0          2         \n",
       "163  163     2011-01-08 1      0  1     1 0       6       0          2         \n",
       "164  164     2011-01-08 1      0  1     2 0       6       0          2         \n",
       "165  165     2011-01-08 1      0  1     3 0       6       0          3         \n",
       "166  166     2011-01-08 1      0  1     4 0       6       0          3         \n",
       "167  167     2011-01-08 1      0  1     5 0       6       0          2         \n",
       "⋮    ⋮       ⋮          ⋮      ⋮  ⋮    ⋮  ⋮       ⋮       ⋮          ⋮         \n",
       "2483 17160   2012-12-22 1      1  12   18 0       6       0          1         \n",
       "2484 17161   2012-12-22 1      1  12   19 0       6       0          1         \n",
       "2485 17162   2012-12-22 1      1  12   20 0       6       0          1         \n",
       "2486 17163   2012-12-22 1      1  12   21 0       6       0          1         \n",
       "2487 17164   2012-12-22 1      1  12   22 0       6       0          1         \n",
       "2488 17165   2012-12-22 1      1  12   23 0       6       0          1         \n",
       "2489 17308   2012-12-29 1      1  12    0 0       6       0          2         \n",
       "2490 17309   2012-12-29 1      1  12    1 0       6       0          2         \n",
       "2491 17310   2012-12-29 1      1  12    2 0       6       0          2         \n",
       "2492 17311   2012-12-29 1      1  12    3 0       6       0          2         \n",
       "2493 17312   2012-12-29 1      1  12    4 0       6       0          2         \n",
       "2494 17313   2012-12-29 1      1  12    5 0       6       0          2         \n",
       "2495 17314   2012-12-29 1      1  12    6 0       6       0          2         \n",
       "2496 17315   2012-12-29 1      1  12    7 0       6       0          2         \n",
       "2497 17316   2012-12-29 1      1  12    8 0       6       0          2         \n",
       "2498 17317   2012-12-29 1      1  12    9 0       6       0          2         \n",
       "2499 17318   2012-12-29 1      1  12   10 0       6       0          3         \n",
       "2500 17319   2012-12-29 1      1  12   11 0       6       0          3         \n",
       "2501 17320   2012-12-29 1      1  12   12 0       6       0          3         \n",
       "2502 17321   2012-12-29 1      1  12   13 0       6       0          3         \n",
       "2503 17322   2012-12-29 1      1  12   14 0       6       0          2         \n",
       "2504 17323   2012-12-29 1      1  12   15 0       6       0          2         \n",
       "2505 17324   2012-12-29 1      1  12   16 0       6       0          1         \n",
       "2506 17325   2012-12-29 1      1  12   17 0       6       0          1         \n",
       "2507 17326   2012-12-29 1      1  12   18 0       6       0          1         \n",
       "2508 17327   2012-12-29 1      1  12   19 0       6       0          2         \n",
       "2509 17328   2012-12-29 1      1  12   20 0       6       0          2         \n",
       "2510 17329   2012-12-29 1      1  12   21 0       6       0          2         \n",
       "2511 17330   2012-12-29 1      1  12   22 0       6       0          2         \n",
       "2512 17331   2012-12-29 1      1  12   23 0       6       0          2         \n",
       "     temp atemp  hum  windspeed casual registered cnt\n",
       "1    0.24 0.2879 0.81 0.0000     3     13          16\n",
       "2    0.22 0.2727 0.80 0.0000     8     32          40\n",
       "3    0.22 0.2727 0.80 0.0000     5     27          32\n",
       "4    0.24 0.2879 0.75 0.0000     3     10          13\n",
       "5    0.24 0.2879 0.75 0.0000     0      1           1\n",
       "6    0.24 0.2576 0.75 0.0896     0      1           1\n",
       "7    0.22 0.2727 0.80 0.0000     2      0           2\n",
       "8    0.20 0.2576 0.86 0.0000     1      2           3\n",
       "9    0.24 0.2879 0.75 0.0000     1      7           8\n",
       "10   0.32 0.3485 0.76 0.0000     8      6          14\n",
       "11   0.38 0.3939 0.76 0.2537    12     24          36\n",
       "12   0.36 0.3333 0.81 0.2836    26     30          56\n",
       "13   0.42 0.4242 0.77 0.2836    29     55          84\n",
       "14   0.46 0.4545 0.72 0.2985    47     47          94\n",
       "15   0.46 0.4545 0.72 0.2836    35     71         106\n",
       "16   0.44 0.4394 0.77 0.2985    40     70         110\n",
       "17   0.42 0.4242 0.82 0.2985    41     52          93\n",
       "18   0.44 0.4394 0.82 0.2836    15     52          67\n",
       "19   0.42 0.4242 0.88 0.2537     9     26          35\n",
       "20   0.42 0.4242 0.88 0.2537     6     31          37\n",
       "21   0.40 0.4091 0.87 0.2537    11     25          36\n",
       "22   0.40 0.4091 0.87 0.1940     3     31          34\n",
       "23   0.40 0.4091 0.94 0.2239    11     17          28\n",
       "24   0.46 0.4545 0.88 0.2985    15     24          39\n",
       "162  0.18 0.1970 0.51 0.1642     1     24          25\n",
       "163  0.18 0.2121 0.55 0.0896     1     15          16\n",
       "164  0.18 0.2424 0.55 0.0000     3     13          16\n",
       "165  0.18 0.1970 0.55 0.1642     0      7           7\n",
       "166  0.18 0.1970 0.55 0.1642     0      1           1\n",
       "167  0.16 0.1667 0.74 0.1642     0      5           5\n",
       "⋮    ⋮    ⋮      ⋮    ⋮         ⋮      ⋮          ⋮  \n",
       "2483 0.26 0.2121 0.44 0.4627     7      75         82\n",
       "2484 0.24 0.2121 0.48 0.3582     9      51         60\n",
       "2485 0.24 0.2424 0.48 0.1642     6      55         61\n",
       "2486 0.22 0.2121 0.51 0.2836     4      49         53\n",
       "2487 0.22 0.2121 0.51 0.2836     1      38         39\n",
       "2488 0.22 0.2273 0.51 0.1940     3      37         40\n",
       "2489 0.24 0.2424 0.70 0.0000     1      25         26\n",
       "2490 0.24 0.2424 0.75 0.0896     6      31         37\n",
       "2491 0.24 0.2424 0.70 0.0000     1      18         19\n",
       "2492 0.24 0.2424 0.75 0.0000     1       5          6\n",
       "2493 0.24 0.2424 0.75 0.0896     0       3          3\n",
       "2494 0.24 0.2424 0.75 0.0896     0       3          3\n",
       "2495 0.26 0.2424 0.70 0.1045     0       7          7\n",
       "2496 0.26 0.2424 0.70 0.1343     1      17         18\n",
       "2497 0.26 0.2424 0.81 0.0000     9      35         44\n",
       "2498 0.26 0.2424 0.81 0.0000    16      33         49\n",
       "2499 0.26 0.2424 0.81 0.1343     6      35         41\n",
       "2500 0.20 0.2424 0.93 0.0896     7      38         45\n",
       "2501 0.20 0.2424 1.00 0.0000     5      43         48\n",
       "2502 0.20 0.2424 1.00 0.0000    13      71         84\n",
       "2503 0.24 0.2424 0.87 0.0896    10      88         98\n",
       "2504 0.24 0.2424 0.87 0.0000    19     110        129\n",
       "2505 0.30 0.2424 0.75 0.1045    22     125        147\n",
       "2506 0.26 0.2424 0.79 0.1045    18     100        118\n",
       "2507 0.30 0.2424 0.70 0.1940     8     102        110\n",
       "2508 0.30 0.2424 0.61 0.2537     7      90         97\n",
       "2509 0.30 0.2424 0.56 0.5522     2      64         66\n",
       "2510 0.28 0.2424 0.56 0.4925     4      56         60\n",
       "2511 0.26 0.2424 0.60 0.4627     3      51         54\n",
       "2512 0.26 0.2424 0.60 0.0000     0      32         32"
      ]
     },
     "metadata": {},
     "output_type": "display_data"
    }
   ],
   "source": [
    "#' Code for Activity 6 goes here -----------------------\n",
    "#W_bikeshare<-subset(bikeshare_hour$weekday==1 & bikeshare_hour$weekday==2 & bikeshare_hour$weekday==3 & bikeshare_hour$weekday==4 & weekday==5)\n",
    "#Wd_bikeshare<-subset(bikeshare_hour$weekday==0 & bikeshare_hour$weekday==6)\n",
    "#head(W_bikeshare)\n",
    "#head(Wd_bikeshare)\n",
    "subset(bikeshare_hour,weekday==6)\n",
    "\n"
   ]
  },
  {
   "cell_type": "code",
   "execution_count": null,
   "metadata": {
    "collapsed": false
   },
   "outputs": [],
   "source": [
    "# SAVE NOTEBOOK BEFORE RUNNING CELL\n",
    "library(git2r)\n",
    "repo <- repository('../../..')\n",
    "add(repo, 'exercises.ipynb')   # Yes we add it again... we have another round of changes to record\n",
    "commit(repo,\"This is my second commit, Activities 4-6\")"
   ]
  },
  {
   "cell_type": "markdown",
   "metadata": {},
   "source": [
    "Let's say we were interested in analyzing distribution of data whether its a workday or not and the weather situation on that day. \n",
    "\n",
    "**Activity 7**: Find the distribution of data based on workday or not and kind of weather for the day. HInt: Look at table() command."
   ]
  },
  {
   "cell_type": "code",
   "execution_count": null,
   "metadata": {
    "collapsed": false
   },
   "outputs": [],
   "source": [
    "# Code for Activity 7 goes here -----------------------\n"
   ]
  },
  {
   "cell_type": "markdown",
   "metadata": {},
   "source": [
    "** Activity 8**: Identify the datatype of each variable in dataframe by applying class function to all variables."
   ]
  },
  {
   "cell_type": "code",
   "execution_count": null,
   "metadata": {
    "collapsed": false
   },
   "outputs": [],
   "source": [
    "#' Code for Activity 8 goes here -----------------------\n"
   ]
  },
  {
   "cell_type": "markdown",
   "metadata": {},
   "source": [
    "````\n",
    "\n",
    "    Answer for activity 8\n",
    "    \n",
    "----\n",
    "\n",
    "````"
   ]
  },
  {
   "cell_type": "markdown",
   "metadata": {},
   "source": [
    "**Activity 9**: Check the structure of the dataframe. You have to look up for this command. This command will give you the dimensions of dataframe, type of each variable and intial first 10 values of the variable."
   ]
  },
  {
   "cell_type": "code",
   "execution_count": null,
   "metadata": {
    "collapsed": false
   },
   "outputs": [],
   "source": [
    "#' Code for Activity 9 goes here -----------------------\n"
   ]
  },
  {
   "cell_type": "markdown",
   "metadata": {},
   "source": [
    "Let's see if people are more interested in riding the bike on weekdays or weekends. \n",
    "\n",
    "**Activity 10: ** Find out if people are more interested in riding the bike on weekdays or weekends. Find the average number of instances for weekdays and weekends."
   ]
  },
  {
   "cell_type": "code",
   "execution_count": null,
   "metadata": {
    "collapsed": false
   },
   "outputs": [],
   "source": [
    "# Code for Activity 10 goes here -----------------------\n",
    "\n"
   ]
  },
  {
   "cell_type": "code",
   "execution_count": null,
   "metadata": {
    "collapsed": false
   },
   "outputs": [],
   "source": [
    "# SAVE NOTEBOOK BEFORE RUNNING CELL\n",
    "library(git2r)\n",
    "repo <- repository('../../..')\n",
    "add(repo, 'exercises.ipynb')   # Yes we add it again... we have another round of changes to record\n",
    "commit(repo,\"Activities 7-10\")"
   ]
  },
  {
   "cell_type": "markdown",
   "metadata": {},
   "source": [
    "**Activity 11: ** Find out the day and hour when the maximum number of bikes were shared"
   ]
  },
  {
   "cell_type": "code",
   "execution_count": null,
   "metadata": {
    "collapsed": false
   },
   "outputs": [],
   "source": [
    "# Code for Activity 11 goes here -----------------------\n",
    "\n"
   ]
  },
  {
   "cell_type": "markdown",
   "metadata": {},
   "source": [
    "Lets do some data cleaning for taking up the next activity"
   ]
  },
  {
   "cell_type": "code",
   "execution_count": null,
   "metadata": {
    "collapsed": false
   },
   "outputs": [],
   "source": [
    "#First get the count of total bike shares based on each hour of the day and weekday. Run the code below\n",
    "hour_sums=t(tapply(bikeshare_hour$cnt, bikeshare_hour$hr,sum))\n",
    "day_sums=t(tapply(bikeshare_hour$cnt, bikeshare_hour$weekday,sum))"
   ]
  },
  {
   "cell_type": "markdown",
   "metadata": {},
   "source": [
    "tapply() definition from R-manual: Apply a function to each cell of a ragged array, that is to each (non-empty) group of values given by a unique combination of the levels of certain factors.\n",
    "\n",
    "Suggested reading: [tapply()](https://www.r-bloggers.com/r-function-of-the-day-tapply-2/)\n",
    "\n",
    "Simply put, in our example of hour_sums variable, the data is partitioned based on the second parameter, `bikeshare_hour$hr.` So 24 subsets are created for each hour(0 to 23). The 3rd argument can be any function(sum,mean,median etc) which is applied on the first parameter of tapply function. Since now we have 24 subsets, we are performing sum(bikeshare_hour$cnt) on this 24 subsets of data for each hour.\n",
    "\n",
    "\n",
    "The t() is used to return transpose input dataframe or matrix. Jupyter has issues rendering tapply() output, so t() is a workaround to display the output correctly.`\n",
    "\n",
    "More information on [t()](https://stat.ethz.ch/R-manual/R-devel/library/base/html/t.html)\n",
    "\n",
    "If you check the dimensions of hour_sums and day_sums variables they are dataframes. But we want the output in the form of a vector. So how can we convert a dataframe to a vector?"
   ]
  },
  {
   "cell_type": "code",
   "execution_count": null,
   "metadata": {
    "collapsed": false
   },
   "outputs": [],
   "source": [
    "#The above piece of code returns dataframes as output. Check the dimensions and class to verify. Run the code below.\n",
    "dim(hour_sums)\n",
    "dim(day_sums)\n",
    "class(hour_sums)\n",
    "class(day_sums)"
   ]
  },
  {
   "cell_type": "markdown",
   "metadata": {},
   "source": [
    "R has builtin function to convert data format between dataframes,matrices and vectors. You can change the data type and also check if certain object is actually a dataframe or matrix or a vector using functions like is.dataframe() etc."
   ]
  },
  {
   "cell_type": "code",
   "execution_count": null,
   "metadata": {
    "collapsed": false
   },
   "outputs": [],
   "source": [
    "#Convert the dataframes hour_sums, day_sums into a matrix and then into arrays. Run the code below.\n",
    "hour_sums=as.vector(as.matrix(hour_sums))\n",
    "day_sums=as.vector(as.matrix(day_sums))\n",
    "hour_sums\n",
    "day_sums"
   ]
  },
  {
   "cell_type": "markdown",
   "metadata": {},
   "source": [
    "## Distributions\n",
    "\n",
    "\n",
    "Lets peek into the distribution of different variables and see how they are distributed.\n",
    "\n",
    "** Activity 12: ** Plot a bar plot for bike shares for each hour of the day and weekday. Use hour_sums and day_sums vectors we created above to plot the graphs. Combine this plots using the par() or layout() command for analyzing them easily."
   ]
  },
  {
   "cell_type": "code",
   "execution_count": null,
   "metadata": {
    "collapsed": false
   },
   "outputs": [],
   "source": [
    "# Code for activity 12 goes gere \n",
    "\n"
   ]
  },
  {
   "cell_type": "markdown",
   "metadata": {},
   "source": [
    "The plots clearly tell, The peak hour of bike shares is 17 and 18 hours every day. While, thurdays and fridays are popular for bike shares in a week. This is contradicting with what we saw in activity 10 where average number of instances of bike shares are more on weekends. Lets see the average number of users who rent the bike on each week of the day."
   ]
  },
  {
   "cell_type": "code",
   "execution_count": null,
   "metadata": {
    "collapsed": false
   },
   "outputs": [],
   "source": [
    "day_sums"
   ]
  },
  {
   "cell_type": "markdown",
   "metadata": {},
   "source": [
    "**Activity 13: ** Plot a boxplot for `cnt` against each weekday"
   ]
  },
  {
   "cell_type": "code",
   "execution_count": null,
   "metadata": {
    "collapsed": true
   },
   "outputs": [],
   "source": [
    "#Code for activity 13 goes here.........\n"
   ]
  },
  {
   "cell_type": "markdown",
   "metadata": {},
   "source": [
    "** Activity 14: ** Plot histograms for variables `casual`, `registered` and `cnt` variables and see how they are distributed.  \n",
    "Plot mean and median on the histograms. "
   ]
  },
  {
   "cell_type": "code",
   "execution_count": null,
   "metadata": {
    "collapsed": false
   },
   "outputs": [],
   "source": [
    "#Code for activity 14 goes here\n"
   ]
  },
  {
   "cell_type": "markdown",
   "metadata": {},
   "source": [
    "# SAVE YOUR NOTEBOOK\n",
    "\n",
    "The next cell is the final commit of work!"
   ]
  },
  {
   "cell_type": "code",
   "execution_count": null,
   "metadata": {
    "collapsed": false
   },
   "outputs": [],
   "source": [
    "# SAVE NOTEBOOK BEFORE RUNNING CELL\n",
    "library(git2r)\n",
    "repo <- repository('../../..')\n",
    "add(repo, 'exercises.ipynb')   # Yes we add it again... we have another round of changes to record\n",
    "commit(repo,\"Activities 11-14\")\n",
    "\n",
    "# Let's look at the history of our work\n",
    "summary(repo)"
   ]
  },
  {
   "cell_type": "code",
   "execution_count": null,
   "metadata": {
    "collapsed": true
   },
   "outputs": [],
   "source": []
  }
 ],
 "metadata": {
  "kernelspec": {
   "display_name": "R",
   "language": "R",
   "name": "ir"
  },
  "language_info": {
   "codemirror_mode": "r",
   "file_extension": ".r",
   "mimetype": "text/x-r-source",
   "name": "R",
   "pygments_lexer": "r",
   "version": "3.3.1"
  }
 },
 "nbformat": 4,
 "nbformat_minor": 0
}
