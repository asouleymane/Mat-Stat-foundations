{
 "cells": [
  {
   "cell_type": "markdown",
   "metadata": {},
   "source": [
    "# Lab 2\n",
    "\n",
    "We have dealt with univariate data in module 1. All the datasets were multivariate but we were interested in analyzing individual variables, trying to do descriptive and inferential statistics and understanding how values are distributed etc. In this second lab, we will be focusing on dealing with multivariate data.\n",
    "\n",
    "Univariate vs multivariate data differs only by number of dimensions of data. multivariate can have two or more dimensions.  Often, more than one variable is collected in an experiment or any observation. For example, in a demographic study, many features such as age, sex, race, education, job, income level etc are included in the survey. The datasets will have more than two quantitative variables for each row or observation. First we will try to summarize the data just like how we summarized  univariate data in module 1.\n",
    "\n",
    "Univariate exploration is not very useful when we have many variables in the datset. We should explore data with more powerful\n",
    "graphical approaches. Before we jump into the multivariate data analysis we should look into something called bivariate data. \n",
    "\n",
    "Let's start working with wine data again but this time the data is little different."
   ]
  },
  {
   "cell_type": "markdown",
   "metadata": {},
   "source": [
    "### Bivariate data\n",
    "\n",
    "\n",
    "Bivariate data has two dimensions of data. \n",
    "We will consider abdominal circumference dataset which has three variables **id**, **gawks** and **ac**. \n",
    "The abdominal circumference is modelled as a function of gestational age in weeks. \n",
    "We will summarize the data analogous to summarizing univariate (single variable) data in module 1.\n",
    "\n",
    "Can we say, abdominal circumference varies with gestation period. \n",
    "As a general conception we can it is true. \n",
    "We can try to prove or disprove this assumption by analyzing the data. \n",
    "Read the dataset into a dataframe object called 'ac_data'."
   ]
  },
  {
   "cell_type": "code",
   "execution_count": null,
   "metadata": {
    "collapsed": false
   },
   "outputs": [],
   "source": [
    "ac_data=read.csv(\"../../../datasets/abdominal circumference/ac.csv\")\n",
    "head(ac_data)"
   ]
  },
  {
   "cell_type": "markdown",
   "metadata": {},
   "source": [
    "When you look at the first few rows you can't say for sure if long gestation periods will have more abdominal circumference. Lets do a quick check into descriptive statistics of the data."
   ]
  },
  {
   "cell_type": "code",
   "execution_count": null,
   "metadata": {
    "collapsed": false
   },
   "outputs": [],
   "source": [
    "summary(ac_data)"
   ]
  },
  {
   "cell_type": "markdown",
   "metadata": {},
   "source": [
    "We aren't sure if the data is normally distributed for both **gawks** and **ac** variables, but the data looks fine. There are no NA values.  Lets check the data type of variables using str() command."
   ]
  },
  {
   "cell_type": "code",
   "execution_count": null,
   "metadata": {
    "collapsed": false
   },
   "outputs": [],
   "source": [
    "str(ac_data)"
   ]
  },
  {
   "cell_type": "markdown",
   "metadata": {},
   "source": [
    "We can try to summarize each variable using a histogram. But the 'ac' variable is integer type. You have seen in previous notebooks that we cannot plot a histogram for an integer variable. so lets convert its datatype to numeric first."
   ]
  },
  {
   "cell_type": "code",
   "execution_count": null,
   "metadata": {
    "collapsed": true
   },
   "outputs": [],
   "source": [
    "ac_data$ac=as.numeric(ac_data$ac)"
   ]
  },
  {
   "cell_type": "code",
   "execution_count": null,
   "metadata": {
    "collapsed": false
   },
   "outputs": [],
   "source": [
    "par(mfrow=(c(1,2)))\n",
    "hist(ac_data$ac,breaks=25,main=\"abdominal circumference\")\n",
    "hist(ac_data$gawks,breaks=25,main=\"Gestation period\")"
   ]
  },
  {
   "cell_type": "markdown",
   "metadata": {},
   "source": [
    "The histograms tell us nothing about the relationship between them, if its linear, non linear or no relation at all. Scatter plots are the best way to visualize data to identify relationships."
   ]
  },
  {
   "cell_type": "code",
   "execution_count": null,
   "metadata": {
    "collapsed": false
   },
   "outputs": [],
   "source": [
    "library(ggplot2)\n",
    "\n",
    "ggplot(ac_data,aes(ac_data$ac,ac_data$gawks))+geom_point()+    \n",
    "        geom_smooth(method=lm,   # Add linear regression line\n",
    "                se=FALSE)  +  # Don't add shaded confidence region\n",
    "xlab(\"abdominal circumference\")+\n",
    "ylab(\"Gestation period\")"
   ]
  },
  {
   "cell_type": "markdown",
   "metadata": {},
   "source": [
    "Above plot tells us there is absolutely a positive linear relationship between hand length and foot length"
   ]
  },
  {
   "cell_type": "markdown",
   "metadata": {},
   "source": [
    "### Pearson correlation coefficient\n",
    "----\n",
    "\n",
    "\n",
    "The Pearson product-moment correlation coefficient is a measure of the strength of the linear relationship between two variables. If the relationship between the variables is not linear, then the correlation coefficient does not adequately represent the strength of the relationship between the variables.\n",
    "\n",
    "Pearson's **r**(symbol used to denote correlation coefficient) can range from -1 to 1. \n",
    "An **r** of -1 indicates a perfect negative linear relationship between variables, an r of 0 indicates no linear relationship between variables, and an r of 1 indicates a perfect positive linear relationship between variables.\n",
    "\n",
    "To calculate the Pearson(linear) correlation coefficient for a pair of variables, you can use the “cor.test()” function in R."
   ]
  },
  {
   "cell_type": "markdown",
   "metadata": {},
   "source": [
    "##### Positive correlation\n"
   ]
  },
  {
   "cell_type": "code",
   "execution_count": null,
   "metadata": {
    "collapsed": false
   },
   "outputs": [],
   "source": [
    "cor.test(ac_data$gawks,ac_data$ac)"
   ]
  },
  {
   "cell_type": "markdown",
   "metadata": {},
   "source": [
    "The correlation coefficient which is about 0.9863109, is a very strong positive correlation. The P-value for the statistical test of whether the correlation coefficient is significantly different from zero is 02.2e-16 is very smaller than 0.05 (which is used as a cutoff for statistical significance). So there is very strong evidence that that the correlation is non-zero."
   ]
  },
  {
   "cell_type": "markdown",
   "metadata": {},
   "source": [
    "##### Negative correlation\n",
    "\n",
    "When the correlation coefficient is negative then there would be negative correlation between variables. Again if the P-value is smaller than 0.05 (which is used as a cutoff for statistical significance) we can say correlation coefficient is different than 0."
   ]
  },
  {
   "cell_type": "markdown",
   "metadata": {},
   "source": [
    "##### Zero correlation\n",
    "\n",
    "When the correlation coefficient is nearly equal to zero, there will bo no correlation between variables. The P-value will be larger than 0.05 indicating correlation is zero."
   ]
  },
  {
   "cell_type": "markdown",
   "metadata": {},
   "source": [
    "Now that we have seen how to analyze bivariate data using scatter plots, we will advance our discussion into multivariate data analysis. You will generally start with univariate data analysis followed by bivariate data analysis before plotting complex 3d and 4d plots for multivariate data analysis. \n",
    "\n",
    "We will work with wine quality dataset for illustrating multivariate data analysis. The dataset has 11 independent and 1 dependent variable(quality).  "
   ]
  },
  {
   "cell_type": "markdown",
   "metadata": {},
   "source": [
    "### Loading data"
   ]
  },
  {
   "cell_type": "code",
   "execution_count": null,
   "metadata": {
    "collapsed": true
   },
   "outputs": [],
   "source": [
    "wine_quality <- read.csv(\"../../../datasets/wine quality/winequality-red.csv\", header = T, sep=\";\")"
   ]
  },
  {
   "cell_type": "markdown",
   "metadata": {},
   "source": [
    "As usual lets take a quick look at the data, if we read the data correctly into the dataframe."
   ]
  },
  {
   "cell_type": "code",
   "execution_count": null,
   "metadata": {
    "collapsed": false
   },
   "outputs": [],
   "source": [
    "head(wine_quality)"
   ]
  },
  {
   "cell_type": "code",
   "execution_count": null,
   "metadata": {
    "collapsed": false
   },
   "outputs": [],
   "source": [
    "#The structure of the dataframe as follows\n",
    "# wine_quality$quality<-as.factor(wine_quality$quality)\n",
    "str(wine_quality)"
   ]
  },
  {
   "cell_type": "markdown",
   "metadata": {},
   "source": [
    "Str() gave us an overall sense of the data. All the variables are continous except for quality which is an integer. Lets dig deep into the data by doing some univariate analysis just like what we did in module 1 and progress to multivariate analysis. \n",
    "\n",
    "Lets do a summary analysis on all variables"
   ]
  },
  {
   "cell_type": "code",
   "execution_count": null,
   "metadata": {
    "collapsed": false
   },
   "outputs": [],
   "source": [
    "summary(wine_quality)"
   ]
  },
  {
   "cell_type": "markdown",
   "metadata": {},
   "source": [
    "Each variable has a different scale of values. Some range from 0 to 1 and some vary over long ranges. Residual sugars seem to have outliers. The value at 75th percentile is 2.6 while the maximum value is 15.5. Thats a big difference. We are not sure at the moment if there are any outliers. A visual plot might help us determine that. We will go ahead and look for any interesting correlations existing between variables. \n",
    "\n",
    "### Univariate analysis\n",
    "\n",
    "Lets go and plot histograms for all 12 variables and have a quick look into distribution of the values.\n",
    "\n",
    "`gridExtra`: This R library helps you arrange multiple grid-based plots on a page, and draw tables. We are plotting 12 different histograms and arranging them in a grid. \n",
    "\n",
    "`ggplot2`: ggplot2 is commonly used package for doing visualizations. It takes care of many of the fiddly details that make plotting a hassle (like drawing legends)."
   ]
  },
  {
   "cell_type": "code",
   "execution_count": null,
   "metadata": {
    "collapsed": false
   },
   "outputs": [],
   "source": [
    "require(gridExtra)\n",
    "require(ggplot2)\n",
    "\n",
    "## grid.arrange(x1,x2,x3...xn,ncol=x,nrow=y)\n",
    "## The command will arrange the plots x1,x2....xn in the desired output of specified rows and columns\n",
    "\n",
    "# The number of bins should be chosen as appropriate. \n",
    "# If you are not sure then trial and error is the best way to figure the \n",
    "# right number of bins. Each bin will have number of observations equal to bin size. \n",
    "\n",
    "grid.arrange(qplot(wine_quality$fixed.acidity,bins = 50,xlab='fixed acid'),\n",
    "             qplot(wine_quality$volatile.acidity,bins = 50,xlab='volatile acid'),\n",
    "             qplot(wine_quality$citric.acid,bins = 50,xlab='citric acid'),\n",
    "             qplot(wine_quality$residual.sugar,bins = 50,xlab='residual sugar'),\n",
    "             qplot(wine_quality$chlorides,bins = 50,xlab='chlorides'),\n",
    "             qplot(wine_quality$free.sulfur.dioxide,bins = 50,xlab='free SO2'),\n",
    "             qplot(wine_quality$total.sulfur.dioxide,bins = 50,xlab='Total SO2'),\n",
    "             qplot(wine_quality$density,bins = 50,xlab='density'),\n",
    "             qplot(wine_quality$pH,bins = 50,xlab='pH'),\n",
    "             qplot(wine_quality$sulphates,bins = 50,xlab='sulphates'),\n",
    "             qplot(wine_quality$alcohol,bins = 50,xlab='alcohol'),\n",
    "             qplot(wine_quality$quality,bins = 50,xlab='quality'),\n",
    "             ncol = 4)"
   ]
  },
  {
   "cell_type": "code",
   "execution_count": null,
   "metadata": {
    "collapsed": false
   },
   "outputs": [],
   "source": [
    "summary(wine_quality$pH)\n",
    "summary(wine_quality$density)\n",
    "summary(wine_quality$alcohol)\n",
    "summary(wine_quality$residual.sugar)"
   ]
  },
  {
   "cell_type": "markdown",
   "metadata": {},
   "source": [
    "### Observations based on histograms\n",
    "\n",
    "* Wine pH level: The pH is varying with a minimum value 2.74 and max value 4.010 and with mean 3.3.\n",
    "\n",
    "\n",
    "* Density of the Wine: The density of the wine is spread between 0.9901 and 1.004. Density has normal distribution with a peak between 0.996 and 0.998.\n",
    "\n",
    "* Alcohol Percentage: From the histogram we can see that alcohol percentage for wine is positively skewed with a peak between 9 and 10.\n",
    "\n",
    "* Quality:  The wine scores are spread between 3 and 8. Most of the wine samples have scores 5 or 6. Very few samples have rating 3(least) and 8(highest).\n",
    "\n",
    "* Residual Sugar is highly skewed towards right. We need to analyze more to see if they are outliers or if they are valid measurments."
   ]
  },
  {
   "cell_type": "markdown",
   "metadata": {},
   "source": [
    "### Main features in the dataset?\n",
    "\n",
    "Our variable of interest in the dataset will be quality. We have to identify the independent variables in the datsset which can explain the most of the variability in the dataset and predict the quality of the wine sample. The dataset includes 1599 observations and most of the wine samples have a quality of 5 or 6 with the minimum quality being 3 and maximum quality of 8.\n",
    "\n",
    "The mean falls right between 5 and 6 at 5.636.\n",
    "\n",
    "Lets go ahead and subset the dataset based on quality. If the wine quality is 3 or 4, we will subset the rows as bad quality. If the quality is 5 or 6 then subset the rows as medium quality. If the quality is 7 or 8, subset the rows as good quality. "
   ]
  },
  {
   "cell_type": "code",
   "execution_count": null,
   "metadata": {
    "collapsed": false
   },
   "outputs": [],
   "source": [
    "#Subset function helps you subset the data. It is one of the many ways you can form subsets from a dataset. The pipe operator \n",
    "#\"|\" works like binary `or` operator. \"wine_quality$quality == 3 | wine_quality$quality == 4\" will select rows where quality is \n",
    "#either 3 or 4.\n",
    "\n",
    "# Another way to look at the subset operators for rows is as the 'WHERE' clause in SQL.\n",
    "\n",
    "bad_quality <- subset(wine_quality,wine_quality$quality == 3 | wine_quality$quality == 4)\n",
    "medium_quality <- subset(wine_quality,wine_quality$quality==5 | wine_quality$quality==6)\n",
    "good_quality <- subset(wine_quality,wine_quality$quality==7 | wine_quality$quality==8)\n",
    "\n",
    "#Make sure no rows are missed while you are subsetting the data. nrow will return number of rows in a dataframe.  \n",
    "nrow(bad_quality)+nrow(medium_quality)+nrow(good_quality)"
   ]
  },
  {
   "cell_type": "markdown",
   "metadata": {},
   "source": [
    "We are not sure which variables are significant in predicting the quality of wine samples. We can go ahead and raph bi variate plots between quality and rest all independent variables for identifying linear relationships."
   ]
  },
  {
   "cell_type": "markdown",
   "metadata": {},
   "source": [
    "quality variable in wine_quality is an integer type variable. We cannot plot a boxplot using integer. We will convert it into a factor as shown below before graphing a box plot. "
   ]
  },
  {
   "cell_type": "code",
   "execution_count": null,
   "metadata": {
    "collapsed": false
   },
   "outputs": [],
   "source": [
    "wine_quality$quality=as.factor(wine_quality$quality)"
   ]
  },
  {
   "cell_type": "code",
   "execution_count": null,
   "metadata": {
    "collapsed": false
   },
   "outputs": [],
   "source": [
    "library(ggplot2)\n",
    "require(gridExtra)\n",
    "\n",
    "fixed_qua_box <- ggplot(wine_quality, aes(x=quality, y=fixed.acidity,fill=quality)) + geom_boxplot()\n",
    "sugar_qua_box <- ggplot(wine_quality, aes(x=quality, y=residual.sugar,fill=quality)) + geom_boxplot()\n",
    "chlorides_qua_box <- ggplot(wine_quality, aes(x=quality, y=chlorides,fill=quality)) + geom_boxplot()\n",
    "total_sulfur_qua_box <- ggplot(wine_quality, aes(x=quality, y=total.sulfur.dioxide,fill=quality)) + geom_boxplot()\n",
    "alcohol_qua_box <- ggplot(wine_quality, aes(x=quality, y=alcohol,fill=quality)) + geom_boxplot()\n",
    "volatile_qua_box <- ggplot(wine_quality, aes(x=quality, y=volatile.acidity,fill=quality)) + geom_boxplot()\n",
    "sulphates_qua_box <- ggplot(wine_quality, aes(x=quality, y=sulphates,fill=quality)) + geom_boxplot()\n",
    "citric_qua_box <- ggplot(wine_quality, aes(x=quality, y=citric.acid,fill=quality)) + geom_boxplot()\n",
    "density_qua_box <- ggplot(wine_quality, aes(x=quality, y=density,fill=quality)) + geom_boxplot()\n",
    "ph_qua_box <- ggplot(wine_quality, aes(x=quality, y=pH,fill=quality)) + geom_boxplot()\n",
    "grid.arrange(fixed_qua_box,sugar_qua_box,chlorides_qua_box,total_sulfur_qua_box,density_qua_box,ph_qua_box,alcohol_qua_box,\n",
    "             volatile_qua_box,sulphates_qua_box,citric_qua_box,ncol=2,nrow=5)\n",
    "# alcohol_qua_box"
   ]
  },
  {
   "cell_type": "markdown",
   "metadata": {},
   "source": [
    "alcohol, citric acid, sulphates and fixed.acidity show postive correlation with quality while volatile.acidity, pH and density have negative correlation. The alcohol level is increasing with increasing wine quality same as citric acid level. \n",
    "\n",
    "If two variables are varying linearly then they both might give us same kind of information. Both can explain the same amount of variation in the data. So when building a model, we try to skip those kind of variables which are related.\n",
    "\n",
    "Lets plot scatter lots between variables we identified above. "
   ]
  },
  {
   "cell_type": "code",
   "execution_count": null,
   "metadata": {
    "collapsed": false
   },
   "outputs": [],
   "source": [
    "#pH and citric acid are related as both tell acidic nature of wine. Fixed.Acidity and volatile.acidity should tell us same story. \n",
    "#We will see how alcohol varies with pH and density. Below plots issustrate the relationships. \n",
    "\n",
    "require(gridExtra)\n",
    "\n",
    "volatile.acidity_fixed.acidity <- ggplot(wine_quality, aes(x=fixed.acidity, y=volatile.acidity))\n",
    "\n",
    "alcohol_density <- ggplot(wine_quality, aes(x=alcohol, y=density))\n",
    "\n",
    "alcohol_pH<- ggplot(wine_quality, aes(x=alcohol, y=pH))\n",
    "\n",
    "grid.arrange(volatile.acidity_fixed.acidity+geom_point(aes(colour = quality),alpha = 0.3)+geom_smooth(method = \"lm\", se = FALSE), \n",
    "             alcohol_density+geom_point(aes(colour = quality),alpha = 0.3)+geom_smooth(method = \"lm\", se = FALSE),\n",
    "             alcohol_pH+geom_point(aes(colour = quality),alpha = 0.3)+geom_smooth(method = \"lm\", se = FALSE),\n",
    "             ncol=2,nrow=2)"
   ]
  },
  {
   "cell_type": "markdown",
   "metadata": {},
   "source": [
    "The first plot shows the volatile.acidity/fixed.acidity relationship. Fixed.acidity and volatile.acidity vary inversly with each other. They have relatively moderate negative relation.\n",
    "\n",
    "The second plot shows the negative relationship between density and alcohol. As the alcohol content increases, density of the win decreases.\n",
    "\n",
    "The relationship between alcohol and pH is strong and positive. The plot clearly shows as the alcohol content goes up, the pH  increases. \n",
    "\n",
    "**NOTE** An error is expected with the next cell.\n",
    "Please run it, them continue reading."
   ]
  },
  {
   "cell_type": "code",
   "execution_count": null,
   "metadata": {
    "collapsed": false
   },
   "outputs": [],
   "source": [
    "cor.test(wine_quality$quality,wine_quality$alcohol)"
   ]
  },
  {
   "cell_type": "markdown",
   "metadata": {},
   "source": [
    "quality is a factor variable now. Lets convert it to numeric format to find pearson correlation coeeficients for all independent variables against response variable quality."
   ]
  },
  {
   "cell_type": "code",
   "execution_count": null,
   "metadata": {
    "collapsed": true
   },
   "outputs": [],
   "source": [
    "wine_quality$quality=as.numeric(wine_quality$quality)"
   ]
  },
  {
   "cell_type": "code",
   "execution_count": null,
   "metadata": {
    "collapsed": false
   },
   "outputs": [],
   "source": [
    "cor.test(wine_quality$quality,wine_quality$alcohol)"
   ]
  },
  {
   "cell_type": "markdown",
   "metadata": {},
   "source": [
    "We started our data exploration with bunch of histograms and some scatter plots for identifying relationships. Some of the independent variables are related to the quality of wine. We identified list of variables with their corresponding pearson correlation coefficients:\n",
    "\n",
    "#### Positive Correlation\n",
    "\n",
    "`Alcohol : 0.476`\n",
    "\n",
    "`Sulphates : 0.251`\n",
    "\n",
    "`Citric Acid: 0.226`\n",
    "\n",
    "`Fixed Acidity: 0.124`\n",
    "\n",
    "#### Negative Correlation\n",
    "\n",
    "`Volatile Acidity : -0.391`\n",
    "\n",
    "`Total SO2 : -0.185`\n",
    "\n",
    "`Density : -0.175`\n",
    "\n",
    "`Chlorides : -0.129`"
   ]
  },
  {
   "cell_type": "markdown",
   "metadata": {},
   "source": [
    "The highest positive relation we can see between any two variables is 0.476 which is not very significant. citric acid is next hihgly positively related feature. Likewise, volatile.acidity and density are negatively related."
   ]
  },
  {
   "cell_type": "code",
   "execution_count": null,
   "metadata": {
    "collapsed": false
   },
   "outputs": [],
   "source": [
    "wine_quality <- read.csv(\"../../../datasets/wine quality/winequality-red.csv\", header = T, sep=\";\")"
   ]
  },
  {
   "cell_type": "markdown",
   "metadata": {
    "collapsed": true
   },
   "source": [
    "### Multivariate Plots Section\n",
    "\n",
    "We were able to reduce the number of independent features to 4 from 11 which we think are significant in explaining the variability in the dataset and predict wine quality. We know each of these variables vary linearly with quality. But we are not sure how they will vary all together. Lets plot some 3d plots to visualize relationships between all the significant features."
   ]
  },
  {
   "cell_type": "code",
   "execution_count": null,
   "metadata": {
    "collapsed": true
   },
   "outputs": [],
   "source": [
    "for (i in 1:nrow(wine_quality))\n",
    "{\n",
    "  if(wine_quality$quality[i]==3)\n",
    "      wine_quality$grade[i]='bad'\n",
    "  if(wine_quality$quality[i]==4)\n",
    "      wine_quality$grade[i]='bad'\n",
    "  if(wine_quality$quality[i]==5)\n",
    "      wine_quality$grade[i]='medium'\n",
    "  if(wine_quality$quality[i]==6)\n",
    "      wine_quality$grade[i]='medium'\n",
    "  if(wine_quality$quality[i]==7)\n",
    "      wine_quality$grade[i]='good'\n",
    "  if(wine_quality$quality[i]==8)\n",
    "      wine_quality$grade[i]='good'\n",
    "}"
   ]
  },
  {
   "cell_type": "code",
   "execution_count": null,
   "metadata": {
    "collapsed": false
   },
   "outputs": [],
   "source": [
    "library(gridExtra)\n",
    "grid.arrange(\n",
    "ggplot(data = wine_quality,\n",
    "       aes(x = citric.acid, y = alcohol, color = quality)) +\n",
    "  geom_point() +\n",
    "  facet_wrap(~grade),\n",
    "    \n",
    "    ggplot(data = wine_quality,\n",
    "       aes(x = sulphates, y = alcohol, color = quality)) +\n",
    "  geom_point() +\n",
    "  facet_wrap(~grade),\n",
    "    \n",
    "    ggplot(data = wine_quality,\n",
    "       aes(x = volatile.acidity, y = alcohol, color = quality)) +\n",
    "  geom_point() +\n",
    "  facet_wrap(~grade),\n",
    "    \n",
    "    ggplot(data = wine_quality,\n",
    "       aes(x = total.sulfur.dioxide, y = alcohol, color = quality)) +\n",
    "  geom_point() +\n",
    "  facet_wrap(~grade),\n",
    "    nrow=2,ncol=2)"
   ]
  },
  {
   "cell_type": "markdown",
   "metadata": {},
   "source": [
    "4 features volatile.acidity, pH, sulhates and alcohol showed correlation with quality. The scatterplots above were faceted by grade to illustrate the population differences between good wines, average wines, and bad wines. Otherwise plots will be a bit crowded. It's clear that a higher citric acid and lower volatile (acetic) acid contributes towards better wines. Likewise, better wines tended to have higher sulphates and alcohol content. Surprisingly, pH had very little visual impact on wine quality, and was shadowed by the larger impact of alcohol. Interestingly, this shows that what makes a good wine depends on the type of acids that are present."
   ]
  },
  {
   "cell_type": "code",
   "execution_count": null,
   "metadata": {
    "collapsed": false
   },
   "outputs": [],
   "source": [
    "summary(wine_quality)"
   ]
  },
  {
   "cell_type": "code",
   "execution_count": null,
   "metadata": {
    "collapsed": false
   },
   "outputs": [],
   "source": [
    "data=wine_quality[c(\"alcohol\",\"volatile.acidity\",\"sulphates\",\"quality\")]"
   ]
  },
  {
   "cell_type": "code",
   "execution_count": null,
   "metadata": {
    "collapsed": false
   },
   "outputs": [],
   "source": [
    "library(ggplot2)\n",
    "ggplot(wine_quality, aes(x=alcohol, y=total.sulfur.dioxide, fill=volatile.acidity, color=quality)) + #, size=var5^2\n",
    "  geom_point(shape=21) +\n",
    "  scale_color_gradient(low=\"red\", high=\"green\") +\n",
    "  scale_size_continuous(range=c(1,12))"
   ]
  },
  {
   "cell_type": "code",
   "execution_count": null,
   "metadata": {
    "collapsed": false
   },
   "outputs": [],
   "source": [
    "#3d boxplot\n",
    "\n",
    "# install.packages('scatterplot3d',repo='http://cran.us.r-project.org')\n",
    "library(scatterplot3d)"
   ]
  },
  {
   "cell_type": "code",
   "execution_count": null,
   "metadata": {
    "collapsed": false
   },
   "outputs": [],
   "source": [
    "library(scatterplot3d)\n",
    "\n",
    "# plot_3d <- scatterplot3d(data, type = \"h\", color = data$quality, angle = 55, scale.y = 0.7, pch = 16, \n",
    "#main = \"Alcohol vs Volatile.acidity vs quality\")\n",
    "# plot_lm <- lm(data$quality ~ data$alcohol + data$volatile.acidity)\n",
    "# plot_3d$plane3d(plot_lm)\n",
    "# plot_3d$points3d(seq(10, 20, 2), seq(85, 60, -5), seq(60, 10, -10),col = \"red\", type = \"h\", pch = 8)\n",
    "shapes = c(16, 17, 18,19,20,21) \n",
    "shapes <- shapes[as.numeric(data$quality)]\n",
    "scatterplot3d(data,angle = 45,pch = shapes,\n",
    "             main=\"Alcohol vs Volatile acidity vs quality\",\n",
    "              xlab = \"Alcohol\",\n",
    "              ylab = \"Volatile.acidity\",\n",
    "              zlab = \"Quality\")"
   ]
  },
  {
   "cell_type": "code",
   "execution_count": null,
   "metadata": {
    "collapsed": true
   },
   "outputs": [],
   "source": [
    "options(jupyter.plot_mimetypes = 'image/png')"
   ]
  },
  {
   "cell_type": "code",
   "execution_count": null,
   "metadata": {
    "collapsed": true
   },
   "outputs": [],
   "source": [
    "wine_quality$quality=as.factor(wine_quality$quality)"
   ]
  },
  {
   "cell_type": "code",
   "execution_count": null,
   "metadata": {
    "collapsed": false
   },
   "outputs": [],
   "source": [
    "# install.packages(\"car\",repo=\"http://cran.us.r-project.org\")\n",
    "library(car)\n",
    "# install.packages(\"rgl\",repo=\"http://cran.us.r-project.org\")\n",
    "\n",
    "library(rgl)\n",
    "# scatter3d(wine_quality$alcohol,wine_quality$volatile.acidity,wine_quality$sulphates,groups = wine_quality$quality)\n",
    "plot3d(wine_quality$alcohol,wine_quality$volatile.acidity,wine_quality$sulphates, col=as.numeric(wine_quality$quality), \n",
    "       size=0.5, type='s',xlab=\"alcohol\",ylab=\"volatile.acidity\",zlab=\"sulphates\")"
   ]
  },
  {
   "cell_type": "code",
   "execution_count": null,
   "metadata": {
    "collapsed": false
   },
   "outputs": [],
   "source": [
    "colors <- c(\"#999999\", \"#E69F00\", \"#56B4E9\",'magenta','yellow','black')\n",
    "colors <- colors[as.numeric(data$quality)]\n",
    "plot<-scatterplot3d(data,angle = 45,color=colors,pch = 16,\n",
    "              main=\"Alcohol vs Volatile acidity vs quality\",\n",
    "              xlab = \"Alcohol\",\n",
    "              ylab = \"Volatile.acidity\",\n",
    "              zlab = \"Quality\")\n",
    "\n",
    "              legend(plot$xyz.convert(14, 1.5, 5), legend = levels(data$quality),\n",
    "              col =  c(\"#999999\", \"#E69F00\", \"#56B4E9\"), pch = 16)             "
   ]
  },
  {
   "cell_type": "code",
   "execution_count": null,
   "metadata": {
    "collapsed": false
   },
   "outputs": [],
   "source": [
    "# install.packages('psych',repo='http://cran.us.r-project.org')\n",
    "# library(psych)\n",
    "scatter.hist(x=data$alcohol, y=data$volatile.acidity, xlab='Alcohol',ylab='Volatile acidity',\n",
    "             density=TRUE, ellipse=TRUE)"
   ]
  }
 ],
 "metadata": {
  "kernelspec": {
   "display_name": "R",
   "language": "R",
   "name": "ir"
  },
  "language_info": {
   "codemirror_mode": "r",
   "file_extension": ".r",
   "mimetype": "text/x-r-source",
   "name": "R",
   "pygments_lexer": "r",
   "version": "3.3.1"
  }
 },
 "nbformat": 4,
 "nbformat_minor": 0
}
