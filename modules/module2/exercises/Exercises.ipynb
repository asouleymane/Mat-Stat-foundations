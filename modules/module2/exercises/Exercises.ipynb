{
 "cells": [
  {
   "cell_type": "markdown",
   "metadata": {},
   "source": [
    "# Multivariate Data Analysis Exercises\n",
    "\n",
    "This is the second exercise notebook you are going to work on in this course. The notebook, we will ask you to write and execute your own code. Questions involved covers concepts of summary statistics, univariate, bivariate and multivariate analysis. Questions will be similar to what is discussed in Labs and Practices. Dataset used will be similar to what you have seen in lab and practice notebook. \n",
    "\n",
    "In this exercise notebook, you will be dealing with housing dataset. Be sure to follow the directions carefully. Write as well as execute code in the designated cells and save the file."
   ]
  },
  {
   "cell_type": "markdown",
   "metadata": {},
   "source": [
    "**Question 1**: Read in the file `housing.txt` under the `datasets/housing/` directory. Name this data frame \"`housing_data`\"."
   ]
  },
  {
   "cell_type": "code",
   "execution_count": null,
   "metadata": {
    "collapsed": false
   },
   "outputs": [],
   "source": [
    "# Execute your code for question 1 here\n",
    "# -------------------------------------\n"
   ]
  },
  {
   "cell_type": "markdown",
   "metadata": {},
   "source": [
    "The dataset doesn't have column headers. Since this is a small dataset we can add the names manually. If the dataset contains few hundreds of columns then we have process the input file to automatically get the names.\n",
    "\n",
    "**Question 2**: Now use the read me file in `datasets/housing/` for getting column names of housing_data. The column names are listed under attribute information heading in that file. Read the names into a vector names `headers`. Assign the names in headers as names to housing_data columns.\n",
    "\n",
    "You can open the file by going to your tab with JupyterHub navigation and clicking the course title, then `datasets`"
   ]
  },
  {
   "cell_type": "code",
   "execution_count": null,
   "metadata": {
    "collapsed": false
   },
   "outputs": [],
   "source": [
    "# Execute your code for question 2 here\n",
    "# -------------------------------------\n",
    "\n"
   ]
  },
  {
   "cell_type": "markdown",
   "metadata": {},
   "source": [
    "Of the 14 varaibles in the dataset, MEDV is the dependent variable while the other 13 are possible independent variables.  MEDV reports the median value of owner-occupied homes. The independent variables might help to explain the variation in median value across tracts."
   ]
  },
  {
   "cell_type": "markdown",
   "metadata": {},
   "source": [
    "Before we get into multivariate analysis we should see how data is distributed for each variable. \n",
    "\n",
    "**Question 3: ** Draw histograms for all 14 variables using grid.arrange() function. Observe how the data is distributed. Do you see any interesting patters of data distribution?"
   ]
  },
  {
   "cell_type": "code",
   "execution_count": null,
   "metadata": {
    "collapsed": false
   },
   "outputs": [],
   "source": [
    "# Execute your code for question 3 here\n",
    "# -------------------------------------\n"
   ]
  },
  {
   "cell_type": "markdown",
   "metadata": {},
   "source": [
    "** Save your notebook **"
   ]
  },
  {
   "cell_type": "code",
   "execution_count": null,
   "metadata": {
    "collapsed": true
   },
   "outputs": [],
   "source": [
    "# SAVE NOTEBOOK BEFORE RUNNING CELL\n",
    "library(git2r)\n",
    "repo <- repository('../../..')\n",
    "add(repo, 'Exercises.ipynb')   \n",
    "commit(repo,\"This is my first commit, Activities 1-3\")"
   ]
  },
  {
   "cell_type": "markdown",
   "metadata": {},
   "source": [
    "**Question 4**:   Identify the variables which have a correlation of $\\pm 0.45$  with MEDV. \n",
    "\n",
    "Hint: cor.test() gives lot of statistics. The only thing we are interested in right now is the correlation coefficient. So you can print exactly what you want instead of bunch of information it returns. For eg: use the command as \"cor.test(variable A,variable B)[4]\". The value at 4th position in the list command returns as output contains the correletaion coefficient. It keeps your output consice."
   ]
  },
  {
   "cell_type": "code",
   "execution_count": null,
   "metadata": {
    "collapsed": false
   },
   "outputs": [],
   "source": [
    "# Execute your code for question 4 here\n",
    "# -------------------------------------\n"
   ]
  },
  {
   "cell_type": "markdown",
   "metadata": {},
   "source": [
    "**Question 5**: Draw scatter plots between MEDV and the independent variables you found in Question 4 with using ggplot2 library and grid.arrange() function in gridExtra library. "
   ]
  },
  {
   "cell_type": "code",
   "execution_count": null,
   "metadata": {
    "collapsed": false
   },
   "outputs": [],
   "source": [
    "# Execute your code for question 5 here\n",
    "# -------------------------------------\n",
    "\n"
   ]
  },
  {
   "cell_type": "markdown",
   "metadata": {},
   "source": [
    "````\n",
    "\n",
    "    Answer for question 5 (pairs of variables)\n",
    "    \n",
    "````"
   ]
  },
  {
   "cell_type": "markdown",
   "metadata": {},
   "source": [
    "** Save your notebook**"
   ]
  },
  {
   "cell_type": "code",
   "execution_count": null,
   "metadata": {
    "collapsed": true
   },
   "outputs": [],
   "source": [
    "# SAVE NOTEBOOK BEFORE RUNNING CELL\n",
    "library(git2r)\n",
    "repo <- repository('../../..')\n",
    "add(repo, 'Exercises.ipynb')   \n",
    "commit(repo,\"This is my second commit, Activities 4-5\")"
   ]
  },
  {
   "cell_type": "markdown",
   "metadata": {},
   "source": [
    "**Question 6**:  \n",
    "A. Create a linear regression between MEDV and the most correlated variable in the data set.   \n",
    "B. Then plot the linear regression over the scatter plot."
   ]
  },
  {
   "cell_type": "code",
   "execution_count": null,
   "metadata": {
    "collapsed": true
   },
   "outputs": [],
   "source": [
    "# Execute your code for question 8 here\n",
    "# -------------------------------------\n"
   ]
  },
  {
   "cell_type": "markdown",
   "metadata": {},
   "source": [
    "**Question 7**:  \n",
    "A. Create a linear multiple regression between MEDV and all the variables identified in Question 4.    \n",
    "B. Then plot the linear regression over the scatter plot, using the regression variables and coefficients for the X-access."
   ]
  },
  {
   "cell_type": "code",
   "execution_count": null,
   "metadata": {
    "collapsed": true
   },
   "outputs": [],
   "source": [
    "# Execute your code for question 9 here\n",
    "# -------------------------------------\n"
   ]
  },
  {
   "cell_type": "markdown",
   "metadata": {},
   "source": [
    "# SAVE YOUR NOTEBOOK\n",
    "\n",
    "The next cell is the final commit of work!"
   ]
  },
  {
   "cell_type": "code",
   "execution_count": null,
   "metadata": {
    "collapsed": true
   },
   "outputs": [],
   "source": [
    "# SAVE NOTEBOOK BEFORE RUNNING CELL\n",
    "library(git2r)\n",
    "repo <- repository('../../..')\n",
    "add(repo, 'Exercises.ipynb')   # Yes we add it again... we have another round of changes to record\n",
    "commit(repo,\"Exercises Complete\")\n",
    "summary(repo)"
   ]
  }
 ],
 "metadata": {
  "kernelspec": {
   "display_name": "R",
   "language": "R",
   "name": "ir"
  },
  "language_info": {
   "codemirror_mode": "r",
   "file_extension": ".r",
   "mimetype": "text/x-r-source",
   "name": "R",
   "pygments_lexer": "r",
   "version": "3.3.1"
  }
 },
 "nbformat": 4,
 "nbformat_minor": 0
}
