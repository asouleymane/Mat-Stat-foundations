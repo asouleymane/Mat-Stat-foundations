{
 "cells": [
  {
   "cell_type": "markdown",
   "metadata": {},
   "source": [
    "# Multivariate Data Analysis Extra / Additional Exercises\n",
    "\n",
    "This is the second exercise notebook you are going to work on in this course. In this notebook, we will ask you to write and execute your own code. Questions involved cover concepts of summary statistics, univariate, bivariate and multivariate analysis. Questions will be similar to what is discussed in Labs and Practices, including the extra sets of notebooks. Dataset used will be similar to what you have seen in lab and practice notebook. \n",
    "\n",
    "In this exercise notebook, you will be dealing with housing dataset. Be sure to follow the directions carefully. Write as well as execute code in the designated cells and save the file."
   ]
  },
  {
   "cell_type": "markdown",
   "metadata": {},
   "source": [
    "**Question 1**: Read in the file `housing.txt` under the `datasets/housing/` directory. Name this data frame \"`housing_data`\"."
   ]
  },
  {
   "cell_type": "code",
   "execution_count": 2,
   "metadata": {
    "collapsed": false
   },
   "outputs": [
    {
     "data": {
      "text/html": [
       "<table>\n",
       "<thead><tr><th scope=col>V1</th><th scope=col>V2</th><th scope=col>V3</th><th scope=col>V4</th><th scope=col>V5</th><th scope=col>V6</th><th scope=col>V7</th><th scope=col>V8</th><th scope=col>V9</th><th scope=col>V10</th><th scope=col>V11</th><th scope=col>V12</th><th scope=col>V13</th><th scope=col>V14</th></tr></thead>\n",
       "<tbody>\n",
       "\t<tr><td>0.00632</td><td>18     </td><td>2.31   </td><td>0      </td><td>0.538  </td><td>6.575  </td><td>65.2   </td><td>4.0900 </td><td>1      </td><td>296    </td><td>15.3   </td><td>396.90 </td><td>4.98   </td><td>24.0   </td></tr>\n",
       "\t<tr><td>0.02731</td><td> 0     </td><td>7.07   </td><td>0      </td><td>0.469  </td><td>6.421  </td><td>78.9   </td><td>4.9671 </td><td>2      </td><td>242    </td><td>17.8   </td><td>396.90 </td><td>9.14   </td><td>21.6   </td></tr>\n",
       "\t<tr><td>0.02729</td><td> 0     </td><td>7.07   </td><td>0      </td><td>0.469  </td><td>7.185  </td><td>61.1   </td><td>4.9671 </td><td>2      </td><td>242    </td><td>17.8   </td><td>392.83 </td><td>4.03   </td><td>34.7   </td></tr>\n",
       "\t<tr><td>0.03237</td><td> 0     </td><td>2.18   </td><td>0      </td><td>0.458  </td><td>6.998  </td><td>45.8   </td><td>6.0622 </td><td>3      </td><td>222    </td><td>18.7   </td><td>394.63 </td><td>2.94   </td><td>33.4   </td></tr>\n",
       "\t<tr><td>0.06905</td><td> 0     </td><td>2.18   </td><td>0      </td><td>0.458  </td><td>7.147  </td><td>54.2   </td><td>6.0622 </td><td>3      </td><td>222    </td><td>18.7   </td><td>396.90 </td><td>5.33   </td><td>36.2   </td></tr>\n",
       "\t<tr><td>0.02985</td><td> 0     </td><td>2.18   </td><td>0      </td><td>0.458  </td><td>6.430  </td><td>58.7   </td><td>6.0622 </td><td>3      </td><td>222    </td><td>18.7   </td><td>394.12 </td><td>5.21   </td><td>28.7   </td></tr>\n",
       "</tbody>\n",
       "</table>\n"
      ],
      "text/latex": [
       "\\begin{tabular}{r|llllllllllllll}\n",
       " V1 & V2 & V3 & V4 & V5 & V6 & V7 & V8 & V9 & V10 & V11 & V12 & V13 & V14\\\\\n",
       "\\hline\n",
       "\t 0.00632 & 18      & 2.31    & 0       & 0.538   & 6.575   & 65.2    & 4.0900  & 1       & 296     & 15.3    & 396.90  & 4.98    & 24.0   \\\\\n",
       "\t 0.02731 &  0      & 7.07    & 0       & 0.469   & 6.421   & 78.9    & 4.9671  & 2       & 242     & 17.8    & 396.90  & 9.14    & 21.6   \\\\\n",
       "\t 0.02729 &  0      & 7.07    & 0       & 0.469   & 7.185   & 61.1    & 4.9671  & 2       & 242     & 17.8    & 392.83  & 4.03    & 34.7   \\\\\n",
       "\t 0.03237 &  0      & 2.18    & 0       & 0.458   & 6.998   & 45.8    & 6.0622  & 3       & 222     & 18.7    & 394.63  & 2.94    & 33.4   \\\\\n",
       "\t 0.06905 &  0      & 2.18    & 0       & 0.458   & 7.147   & 54.2    & 6.0622  & 3       & 222     & 18.7    & 396.90  & 5.33    & 36.2   \\\\\n",
       "\t 0.02985 &  0      & 2.18    & 0       & 0.458   & 6.430   & 58.7    & 6.0622  & 3       & 222     & 18.7    & 394.12  & 5.21    & 28.7   \\\\\n",
       "\\end{tabular}\n"
      ],
      "text/plain": [
       "  V1      V2 V3   V4 V5    V6    V7   V8     V9 V10 V11  V12    V13  V14 \n",
       "1 0.00632 18 2.31 0  0.538 6.575 65.2 4.0900 1  296 15.3 396.90 4.98 24.0\n",
       "2 0.02731  0 7.07 0  0.469 6.421 78.9 4.9671 2  242 17.8 396.90 9.14 21.6\n",
       "3 0.02729  0 7.07 0  0.469 7.185 61.1 4.9671 2  242 17.8 392.83 4.03 34.7\n",
       "4 0.03237  0 2.18 0  0.458 6.998 45.8 6.0622 3  222 18.7 394.63 2.94 33.4\n",
       "5 0.06905  0 2.18 0  0.458 7.147 54.2 6.0622 3  222 18.7 396.90 5.33 36.2\n",
       "6 0.02985  0 2.18 0  0.458 6.430 58.7 6.0622 3  222 18.7 394.12 5.21 28.7"
      ]
     },
     "metadata": {},
     "output_type": "display_data"
    }
   ],
   "source": [
    "# Execute your code for question 1 here\n",
    "# -------------------------------------\n",
    "\n",
    "housing_data <- read.table(\"../../../datasets/housing/housing.txt\")\n",
    "head(housing_data)\n"
   ]
  },
  {
   "cell_type": "markdown",
   "metadata": {},
   "source": [
    "The dataset doesn't have column headers. Since this is a small dataset we can add the names manually. If the dataset contains few hundreds of columns then we have process the input file to automatically get the names.\n",
    "\n",
    "**Question 2**: Now use the read me file in `datasets/housing/` for getting column names of housing_data. The column names are listed under attribute information heading in that file. Read the names into a vector names `headers`. Assign the names in headers as names to housing_data columns."
   ]
  },
  {
   "cell_type": "code",
   "execution_count": 3,
   "metadata": {
    "collapsed": false
   },
   "outputs": [
    {
     "name": "stdout",
     "output_type": "stream",
     "text": [
      " [1] \"V1\"  \"V2\"  \"V3\"  \"V4\"  \"V5\"  \"V6\"  \"V7\"  \"V8\"  \"V9\"  \"V10\" \"V11\" \"V12\"\n",
      "[13] \"V13\" \"V14\"\n"
     ]
    }
   ],
   "source": [
    "# Execute your code for question 2 here\n",
    "# -------------------------------------\n",
    "names(housing_d)\n",
    "housing_datacolumns=names(housing_data)\n",
    "names(housing_data)=c('CRIM','ZN','INDUS','CHAS','NOX','RM','AGE','DIS','RAD','TAX','PTRATIO','B','LSTAT','MEDV')\n",
    "print(housing_datacolumns)"
   ]
  },
  {
   "cell_type": "markdown",
   "metadata": {},
   "source": [
    "Of the 14 varaibles in the dataset, MEDV is the dependent variable while the other 13 are possible independent variables.  MEDV reports the median value of owner-occupied homes. The independent variables might help to explain the variation in median value across tracts."
   ]
  },
  {
   "cell_type": "markdown",
   "metadata": {},
   "source": [
    "Before we get into multivariate analysis we should see how data is distributed for each variable. \n",
    "\n",
    "**Question 3: ** Draw histograms for all 14 variables using grid.arrange() function. Observe how the data is distributed. Do you see any interesting patters of data distribution?"
   ]
  },
  {
   "cell_type": "code",
   "execution_count": 1,
   "metadata": {
    "collapsed": false
   },
   "outputs": [
    {
     "data": {
      "text/html": [
       "<table>\n",
       "<thead><tr><th scope=col>V1</th><th scope=col>V2</th><th scope=col>V3</th><th scope=col>V4</th><th scope=col>V5</th><th scope=col>V6</th><th scope=col>V7</th><th scope=col>V8</th><th scope=col>V9</th><th scope=col>V10</th><th scope=col>V11</th><th scope=col>V12</th><th scope=col>V13</th><th scope=col>V14</th></tr></thead>\n",
       "<tbody>\n",
       "\t<tr><td>0.00632</td><td>18     </td><td>2.31   </td><td>0      </td><td>0.538  </td><td>6.575  </td><td>65.2   </td><td>4.0900 </td><td>1      </td><td>296    </td><td>15.3   </td><td>396.90 </td><td>4.98   </td><td>24.0   </td></tr>\n",
       "\t<tr><td>0.02731</td><td> 0     </td><td>7.07   </td><td>0      </td><td>0.469  </td><td>6.421  </td><td>78.9   </td><td>4.9671 </td><td>2      </td><td>242    </td><td>17.8   </td><td>396.90 </td><td>9.14   </td><td>21.6   </td></tr>\n",
       "\t<tr><td>0.02729</td><td> 0     </td><td>7.07   </td><td>0      </td><td>0.469  </td><td>7.185  </td><td>61.1   </td><td>4.9671 </td><td>2      </td><td>242    </td><td>17.8   </td><td>392.83 </td><td>4.03   </td><td>34.7   </td></tr>\n",
       "\t<tr><td>0.03237</td><td> 0     </td><td>2.18   </td><td>0      </td><td>0.458  </td><td>6.998  </td><td>45.8   </td><td>6.0622 </td><td>3      </td><td>222    </td><td>18.7   </td><td>394.63 </td><td>2.94   </td><td>33.4   </td></tr>\n",
       "\t<tr><td>0.06905</td><td> 0     </td><td>2.18   </td><td>0      </td><td>0.458  </td><td>7.147  </td><td>54.2   </td><td>6.0622 </td><td>3      </td><td>222    </td><td>18.7   </td><td>396.90 </td><td>5.33   </td><td>36.2   </td></tr>\n",
       "\t<tr><td>0.02985</td><td> 0     </td><td>2.18   </td><td>0      </td><td>0.458  </td><td>6.430  </td><td>58.7   </td><td>6.0622 </td><td>3      </td><td>222    </td><td>18.7   </td><td>394.12 </td><td>5.21   </td><td>28.7   </td></tr>\n",
       "</tbody>\n",
       "</table>\n"
      ],
      "text/latex": [
       "\\begin{tabular}{r|llllllllllllll}\n",
       " V1 & V2 & V3 & V4 & V5 & V6 & V7 & V8 & V9 & V10 & V11 & V12 & V13 & V14\\\\\n",
       "\\hline\n",
       "\t 0.00632 & 18      & 2.31    & 0       & 0.538   & 6.575   & 65.2    & 4.0900  & 1       & 296     & 15.3    & 396.90  & 4.98    & 24.0   \\\\\n",
       "\t 0.02731 &  0      & 7.07    & 0       & 0.469   & 6.421   & 78.9    & 4.9671  & 2       & 242     & 17.8    & 396.90  & 9.14    & 21.6   \\\\\n",
       "\t 0.02729 &  0      & 7.07    & 0       & 0.469   & 7.185   & 61.1    & 4.9671  & 2       & 242     & 17.8    & 392.83  & 4.03    & 34.7   \\\\\n",
       "\t 0.03237 &  0      & 2.18    & 0       & 0.458   & 6.998   & 45.8    & 6.0622  & 3       & 222     & 18.7    & 394.63  & 2.94    & 33.4   \\\\\n",
       "\t 0.06905 &  0      & 2.18    & 0       & 0.458   & 7.147   & 54.2    & 6.0622  & 3       & 222     & 18.7    & 396.90  & 5.33    & 36.2   \\\\\n",
       "\t 0.02985 &  0      & 2.18    & 0       & 0.458   & 6.430   & 58.7    & 6.0622  & 3       & 222     & 18.7    & 394.12  & 5.21    & 28.7   \\\\\n",
       "\\end{tabular}\n"
      ],
      "text/plain": [
       "  V1      V2 V3   V4 V5    V6    V7   V8     V9 V10 V11  V12    V13  V14 \n",
       "1 0.00632 18 2.31 0  0.538 6.575 65.2 4.0900 1  296 15.3 396.90 4.98 24.0\n",
       "2 0.02731  0 7.07 0  0.469 6.421 78.9 4.9671 2  242 17.8 396.90 9.14 21.6\n",
       "3 0.02729  0 7.07 0  0.469 7.185 61.1 4.9671 2  242 17.8 392.83 4.03 34.7\n",
       "4 0.03237  0 2.18 0  0.458 6.998 45.8 6.0622 3  222 18.7 394.63 2.94 33.4\n",
       "5 0.06905  0 2.18 0  0.458 7.147 54.2 6.0622 3  222 18.7 396.90 5.33 36.2\n",
       "6 0.02985  0 2.18 0  0.458 6.430 58.7 6.0622 3  222 18.7 394.12 5.21 28.7"
      ]
     },
     "metadata": {},
     "output_type": "display_data"
    }
   ],
   "source": [
    "# Execute your code for question 3 here\n",
    "# -------------------------------------\n",
    "housing_data <- read.table(\"../../../datasets/housing/housing.txt\")\n",
    "head(housing_data)\n"
   ]
  },
  {
   "cell_type": "markdown",
   "metadata": {},
   "source": [
    "** Save your notebook **"
   ]
  },
  {
   "cell_type": "code",
   "execution_count": null,
   "metadata": {
    "collapsed": true
   },
   "outputs": [],
   "source": [
    "# SAVE NOTEBOOK BEFORE RUNNING CELL\n",
    "library(git2r)\n",
    "repo <- repository('../../..')\n",
    "add(repo, 'Extra_Exercises.ipynb')   \n",
    "commit(repo,\"This is my first commit, Activities 1-3\")"
   ]
  },
  {
   "cell_type": "markdown",
   "metadata": {},
   "source": [
    "**Question 4**:  Draw scatter plots between MEDV and all other independent variables using ggplot2 library and grid.arrange() function in gridExtra library. "
   ]
  },
  {
   "cell_type": "code",
   "execution_count": null,
   "metadata": {
    "collapsed": false
   },
   "outputs": [],
   "source": [
    "# Execute your code for question 4 here\n",
    "# -------------------------------------\n"
   ]
  },
  {
   "cell_type": "markdown",
   "metadata": {},
   "source": [
    "**Question 5**: Identify the variables which have a correlation of $\\pm 0.45$  with MEDV. \n",
    "\n",
    "Hint: cor.test() gives lot of statistics. The only thing we are interested in right now is the correlation coefficient. So you can print exactly what you want instead of bunch of information it returns. For eg: use the command as \"cor.test(variable A,variable B)[4]\". The value at 4th position in the list command returns as output contains the correletaion coefficient. It keeps your output consice."
   ]
  },
  {
   "cell_type": "code",
   "execution_count": null,
   "metadata": {
    "collapsed": false
   },
   "outputs": [],
   "source": [
    "# Execute your code for question 5 here\n",
    "# -------------------------------------\n",
    "\n"
   ]
  },
  {
   "cell_type": "markdown",
   "metadata": {},
   "source": [
    "````\n",
    "\n",
    "    Answer for question 5 (pairs of variables)\n",
    "    \n",
    "````"
   ]
  },
  {
   "cell_type": "markdown",
   "metadata": {},
   "source": [
    "**Question 6**: Draw individual scatter plots for variables which are identified in above question."
   ]
  },
  {
   "cell_type": "code",
   "execution_count": null,
   "metadata": {
    "collapsed": false
   },
   "outputs": [],
   "source": [
    "# Execute your code for question 6 here\n",
    "# -------------------------------------\n",
    "\n"
   ]
  },
  {
   "cell_type": "markdown",
   "metadata": {},
   "source": [
    "** Save your notebook**"
   ]
  },
  {
   "cell_type": "code",
   "execution_count": null,
   "metadata": {
    "collapsed": true
   },
   "outputs": [],
   "source": [
    "# SAVE NOTEBOOK BEFORE RUNNING CELL\n",
    "library(git2r)\n",
    "repo <- repository('../../..')\n",
    "add(repo, 'Extra_Exercises.ipynb')   \n",
    "commit(repo,\"This is my second commit, Activities 4-6\")"
   ]
  },
  {
   "cell_type": "markdown",
   "metadata": {},
   "source": [
    "The scatter plot between MEDV and RM has caught my attention. Lete see what is interesting about it. "
   ]
  },
  {
   "cell_type": "code",
   "execution_count": null,
   "metadata": {
    "collapsed": false
   },
   "outputs": [],
   "source": [
    "ggplot(housing,aes(x=MEDV, y=RM))+geom_point()"
   ]
  },
  {
   "cell_type": "markdown",
   "metadata": {},
   "source": [
    "When we look at the median value of house there seems to exist some outliers that are set to $50,000 for 16 rows. They could be outliers in the dataset. \n",
    "\n",
    "**Question 7**: Remove the rows from the dataset where the MEDV value is set to $50,000. "
   ]
  },
  {
   "cell_type": "code",
   "execution_count": null,
   "metadata": {
    "collapsed": false
   },
   "outputs": [],
   "source": [
    "# Execute your code for question 7 here\n",
    "# -------------------------------------\n",
    "\n"
   ]
  },
  {
   "cell_type": "markdown",
   "metadata": {},
   "source": [
    "**Question 8**: Draw a scatter plot with RM on x-axis, MEDV on y-axis. Feed INDUS to size parameter and TAX to color parameter."
   ]
  },
  {
   "cell_type": "code",
   "execution_count": null,
   "metadata": {
    "collapsed": true
   },
   "outputs": [],
   "source": [
    "# Execute your code for question 8 here\n",
    "# -------------------------------------\n"
   ]
  },
  {
   "cell_type": "markdown",
   "metadata": {},
   "source": [
    "We want to include LSTAT and PTRATIO variables in the map because both have a correlation of  more than 50%. But we can only use shape parameter as our fifth dimension. Variables INDUS and TAX tell us the same story. If there are more industries in the area, the taxes will be high. So we will exclude TAX from our analysis.\n",
    "\n",
    "**Question 9**: Draw a scatter plot with LSTAT on x-axis, MEDV on y-axis. Feed INDUS to size parameter and RM to shape parameter and PTRATIO to color parameter."
   ]
  },
  {
   "cell_type": "code",
   "execution_count": null,
   "metadata": {
    "collapsed": true
   },
   "outputs": [],
   "source": [
    "# Execute your code for question 9 here\n",
    "# -------------------------------------\n"
   ]
  },
  {
   "cell_type": "markdown",
   "metadata": {},
   "source": [
    "# SAVE YOUR NOTEBOOK\n",
    "\n",
    "The next cell is the final commit of work!"
   ]
  },
  {
   "cell_type": "code",
   "execution_count": null,
   "metadata": {
    "collapsed": true
   },
   "outputs": [],
   "source": [
    "# SAVE NOTEBOOK BEFORE RUNNING CELL\n",
    "library(git2r)\n",
    "repo <- repository('../../..')\n",
    "add(repo, 'Extra_Exercises.ipynb')   # Yes we add it again... we have another round of changes to record\n",
    "commit(repo,\"Notebook Complete\")\n",
    "summary(repo)"
   ]
  }
 ],
 "metadata": {
  "kernelspec": {
   "display_name": "R",
   "language": "R",
   "name": "ir"
  },
  "language_info": {
   "codemirror_mode": "r",
   "file_extension": ".r",
   "mimetype": "text/x-r-source",
   "name": "R",
   "pygments_lexer": "r",
   "version": "3.3.1"
  }
 },
 "nbformat": 4,
 "nbformat_minor": 0
}
