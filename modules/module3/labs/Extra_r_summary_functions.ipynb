{
 "cells": [
  {
   "cell_type": "markdown",
   "metadata": {},
   "source": [
    "# Lab 3 - Extra ways to summarize data with R\n"
   ]
  },
  {
   "cell_type": "markdown",
   "metadata": {},
   "source": [
    "## Summarizing vectors\n",
    "\n",
    "As we have seen in modules 1 and 2, vectors are summarized using measures of central tendency and variability. \n",
    "We will look into other descriptive statistics for summarizing the vectors. \n",
    "We will work with the same kings county housing porices dataset."
   ]
  },
  {
   "cell_type": "code",
   "execution_count": 2,
   "metadata": {
    "collapsed": true
   },
   "outputs": [],
   "source": [
    "housing_prices <- read.csv(\"../../../datasets/house_sales_in_king_county/kc_house_data.csv\")"
   ]
  },
  {
   "cell_type": "markdown",
   "metadata": {},
   "source": [
    "apply(), lapply(), sapply(), tapply(), ddply() are some of the summarizing functions you can use to apply functions on columns.\n",
    "Let's look into each of them. "
   ]
  },
  {
   "cell_type": "code",
   "execution_count": 3,
   "metadata": {
    "collapsed": false
   },
   "outputs": [
    {
     "data": {
      "text/html": [
       "<dl class=dl-horizontal>\n",
       "\t<dt>id</dt>\n",
       "\t\t<dd>4580301520.86499</dd>\n",
       "\t<dt>price</dt>\n",
       "\t\t<dd>540088.141766529</dd>\n",
       "\t<dt>bedrooms</dt>\n",
       "\t\t<dd>3.37084162309721</dd>\n",
       "\t<dt>bathrooms</dt>\n",
       "\t\t<dd>2.11475732198214</dd>\n",
       "\t<dt>sqft_living</dt>\n",
       "\t\t<dd>2079.89973626984</dd>\n",
       "\t<dt>sqft_lot</dt>\n",
       "\t\t<dd>15106.9675658169</dd>\n",
       "\t<dt>floors</dt>\n",
       "\t\t<dd>1.49430898070606</dd>\n",
       "\t<dt>waterfront</dt>\n",
       "\t\t<dd>0.00754175727571369</dd>\n",
       "\t<dt>view</dt>\n",
       "\t\t<dd>0.234303428492111</dd>\n",
       "\t<dt>condition</dt>\n",
       "\t\t<dd>3.40942951001712</dd>\n",
       "\t<dt>grade</dt>\n",
       "\t\t<dd>7.6568731781798</dd>\n",
       "\t<dt>sqft_above</dt>\n",
       "\t\t<dd>1788.39069078795</dd>\n",
       "\t<dt>sqft_basement</dt>\n",
       "\t\t<dd>291.509045481886</dd>\n",
       "\t<dt>yr_built</dt>\n",
       "\t\t<dd>1971.0051357979</dd>\n",
       "\t<dt>yr_renovated</dt>\n",
       "\t\t<dd>84.4022579003378</dd>\n",
       "\t<dt>zipcode</dt>\n",
       "\t\t<dd>98077.9398047471</dd>\n",
       "\t<dt>lat</dt>\n",
       "\t\t<dd>47.5600525193171</dd>\n",
       "\t<dt>long</dt>\n",
       "\t\t<dd>-122.213896404941</dd>\n",
       "\t<dt>sqft_living15</dt>\n",
       "\t\t<dd>1986.55249155601</dd>\n",
       "\t<dt>sqft_lot15</dt>\n",
       "\t\t<dd>12768.4556516911</dd>\n",
       "</dl>\n"
      ],
      "text/latex": [
       "\\begin{description*}\n",
       "\\item[id] 4580301520.86499\n",
       "\\item[price] 540088.141766529\n",
       "\\item[bedrooms] 3.37084162309721\n",
       "\\item[bathrooms] 2.11475732198214\n",
       "\\item[sqft\\textbackslash{}\\_living] 2079.89973626984\n",
       "\\item[sqft\\textbackslash{}\\_lot] 15106.9675658169\n",
       "\\item[floors] 1.49430898070606\n",
       "\\item[waterfront] 0.00754175727571369\n",
       "\\item[view] 0.234303428492111\n",
       "\\item[condition] 3.40942951001712\n",
       "\\item[grade] 7.6568731781798\n",
       "\\item[sqft\\textbackslash{}\\_above] 1788.39069078795\n",
       "\\item[sqft\\textbackslash{}\\_basement] 291.509045481886\n",
       "\\item[yr\\textbackslash{}\\_built] 1971.0051357979\n",
       "\\item[yr\\textbackslash{}\\_renovated] 84.4022579003378\n",
       "\\item[zipcode] 98077.9398047471\n",
       "\\item[lat] 47.5600525193171\n",
       "\\item[long] -122.213896404941\n",
       "\\item[sqft\\textbackslash{}\\_living15] 1986.55249155601\n",
       "\\item[sqft\\textbackslash{}\\_lot15] 12768.4556516911\n",
       "\\end{description*}\n"
      ],
      "text/markdown": [
       "id\n",
       ":   4580301520.86499price\n",
       ":   540088.141766529bedrooms\n",
       ":   3.37084162309721bathrooms\n",
       ":   2.11475732198214sqft_living\n",
       ":   2079.89973626984sqft_lot\n",
       ":   15106.9675658169floors\n",
       ":   1.49430898070606waterfront\n",
       ":   0.00754175727571369view\n",
       ":   0.234303428492111condition\n",
       ":   3.40942951001712grade\n",
       ":   7.6568731781798sqft_above\n",
       ":   1788.39069078795sqft_basement\n",
       ":   291.509045481886yr_built\n",
       ":   1971.0051357979yr_renovated\n",
       ":   84.4022579003378zipcode\n",
       ":   98077.9398047471lat\n",
       ":   47.5600525193171long\n",
       ":   -122.213896404941sqft_living15\n",
       ":   1986.55249155601sqft_lot15\n",
       ":   12768.4556516911\n",
       "\n"
      ],
      "text/plain": [
       "           id         price      bedrooms     bathrooms   sqft_living \n",
       " 4.580302e+09  5.400881e+05  3.370842e+00  2.114757e+00  2.079900e+03 \n",
       "     sqft_lot        floors    waterfront          view     condition \n",
       " 1.510697e+04  1.494309e+00  7.541757e-03  2.343034e-01  3.409430e+00 \n",
       "        grade    sqft_above sqft_basement      yr_built  yr_renovated \n",
       " 7.656873e+00  1.788391e+03  2.915090e+02  1.971005e+03  8.440226e+01 \n",
       "      zipcode           lat          long sqft_living15    sqft_lot15 \n",
       " 9.807794e+04  4.756005e+01 -1.222139e+02  1.986552e+03  1.276846e+04 "
      ]
     },
     "metadata": {},
     "output_type": "display_data"
    }
   ],
   "source": [
    "#Apply function used to apply a function to the rows or columns of a matrix. It collapses either a row or column. \n",
    "apply(housing_prices[,!names(housing_prices) %in% c('date','colors')], 2, mean)\n",
    "\n",
    "# colMeans, rowMeans, colSums, rowSums are functions you can use if you want to do averages on a matrix columns or rows. \n",
    "# It is much quicker using this functions."
   ]
  },
  {
   "cell_type": "code",
   "execution_count": 4,
   "metadata": {
    "collapsed": false
   },
   "outputs": [
    {
     "data": {
      "text/html": [
       "<table>\n",
       "<thead><tr><th scope=col>id</th><th scope=col>date</th><th scope=col>price</th><th scope=col>bedrooms</th><th scope=col>bathrooms</th><th scope=col>sqft_living</th><th scope=col>sqft_lot</th><th scope=col>floors</th><th scope=col>waterfront</th><th scope=col>view</th><th scope=col>⋯</th><th scope=col>grade</th><th scope=col>sqft_above</th><th scope=col>sqft_basement</th><th scope=col>yr_built</th><th scope=col>yr_renovated</th><th scope=col>zipcode</th><th scope=col>lat</th><th scope=col>long</th><th scope=col>sqft_living15</th><th scope=col>sqft_lot15</th></tr></thead>\n",
       "<tbody>\n",
       "\t<tr><td>7129300520     </td><td>20141013T000000</td><td> 221900        </td><td>3              </td><td>1.00           </td><td>1180           </td><td>  5650         </td><td>1              </td><td>0              </td><td>0              </td><td>⋯              </td><td> 7             </td><td>1180           </td><td>   0           </td><td>1955           </td><td>   0           </td><td>98178          </td><td>47.5112        </td><td>-122.257       </td><td>1340           </td><td>  5650         </td></tr>\n",
       "\t<tr><td>6414100192     </td><td>20141209T000000</td><td> 538000        </td><td>3              </td><td>2.25           </td><td>2570           </td><td>  7242         </td><td>2              </td><td>0              </td><td>0              </td><td>⋯              </td><td> 7             </td><td>2170           </td><td> 400           </td><td>1951           </td><td>1991           </td><td>98125          </td><td>47.7210        </td><td>-122.319       </td><td>1690           </td><td>  7639         </td></tr>\n",
       "\t<tr><td>5631500400     </td><td>20150225T000000</td><td> 180000        </td><td>2              </td><td>1.00           </td><td> 770           </td><td> 10000         </td><td>1              </td><td>0              </td><td>0              </td><td>⋯              </td><td> 6             </td><td> 770           </td><td>   0           </td><td>1933           </td><td>   0           </td><td>98028          </td><td>47.7379        </td><td>-122.233       </td><td>2720           </td><td>  8062         </td></tr>\n",
       "\t<tr><td>2487200875     </td><td>20141209T000000</td><td> 604000        </td><td>4              </td><td>3.00           </td><td>1960           </td><td>  5000         </td><td>1              </td><td>0              </td><td>0              </td><td>⋯              </td><td> 7             </td><td>1050           </td><td> 910           </td><td>1965           </td><td>   0           </td><td>98136          </td><td>47.5208        </td><td>-122.393       </td><td>1360           </td><td>  5000         </td></tr>\n",
       "\t<tr><td>1954400510     </td><td>20150218T000000</td><td> 510000        </td><td>3              </td><td>2.00           </td><td>1680           </td><td>  8080         </td><td>1              </td><td>0              </td><td>0              </td><td>⋯              </td><td> 8             </td><td>1680           </td><td>   0           </td><td>1987           </td><td>   0           </td><td>98074          </td><td>47.6168        </td><td>-122.045       </td><td>1800           </td><td>  7503         </td></tr>\n",
       "\t<tr><td>7237550310     </td><td>20140512T000000</td><td>1225000        </td><td>4              </td><td>4.50           </td><td>5420           </td><td>101930         </td><td>1              </td><td>0              </td><td>0              </td><td>⋯              </td><td>11             </td><td>3890           </td><td>1530           </td><td>2001           </td><td>   0           </td><td>98053          </td><td>47.6561        </td><td>-122.005       </td><td>4760           </td><td>101930         </td></tr>\n",
       "</tbody>\n",
       "</table>\n"
      ],
      "text/latex": [
       "\\begin{tabular}{r|lllllllllllllllllllll}\n",
       " id & date & price & bedrooms & bathrooms & sqft\\_living & sqft\\_lot & floors & waterfront & view & ⋯ & grade & sqft\\_above & sqft\\_basement & yr\\_built & yr\\_renovated & zipcode & lat & long & sqft\\_living15 & sqft\\_lot15\\\\\n",
       "\\hline\n",
       "\t 7129300520      & 20141013T000000 &  221900         & 3               & 1.00            & 1180            &   5650          & 1               & 0               & 0               & ⋯               &  7              & 1180            &    0            & 1955            &    0            & 98178           & 47.5112         & -122.257        & 1340            &   5650         \\\\\n",
       "\t 6414100192      & 20141209T000000 &  538000         & 3               & 2.25            & 2570            &   7242          & 2               & 0               & 0               & ⋯               &  7              & 2170            &  400            & 1951            & 1991            & 98125           & 47.7210         & -122.319        & 1690            &   7639         \\\\\n",
       "\t 5631500400      & 20150225T000000 &  180000         & 2               & 1.00            &  770            &  10000          & 1               & 0               & 0               & ⋯               &  6              &  770            &    0            & 1933            &    0            & 98028           & 47.7379         & -122.233        & 2720            &   8062         \\\\\n",
       "\t 2487200875      & 20141209T000000 &  604000         & 4               & 3.00            & 1960            &   5000          & 1               & 0               & 0               & ⋯               &  7              & 1050            &  910            & 1965            &    0            & 98136           & 47.5208         & -122.393        & 1360            &   5000         \\\\\n",
       "\t 1954400510      & 20150218T000000 &  510000         & 3               & 2.00            & 1680            &   8080          & 1               & 0               & 0               & ⋯               &  8              & 1680            &    0            & 1987            &    0            & 98074           & 47.6168         & -122.045        & 1800            &   7503         \\\\\n",
       "\t 7237550310      & 20140512T000000 & 1225000         & 4               & 4.50            & 5420            & 101930          & 1               & 0               & 0               & ⋯               & 11              & 3890            & 1530            & 2001            &    0            & 98053           & 47.6561         & -122.005        & 4760            & 101930         \\\\\n",
       "\\end{tabular}\n"
      ],
      "text/plain": [
       "  id         date            price   bedrooms bathrooms sqft_living sqft_lot\n",
       "1 7129300520 20141013T000000  221900 3        1.00      1180          5650  \n",
       "2 6414100192 20141209T000000  538000 3        2.25      2570          7242  \n",
       "3 5631500400 20150225T000000  180000 2        1.00       770         10000  \n",
       "4 2487200875 20141209T000000  604000 4        3.00      1960          5000  \n",
       "5 1954400510 20150218T000000  510000 3        2.00      1680          8080  \n",
       "6 7237550310 20140512T000000 1225000 4        4.50      5420        101930  \n",
       "  floors waterfront view ⋯ grade sqft_above sqft_basement yr_built yr_renovated\n",
       "1 1      0          0    ⋯  7    1180          0          1955        0        \n",
       "2 2      0          0    ⋯  7    2170        400          1951     1991        \n",
       "3 1      0          0    ⋯  6     770          0          1933        0        \n",
       "4 1      0          0    ⋯  7    1050        910          1965        0        \n",
       "5 1      0          0    ⋯  8    1680          0          1987        0        \n",
       "6 1      0          0    ⋯ 11    3890       1530          2001        0        \n",
       "  zipcode lat     long     sqft_living15 sqft_lot15\n",
       "1 98178   47.5112 -122.257 1340            5650    \n",
       "2 98125   47.7210 -122.319 1690            7639    \n",
       "3 98028   47.7379 -122.233 2720            8062    \n",
       "4 98136   47.5208 -122.393 1360            5000    \n",
       "5 98074   47.6168 -122.045 1800            7503    \n",
       "6 98053   47.6561 -122.005 4760          101930    "
      ]
     },
     "metadata": {},
     "output_type": "display_data"
    }
   ],
   "source": [
    "head(housing_prices)"
   ]
  },
  {
   "cell_type": "code",
   "execution_count": null,
   "metadata": {
    "collapsed": true
   },
   "outputs": [],
   "source": [
    "#Lets create a list using variables bedrooms and bathrooms of housing_prices dataset.\n",
    "x=list(housing_prices$bedrooms,housing_prices$bathrooms)"
   ]
  },
  {
   "cell_type": "code",
   "execution_count": null,
   "metadata": {
    "collapsed": false
   },
   "outputs": [],
   "source": [
    "#lapply() is used When you want to apply a function to each element of a list. A list of values is returned back for every \n",
    "#element of the list\n",
    "lapply(x, FUN = mean)"
   ]
  },
  {
   "cell_type": "code",
   "execution_count": null,
   "metadata": {
    "collapsed": false
   },
   "outputs": [],
   "source": [
    "#sapply() is used When you want to apply a function to each element of a list. In return you will get a vector rather than a list\n",
    "    \n",
    "#Since date is a factor variable. You cannot apply mean() on it. We have to exclude it from dataframe.\n",
    "sapply(housing_prices[,!names(housing_prices) %in% c('date','colors')], mean)"
   ]
  },
  {
   "cell_type": "code",
   "execution_count": null,
   "metadata": {
    "collapsed": false
   },
   "outputs": [],
   "source": [
    "#mapply() - when we have several data structures (e.g. vectors, lists) and we want to apply a function to the 1st \n",
    "#elements of each, and then the 2nd elements of each, etc.. The result is coerced into a vector/array as in sapply.\n",
    "\n",
    "#For example in our dataset we want there are different variables measuring different areas like sqft_living, sqft_lot, \n",
    "#sqft_above,sqft_basement, sqft_living15, sqft_lot15. If we want to find total area then we can use this function.\n",
    "\n",
    "result = mapply(sum, housing_prices$sqft_living, housing_prices$sqft_lot,housing_prices$sqft_above,housing_prices$sqft_basement, \n",
    "       housing_prices$sqft_living15, housing_prices$sqft_lot15)\n",
    "head(result)"
   ]
  },
  {
   "cell_type": "markdown",
   "metadata": {},
   "source": [
    "If you are confused how these values are generated, look at below cells couple of rows are worked for you. So the values of the six variables are added for each row. "
   ]
  },
  {
   "cell_type": "code",
   "execution_count": null,
   "metadata": {
    "collapsed": false
   },
   "outputs": [],
   "source": [
    "head(housing_prices)"
   ]
  },
  {
   "cell_type": "code",
   "execution_count": null,
   "metadata": {
    "collapsed": false
   },
   "outputs": [],
   "source": [
    "#If you sum up the \n",
    "1180+5650+1180+0+1340+5650\n",
    "2570+7242+2170+400+1690+7639"
   ]
  },
  {
   "cell_type": "code",
   "execution_count": null,
   "metadata": {
    "collapsed": false
   },
   "outputs": [],
   "source": [
    "#tapply() - You should be familiar with tapply by now. You will this function when you want to apply a function to subsets \n",
    "#of a vector and the subsets are defined by some other vector, usually a factor.\n",
    "\n",
    "#For example, we want to know the average price of homes for each number of bedrooms in the house.\n",
    "t(tapply(housing_prices$price,housing_prices$bedrooms,mean))"
   ]
  },
  {
   "cell_type": "markdown",
   "metadata": {},
   "source": [
    "#### By\n",
    "------\n",
    "tapply can be used to summarize one variable based on another variable. But what if we want to summarize many variables. By is like an extended version of tapply() command.\n"
   ]
  },
  {
   "cell_type": "code",
   "execution_count": null,
   "metadata": {
    "collapsed": false
   },
   "outputs": [],
   "source": [
    "byviews <- by(housing_prices[,c('price','sqft_living')], housing_prices$view, summary)\n",
    "byviews"
   ]
  },
  {
   "cell_type": "markdown",
   "metadata": {},
   "source": [
    "### 2-way tables\n",
    "------\n",
    "2-way tables are very informative. In above table, we have the distribution of bathrooms for every count of bedrooms. It is very detailed and the sums of columns and rows are displayed which indicate number of bedrooms or bathrooms with a specific number. "
   ]
  },
  {
   "cell_type": "code",
   "execution_count": null,
   "metadata": {
    "collapsed": false,
    "scrolled": true
   },
   "outputs": [],
   "source": [
    "#Below command will produce a 2-way table with distribution count of every combination between bedrooms and bathrooms. \n",
    "#addmargins() will give the summary or sum of this counts at the end of both x and y axis.\n",
    "bed_vs_bath = table(housing_prices$bedrooms,housing_prices$bathrooms)\n",
    "addmargins(bed_vs_bath)"
   ]
  },
  {
   "cell_type": "markdown",
   "metadata": {},
   "source": [
    "Down below is an extended version of table command adding 3rd dimension to 2-way table. We can see same information as above but for every kind of view(0,1,2,3,4)"
   ]
  },
  {
   "cell_type": "code",
   "execution_count": null,
   "metadata": {
    "collapsed": false
   },
   "outputs": [],
   "source": [
    "bed_bath_view <- xtabs(~bedrooms+bathrooms+view, data=housing_prices)\n",
    "bed_bath_view"
   ]
  },
  {
   "cell_type": "code",
   "execution_count": null,
   "metadata": {
    "collapsed": false
   },
   "outputs": [],
   "source": [
    "#The stat.desc() function gives an elaborate descriptive statistics of input object. Most of the statistics are commonly used ones\n",
    "library(pastecs)\n",
    "options(scipen=999)\n",
    "stat.desc(housing_prices)"
   ]
  },
  {
   "cell_type": "code",
   "execution_count": null,
   "metadata": {
    "collapsed": false
   },
   "outputs": [],
   "source": [
    "#Aggregate works just like groupby in sql. Here we are grouping data based on bedrooms. WE are interested in columns price, \n",
    "#bathrooms and  sqft_living. Finally applying mean function on this subset of data for every group of data(i'e number of bedrooms)\n",
    "\n",
    "aggregate(housing_prices[c(\"price\",\"bathrooms\",\"sqft_living\")],by=list(bedrooms=housing_prices$bedrooms), mean)"
   ]
  }
 ],
 "metadata": {
  "kernelspec": {
   "display_name": "R",
   "language": "R",
   "name": "ir"
  },
  "language_info": {
   "codemirror_mode": "r",
   "file_extension": ".r",
   "mimetype": "text/x-r-source",
   "name": "R",
   "pygments_lexer": "r",
   "version": "3.3.1"
  }
 },
 "nbformat": 4,
 "nbformat_minor": 0
}
